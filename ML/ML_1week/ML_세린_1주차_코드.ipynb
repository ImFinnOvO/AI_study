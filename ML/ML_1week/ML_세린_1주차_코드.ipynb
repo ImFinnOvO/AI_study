{
  "nbformat": 4,
  "nbformat_minor": 0,
  "metadata": {
    "colab": {
      "name": "ML_세린_1주차_코드.ipynb",
      "provenance": [],
      "collapsed_sections": []
    },
    "kernelspec": {
      "name": "python3",
      "display_name": "Python 3"
    },
    "language_info": {
      "name": "python"
    }
  },
  "cells": [
    {
      "cell_type": "markdown",
      "metadata": {
        "id": "uWvigxqG6jNP"
      },
      "source": [
        "P 14. 넘파이 ndarray 개요"
      ]
    },
    {
      "cell_type": "code",
      "metadata": {
        "colab": {
          "base_uri": "https://localhost:8080/"
        },
        "id": "nogrIGuu65b7",
        "outputId": "e029f7e8-5206-4ea2-bedb-abfa838e29a4"
      },
      "source": [
        "import numpy as np\n",
        "array1 = np.array([1, 2, 3])\n",
        "print('array1 type:', type(array1))\n",
        "print('array1 array 형태:', array1.shape)\n",
        "\n",
        "array2 = np.array([[1, 2, 3], \n",
        "                  [2, 3, 4]])\n",
        "print('array2 type:', type(array2))\n",
        "print('array2 array 형태:', array2.shape)\n",
        "\n",
        "array3 = np.array([[1, 2, 3]])\n",
        "print('array3 type:', type(array3))\n",
        "print('array3 array 형태:', array3.shape)"
      ],
      "execution_count": null,
      "outputs": [
        {
          "output_type": "stream",
          "name": "stdout",
          "text": [
            "array1 type: <class 'numpy.ndarray'>\n",
            "array1 array 형태: (3,)\n",
            "array2 type: <class 'numpy.ndarray'>\n",
            "array2 array 형태: (2, 3)\n",
            "array3 type: <class 'numpy.ndarray'>\n",
            "array3 array 형태: (1, 3)\n"
          ]
        }
      ]
    },
    {
      "cell_type": "code",
      "metadata": {
        "colab": {
          "base_uri": "https://localhost:8080/"
        },
        "id": "4PxinZ9r8PGC",
        "outputId": "0ea9b313-9b25-48ef-f443-259abf084093"
      },
      "source": [
        "print('array1 : {:0}차원, array2 : {:1}차원, array3 : {:2}차원'.format(array1.ndim,\n",
        "                                                                 array2.ndim, array3.ndim))"
      ],
      "execution_count": null,
      "outputs": [
        {
          "output_type": "stream",
          "name": "stdout",
          "text": [
            "array1 : 1차원, array2 : 2차원, array3 :  2차원\n"
          ]
        }
      ]
    },
    {
      "cell_type": "markdown",
      "metadata": {
        "id": "qorBRZck9of6"
      },
      "source": [
        "P 16. ndarry의 데이터 타입"
      ]
    },
    {
      "cell_type": "code",
      "metadata": {
        "colab": {
          "base_uri": "https://localhost:8080/"
        },
        "id": "db2gzSQE-jay",
        "outputId": "ebe01b3e-6d53-4250-f322-3439b49b1c0d"
      },
      "source": [
        "list1 = [1,2,3]\n",
        "print(type(list1))\n",
        "array1 = np.array(list1)\n",
        "print(type(array1))\n",
        "print(array1, array1.dtype)"
      ],
      "execution_count": null,
      "outputs": [
        {
          "output_type": "stream",
          "name": "stdout",
          "text": [
            "<class 'list'>\n",
            "<class 'numpy.ndarray'>\n",
            "[1 2 3] int64\n"
          ]
        }
      ]
    },
    {
      "cell_type": "code",
      "metadata": {
        "colab": {
          "base_uri": "https://localhost:8080/"
        },
        "id": "bcM7LD-pB2vQ",
        "outputId": "3c653bca-692c-4e2a-8f22-756b04c63209"
      },
      "source": [
        "list2 = [1, 2, 'test']\n",
        "array2 = np.array(list2)\n",
        "print(array2, array2.dtype)\n",
        "\n",
        "list3 = [1, 2, 3, 0]\n",
        "array3 = np.array(list3)\n",
        "print(array3, array3.dtype)"
      ],
      "execution_count": null,
      "outputs": [
        {
          "output_type": "stream",
          "name": "stdout",
          "text": [
            "['1' '2' 'test'] <U21\n",
            "[1 2 3 0] int64\n"
          ]
        }
      ]
    },
    {
      "cell_type": "code",
      "metadata": {
        "colab": {
          "base_uri": "https://localhost:8080/"
        },
        "id": "R_GHOx01DBff",
        "outputId": "9ce69e15-f1e7-48b4-b326-592dcec089f4"
      },
      "source": [
        "array_int = np.array([1, 2, 3])\n",
        "array_float = array_int.astype('float64')\n",
        "print(array_float, array_float.dtype)\n",
        "\n",
        "array_int1= array_float.astype('int32')\n",
        "print(array_int1, array_int1.dtype)\n",
        "\n",
        "array_float1= np.array([1.1, 2.1, 3.1])\n",
        "array_int2= array_float1.astype('int32')\n",
        "print(array_int2, array_int.dtype)"
      ],
      "execution_count": null,
      "outputs": [
        {
          "output_type": "stream",
          "name": "stdout",
          "text": [
            "[1. 2. 3.] float64\n",
            "[1 2 3] int32\n",
            "[1 2 3] int64\n"
          ]
        }
      ]
    },
    {
      "cell_type": "markdown",
      "metadata": {
        "id": "etFSpw1mCerp"
      },
      "source": [
        "P 18. ndarray를 편리하게 생성하기 - arange, zeros, ones"
      ]
    },
    {
      "cell_type": "code",
      "metadata": {
        "colab": {
          "base_uri": "https://localhost:8080/"
        },
        "id": "iscooYxUGwtR",
        "outputId": "f342dfb0-cd13-48a6-89a8-217d443c8670"
      },
      "source": [
        "sequence_array = np.arange(10)\n",
        "print(sequence_array)\n",
        "print(sequence_array.dtype, sequence_array.shape)"
      ],
      "execution_count": null,
      "outputs": [
        {
          "output_type": "stream",
          "name": "stdout",
          "text": [
            "[0 1 2 3 4 5 6 7 8 9]\n",
            "int64 (10,)\n"
          ]
        }
      ]
    },
    {
      "cell_type": "code",
      "metadata": {
        "colab": {
          "base_uri": "https://localhost:8080/"
        },
        "id": "jtNXqtxkHTLa",
        "outputId": "e33ea085-c722-4cc1-ef70-c78c9a905022"
      },
      "source": [
        "zero_array= np.zeros((3, 2), dtype='int32')\n",
        "print(zero_array)\n",
        "print(zero_array.dtype, zero_array.shape)\n",
        "\n",
        "one_array=np.ones((3, 2))\n",
        "print(one_array)\n",
        "print(one_array.dtype, one_array.shape)"
      ],
      "execution_count": null,
      "outputs": [
        {
          "output_type": "stream",
          "name": "stdout",
          "text": [
            "[[0 0]\n",
            " [0 0]\n",
            " [0 0]]\n",
            "int32 (3, 2)\n",
            "[[1. 1.]\n",
            " [1. 1.]\n",
            " [1. 1.]]\n",
            "float64 (3, 2)\n"
          ]
        }
      ]
    },
    {
      "cell_type": "markdown",
      "metadata": {
        "id": "96tD9LtOIEIm"
      },
      "source": [
        "P 20. ndarray의 차원과 크기를 변경하는 reshape()"
      ]
    },
    {
      "cell_type": "code",
      "metadata": {
        "colab": {
          "base_uri": "https://localhost:8080/"
        },
        "id": "4APhNheIJ4OW",
        "outputId": "bd559b52-66d4-4d54-c325-5172c5c11b5a"
      },
      "source": [
        "array1 = np.arange(10)\n",
        "print('array1: \\n', array1)\n",
        "\n",
        "array2 = array1.reshape(2, 5)\n",
        "print('array2: \\n', array2)\n",
        "\n",
        "array3 = array1.reshape(5, 2)\n",
        "print('array3: \\n', array3)"
      ],
      "execution_count": null,
      "outputs": [
        {
          "output_type": "stream",
          "name": "stdout",
          "text": [
            "array1: \n",
            " [0 1 2 3 4 5 6 7 8 9]\n",
            "array2: \n",
            " [[0 1 2 3 4]\n",
            " [5 6 7 8 9]]\n",
            "array3: \n",
            " [[0 1]\n",
            " [2 3]\n",
            " [4 5]\n",
            " [6 7]\n",
            " [8 9]]\n"
          ]
        }
      ]
    },
    {
      "cell_type": "code",
      "metadata": {
        "colab": {
          "base_uri": "https://localhost:8080/"
        },
        "id": "pIfnjYS5KVU7",
        "outputId": "fd8fb50d-a175-4ffa-fef1-d28a19d8c65a"
      },
      "source": [
        "array1 = np.arange(10)\n",
        "print(array1)\n",
        "array2 = array1.reshape(-1, 5)\n",
        "print('array2 shape:', array2.shape)\n",
        "array3 = array1.reshape(5, -1)\n",
        "print('array3 shape:', array3.shape)"
      ],
      "execution_count": null,
      "outputs": [
        {
          "output_type": "stream",
          "name": "stdout",
          "text": [
            "[0 1 2 3 4 5 6 7 8 9]\n",
            "array2 shape: (2, 5)\n",
            "array3 shape: (5, 2)\n"
          ]
        }
      ]
    },
    {
      "cell_type": "code",
      "metadata": {
        "colab": {
          "base_uri": "https://localhost:8080/"
        },
        "id": "sg3LWLlUK_-w",
        "outputId": "f5038aee-2f89-4137-a04d-23529ac76d1a"
      },
      "source": [
        "array1 = np.arange(8)\n",
        "array3d = array1.reshape((2, 2, 2))\n",
        "print('array3d:\\n', array3d.tolist())\n",
        "\n",
        "# 3 차원 ndarray를 2차원 ndarray로 변환\n",
        "array5 = array3d.reshape(-1, 1)\n",
        "print('array5 :\\n', array5.tolist())\n",
        "print('array5 shape:', array5.shape)\n",
        "\n",
        "# 1차원 ndarray를 2차원 ndarray로 변환\n",
        "array6 = array1.reshape(-1,1)\n",
        "print('array6:\\n', array6.tolist())\n",
        "print('array6 shape:', array6.shape)"
      ],
      "execution_count": null,
      "outputs": [
        {
          "output_type": "stream",
          "name": "stdout",
          "text": [
            "array3d:\n",
            " [[[0, 1], [2, 3]], [[4, 5], [6, 7]]]\n",
            "array5 :\n",
            " [[0], [1], [2], [3], [4], [5], [6], [7]]\n",
            "array5 shape: (8, 1)\n",
            "array6:\n",
            " [[0], [1], [2], [3], [4], [5], [6], [7]]\n",
            "array6 shape: (8, 1)\n"
          ]
        }
      ]
    },
    {
      "cell_type": "markdown",
      "metadata": {
        "id": "LJrtmsz_NBJW"
      },
      "source": [
        "P 23. 단일 값 추출하기"
      ]
    },
    {
      "cell_type": "code",
      "metadata": {
        "id": "g-ySTsFxPOSz",
        "colab": {
          "base_uri": "https://localhost:8080/"
        },
        "outputId": "95a4bfdc-a255-46a7-9ca2-3cc9fa867ecb"
      },
      "source": [
        "# 1부터 9까지의 1차원 ndarray 생성\n",
        "array1 = np.arange(start = 1, stop = 10)\n",
        "print('array1:', array1)\n",
        "#index는 0부터 시작하므로 array1[2]는 3번째 index 위치의 데이터값을 의미\n",
        "value = array1[2]\n",
        "print('value:', value)\n",
        "print(type(value))"
      ],
      "execution_count": null,
      "outputs": [
        {
          "output_type": "stream",
          "name": "stdout",
          "text": [
            "array1: [1 2 3 4 5 6 7 8 9]\n",
            "value: 3\n",
            "<class 'numpy.int64'>\n"
          ]
        }
      ]
    },
    {
      "cell_type": "code",
      "metadata": {
        "colab": {
          "base_uri": "https://localhost:8080/"
        },
        "id": "SkbrUvWai3JF",
        "outputId": "4767c0e5-3eb5-4f9c-d19a-8e0ccba66dec"
      },
      "source": [
        "print('맨 뒤의 값:', array1[-1], '맨 뒤에서 두번째 값:', array1[-2])"
      ],
      "execution_count": null,
      "outputs": [
        {
          "output_type": "stream",
          "name": "stdout",
          "text": [
            "맨 뒤의 값: 9 맨 뒤에서 두번째 값: 8\n"
          ]
        }
      ]
    },
    {
      "cell_type": "code",
      "metadata": {
        "colab": {
          "base_uri": "https://localhost:8080/"
        },
        "id": "A6IhB84-jvE2",
        "outputId": "fb22489f-4c7c-4790-ac1d-01cb7a2673b3"
      },
      "source": [
        "array1[0]=9\n",
        "array1[8]=0\n",
        "print('array1:', array1)"
      ],
      "execution_count": null,
      "outputs": [
        {
          "output_type": "stream",
          "name": "stdout",
          "text": [
            "array1: [9 2 3 4 5 6 7 8 0]\n"
          ]
        }
      ]
    },
    {
      "cell_type": "code",
      "metadata": {
        "colab": {
          "base_uri": "https://localhost:8080/"
        },
        "id": "2DBSrn8TkIcK",
        "outputId": "76e74853-b497-423e-a8ea-20f3786475d7"
      },
      "source": [
        "array1d = np.arange(start=1, stop=10)\n",
        "array2d = array1d.reshape(3,3)\n",
        "print(array2d)\n",
        "\n",
        "print('(row=0, col=0) index 가리키는 값:', array2d[0,0])\n",
        "print('(row=0, col=1) index 가리키는 값:', array2d[0,1])\n",
        "print('(row=1, col=0) index 가리키는 값:', array2d[1,0])\n",
        "print('(row=2, col=2) index 가리키는 값:', array2d[2,2])"
      ],
      "execution_count": null,
      "outputs": [
        {
          "output_type": "stream",
          "name": "stdout",
          "text": [
            "[[1 2 3]\n",
            " [4 5 6]\n",
            " [7 8 9]]\n",
            "(row=0, col=0) index 가리키는 값: 1\n",
            "(row=0, col=1) index 가리키는 값: 2\n",
            "(row=1, col=0) index 가리키는 값: 4\n",
            "(row=2, col=2) index 가리키는 값: 9\n"
          ]
        }
      ]
    },
    {
      "cell_type": "markdown",
      "metadata": {
        "id": "WthZk9jXk0Xr"
      },
      "source": [
        "P 26. 슬라이싱"
      ]
    },
    {
      "cell_type": "code",
      "metadata": {
        "colab": {
          "base_uri": "https://localhost:8080/"
        },
        "id": "4wEIga89k92J",
        "outputId": "ca70e7b1-f9b8-4889-8dce-be82e19c03c0"
      },
      "source": [
        "array1 = np.arange(start=1, stop=10)\n",
        "array3 = array1[0:3]\n",
        "print(array3)\n",
        "print(type(array3))"
      ],
      "execution_count": null,
      "outputs": [
        {
          "output_type": "stream",
          "name": "stdout",
          "text": [
            "[1 2 3]\n",
            "<class 'numpy.ndarray'>\n"
          ]
        }
      ]
    },
    {
      "cell_type": "code",
      "metadata": {
        "colab": {
          "base_uri": "https://localhost:8080/"
        },
        "id": "jNOeyyKGlM_Y",
        "outputId": "8cf89be5-5821-427b-e7b4-93fa1cc1703e"
      },
      "source": [
        "array1= np.arange(start=1, stop=10)\n",
        "array4 = array1[:3]\n",
        "print(array4)\n",
        "\n",
        "array5 = array1[3:]\n",
        "print(array5)\n",
        "\n",
        "array6 = array1[:]\n",
        "print(array6)"
      ],
      "execution_count": null,
      "outputs": [
        {
          "output_type": "stream",
          "name": "stdout",
          "text": [
            "[1 2 3]\n",
            "[4 5 6 7 8 9]\n",
            "[1 2 3 4 5 6 7 8 9]\n"
          ]
        }
      ]
    },
    {
      "cell_type": "code",
      "metadata": {
        "colab": {
          "base_uri": "https://localhost:8080/"
        },
        "id": "H8ep9zwXlo4O",
        "outputId": "5816f7ef-97fa-469d-9dcc-84a722a66cf6"
      },
      "source": [
        "array1d = np.arange(start=1, stop=10)\n",
        "array2d = array1d.reshape(3, 3)\n",
        "print('array2d:\\n', array2d)\n",
        "\n",
        "print('array2d[0:2, 0:2] \\n', array2d[0:2, 0:2])\n",
        "print('array2d[1:3, 0:3] \\n', array2d[1:3, 0:3])\n",
        "print('array2d[1:3, :] \\n', array2d[0:3, :])\n",
        "print('array2d[:, :] \\n', array2d[:, :])\n",
        "print('array2d[:2, 1:] \\n', array2d[:2, 1:])\n",
        "print('array2d[:2, 0] \\n', array2d[:2, 0])"
      ],
      "execution_count": null,
      "outputs": [
        {
          "output_type": "stream",
          "name": "stdout",
          "text": [
            "array2d:\n",
            " [[1 2 3]\n",
            " [4 5 6]\n",
            " [7 8 9]]\n",
            "array2d[0:2, 0:2] \n",
            " [[1 2]\n",
            " [4 5]]\n",
            "array2d[1:3, 0:3] \n",
            " [[4 5 6]\n",
            " [7 8 9]]\n",
            "array2d[1:3, :] \n",
            " [[1 2 3]\n",
            " [4 5 6]\n",
            " [7 8 9]]\n",
            "array2d[:, :] \n",
            " [[1 2 3]\n",
            " [4 5 6]\n",
            " [7 8 9]]\n",
            "array2d[:2, 1:] \n",
            " [[2 3]\n",
            " [5 6]]\n",
            "array2d[:2, 0] \n",
            " [1 4]\n"
          ]
        }
      ]
    },
    {
      "cell_type": "code",
      "metadata": {
        "colab": {
          "base_uri": "https://localhost:8080/"
        },
        "id": "yS04TjWpm7pE",
        "outputId": "4a2963d8-09bb-4348-ec21-d84d530742d1"
      },
      "source": [
        "print(array2d[0])\n",
        "print(array2d[1])\n",
        "print('array2d[0] shape:', array2d[0].shape, 'array2d[1] shape:', array2d[1].shape)"
      ],
      "execution_count": null,
      "outputs": [
        {
          "output_type": "stream",
          "name": "stdout",
          "text": [
            "[1 2 3]\n",
            "[4 5 6]\n",
            "array2d[0] shape: (3,) array2d[1] shape: (3,)\n"
          ]
        }
      ]
    },
    {
      "cell_type": "code",
      "metadata": {
        "colab": {
          "base_uri": "https://localhost:8080/"
        },
        "id": "Oz39osDInez8",
        "outputId": "346426e9-9783-47f9-fbf4-762099ca5d81"
      },
      "source": [
        "array1d = np.arange(start=1, stop=10)\n",
        "array2d = array1d.reshape(3,3)\n",
        "\n",
        "array3 = array2d[[0,1], 2]\n",
        "print('array2d[[0,1], 2] => ', array3.tolist())\n",
        "\n",
        "array4 = array2d[[0,1], 0:2]\n",
        "print('array2d[[0,1], 0:2] => ', array4.tolist())\n",
        "\n",
        "array5 = array2d[[0, 1]]\n",
        "print('array2d[0,1] => ', array5.tolist())"
      ],
      "execution_count": null,
      "outputs": [
        {
          "output_type": "stream",
          "name": "stdout",
          "text": [
            "array2d[[0,1], 2] =>  [3, 6]\n",
            "array2d[[0,1], 0:2] =>  [[1, 2], [4, 5]]\n",
            "array2d[0,1] =>  [[1, 2, 3], [4, 5, 6]]\n"
          ]
        }
      ]
    },
    {
      "cell_type": "markdown",
      "metadata": {
        "id": "9zeabosVpODR"
      },
      "source": [
        "P 31. 불린 인덱싱"
      ]
    },
    {
      "cell_type": "code",
      "metadata": {
        "colab": {
          "base_uri": "https://localhost:8080/"
        },
        "id": "NeKOIOevpSzz",
        "outputId": "86f742e5-519a-440b-80f2-087b5da9d2c1"
      },
      "source": [
        "array1d = np.arange(start = 1, stop =10)\n",
        "# [] 안에 array1d > 5 Boolean indexing을 적용\n",
        "array3 = array1d[array1d > 5]\n",
        "print('array1d>5 불린 인덱싱 결과 값: ', array3)"
      ],
      "execution_count": null,
      "outputs": [
        {
          "output_type": "stream",
          "name": "stdout",
          "text": [
            "array1d>5 불린 인덱싱 결과 값:  [6 7 8 9]\n"
          ]
        }
      ]
    },
    {
      "cell_type": "code",
      "metadata": {
        "colab": {
          "base_uri": "https://localhost:8080/"
        },
        "id": "h8fBlEY3p3Ag",
        "outputId": "293f2549-e18e-4fbd-e57b-9942b959a48a"
      },
      "source": [
        "array1d>5"
      ],
      "execution_count": null,
      "outputs": [
        {
          "output_type": "execute_result",
          "data": {
            "text/plain": [
              "array([False, False, False, False, False,  True,  True,  True,  True])"
            ]
          },
          "metadata": {},
          "execution_count": 49
        }
      ]
    },
    {
      "cell_type": "code",
      "metadata": {
        "colab": {
          "base_uri": "https://localhost:8080/"
        },
        "id": "TzZ9Gei9p7Do",
        "outputId": "79b41ba1-e6fe-4c91-d32e-4afcb9c3b2a9"
      },
      "source": [
        "bolean_indexes = np.array([False, False, False, False, False,  True,  True,  True,  True])\n",
        "array3 = array1d[bolean_indexes]\n",
        "print('불린 인덱싱 필터링 결과 :', array3)"
      ],
      "execution_count": null,
      "outputs": [
        {
          "output_type": "stream",
          "name": "stdout",
          "text": [
            "불린 인덱싱 필터링 결과 : [6 7 8 9]\n"
          ]
        }
      ]
    },
    {
      "cell_type": "code",
      "metadata": {
        "colab": {
          "base_uri": "https://localhost:8080/"
        },
        "id": "vouSS0NUqW2D",
        "outputId": "8ef7b9dc-4e27-4d07-d5f3-5913feca2a27"
      },
      "source": [
        "indexes = np.array([5,6,7,8])\n",
        "array4 = array1d[indexes]\n",
        "print('일반 인덱스로 필터링 결과 :', array4)"
      ],
      "execution_count": null,
      "outputs": [
        {
          "output_type": "stream",
          "name": "stdout",
          "text": [
            "일반 인덱스로 필터링 결과 : [6 7 8 9]\n"
          ]
        }
      ]
    },
    {
      "cell_type": "code",
      "metadata": {
        "id": "WxVGcJcyqnhP"
      },
      "source": [
        ""
      ],
      "execution_count": null,
      "outputs": []
    }
  ]
}