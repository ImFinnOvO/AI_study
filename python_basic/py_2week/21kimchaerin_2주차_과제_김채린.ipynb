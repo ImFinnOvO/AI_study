{
  "nbformat": 4,
  "nbformat_minor": 0,
  "metadata": {
    "colab": {
      "name": "21kimchaerin_2주차 과제_김채린",
      "provenance": [],
      "collapsed_sections": [],
      "include_colab_link": true
    },
    "kernelspec": {
      "display_name": "Python 3",
      "name": "python3"
    }
  },
  "cells": [
    {
      "cell_type": "markdown",
      "metadata": {
        "id": "view-in-github",
        "colab_type": "text"
      },
      "source": [
        "<a href=\"https://colab.research.google.com/github/sweetcide/AI_study/blob/main/21kimchaerin_2%EC%A3%BC%EC%B0%A8_%EA%B3%BC%EC%A0%9C_%EA%B9%80%EC%B1%84%EB%A6%B0.ipynb\" target=\"_parent\"><img src=\"https://colab.research.google.com/assets/colab-badge.svg\" alt=\"Open In Colab\"/></a>"
      ]
    },
    {
      "cell_type": "markdown",
      "metadata": {
        "id": "JYn2jQUsn-ik"
      },
      "source": [
        "# **<직접 해보는 손코딩>**"
      ]
    },
    {
      "cell_type": "markdown",
      "metadata": {
        "id": "lbVxPiMAGJgb"
      },
      "source": [
        "p.52"
      ]
    },
    {
      "cell_type": "markdown",
      "metadata": {
        "id": "xGG-OYSwn9SZ"
      },
      "source": [
        ""
      ]
    },
    {
      "cell_type": "code",
      "metadata": {
        "colab": {
          "base_uri": "https://localhost:8080/"
        },
        "id": "jWahE2QLH_Dl",
        "outputId": "b5ba13df-0ceb-4741-ccef-94d121b14e23"
      },
      "source": [
        "print(\"이름\\t나이\\t지역\")\n",
        "print(\"윤인성\\t25\\t강서구\")\n",
        "print(\"윤아린\\t24\\t강서구\")\n",
        "print(\"구름\\t3\\t강서구\")"
      ],
      "execution_count": null,
      "outputs": [
        {
          "output_type": "stream",
          "name": "stdout",
          "text": [
            "이름\t나이\t지역\n",
            "윤인성\t25\t강서구\n",
            "윤아린\t24\t강서구\n",
            "구름\t3\t강서구\n"
          ]
        }
      ]
    },
    {
      "cell_type": "markdown",
      "metadata": {
        "id": "PzcdlP0BJHDP"
      },
      "source": [
        "p.57"
      ]
    },
    {
      "cell_type": "code",
      "metadata": {
        "id": "vmyFos36JMzf",
        "colab": {
          "base_uri": "https://localhost:8080/"
        },
        "outputId": "6d156590-e988-42dd-9e1f-ae1eab683c28"
      },
      "source": [
        "print(\"문자 선택 연산자에 대해 알아볼까요?\")\n",
        "print(\"안녕하세요\"[0])\n",
        "print(\"안녕하세요\"[1])\n",
        "print(\"안녕하세요\"[2])\n",
        "print(\"안녕하세요\"[3])\n",
        "print(\"안녕하세요\"[4])\n"
      ],
      "execution_count": null,
      "outputs": [
        {
          "output_type": "stream",
          "name": "stdout",
          "text": [
            "문자 선택 연산자에 대해 알아볼까요?\n",
            "안\n",
            "녕\n",
            "하\n",
            "세\n",
            "요\n"
          ]
        }
      ]
    },
    {
      "cell_type": "markdown",
      "metadata": {
        "id": "GyvwU1jRKshe"
      },
      "source": [
        "p.58\n"
      ]
    },
    {
      "cell_type": "code",
      "metadata": {
        "colab": {
          "base_uri": "https://localhost:8080/"
        },
        "id": "PGS4QxVJKz6W",
        "outputId": "ada28369-55a2-4c54-ba8d-90fa69af0a91"
      },
      "source": [
        "print(\"문자를 뒤에서부터 선택해 볼까요?\") \n",
        "print(\"안녕하세요\"[-1]) \n",
        "print(\"안녕하세요\"[-2])\n",
        "print(\"안녕하세요\"[-3])\n",
        "print(\"안녕하세요\"[-4]) \n",
        "print(\"안녕하세요\"[-5]) "
      ],
      "execution_count": null,
      "outputs": [
        {
          "output_type": "stream",
          "name": "stdout",
          "text": [
            "문자를 뒤에서부터 선택해 볼까요?\n",
            "요\n",
            "세\n",
            "하\n",
            "녕\n",
            "안\n"
          ]
        }
      ]
    },
    {
      "cell_type": "markdown",
      "metadata": {
        "id": "LbzoweajTCbi"
      },
      "source": [
        "+연산"
      ]
    },
    {
      "cell_type": "code",
      "metadata": {
        "colab": {
          "base_uri": "https://localhost:8080/"
        },
        "id": "MjxWhijzTDHr",
        "outputId": "8dd33be0-082f-4e25-b993-36a91ad4b068"
      },
      "source": [
        "# 연산자\n",
        "\n",
        "print(\"5+7 = \", 5+7)    # 더하기\n",
        "print(\"7-5 = \", 7-5)    # 빼기\n",
        "print(\"5*7 = \", 5*7)    # 곱하기\n",
        "print(\"5/7 = \", 5/7)    # 나누기\n",
        "print(\"5//7 = \", 5//7)  # 몫"
      ],
      "execution_count": null,
      "outputs": [
        {
          "output_type": "stream",
          "name": "stdout",
          "text": [
            "5+7 =  12\n",
            "7-5 =  2\n",
            "5*7 =  35\n",
            "5/7 =  0.7142857142857143\n",
            "5//7 =  0\n"
          ]
        }
      ]
    },
    {
      "cell_type": "markdown",
      "metadata": {
        "id": "8xngaZqeNX3x"
      },
      "source": [
        "p.77\n"
      ]
    },
    {
      "cell_type": "code",
      "metadata": {
        "colab": {
          "base_uri": "https://localhost:8080/"
        },
        "id": "W35xw44MNsan",
        "outputId": "8812e676-b336-4272-95ad-4794f676197e"
      },
      "source": [
        "# 변수 선언과 할당\n",
        "pi = 3.14159265\n",
        "r = 10\n",
        "\n",
        "# 변수 참조\n",
        "print(\"원주율 =\", pi) \n",
        "print(\"반지름 =\", r) \n",
        "print(\"원의 둘레 =\", 2*pi*r) \n",
        "print(\"원의 넓이 =\", pi*r*r) "
      ],
      "execution_count": null,
      "outputs": [
        {
          "output_type": "stream",
          "name": "stdout",
          "text": [
            "원주율 = 3.14159265\n",
            "반지름 = 10\n",
            "원의 둘레 = 62.831853\n",
            "원의 넓이 = 314.159265\n"
          ]
        }
      ]
    },
    {
      "cell_type": "markdown",
      "metadata": {
        "id": "x5lViKv7SCeL"
      },
      "source": [
        "p.82"
      ]
    },
    {
      "cell_type": "code",
      "metadata": {
        "colab": {
          "base_uri": "https://localhost:8080/"
        },
        "id": "NjILTmXjSIqc",
        "outputId": "58feaf9b-635b-4144-eaee-9423a7af1708"
      },
      "source": [
        "# 입력을 받습니다.\n",
        "string = input(\"입력>\")\n",
        "\n",
        "# 출력합니다.\n",
        "print(\"자료:\", string)\n",
        "print(\"자료형:\", type(string))"
      ],
      "execution_count": null,
      "outputs": [
        {
          "output_type": "stream",
          "name": "stdout",
          "text": [
            "입력>52273\n",
            "자료: 52273\n",
            "자료형: <class 'str'>\n"
          ]
        }
      ]
    },
    {
      "cell_type": "code",
      "metadata": {
        "colab": {
          "base_uri": "https://localhost:8080/"
        },
        "id": "ibCEZ31oT3xh",
        "outputId": "3b0b85d0-ad4f-4036-a308-98d22dfe21e9"
      },
      "source": [
        "# 입력을 받습니다.\n",
        "string = input(\"입력>\")\n",
        "\n",
        "# 출력합니다.\n",
        "print(\"자료:\", string)\n",
        "print(\"자료형:\", type(string))"
      ],
      "execution_count": null,
      "outputs": [
        {
          "output_type": "stream",
          "name": "stdout",
          "text": [
            "입력> True\n",
            "자료:  True\n",
            "자료형: <class 'str'>\n"
          ]
        }
      ]
    },
    {
      "cell_type": "markdown",
      "metadata": {
        "id": "OLCI5WNnT_qE"
      },
      "source": [
        "p.83"
      ]
    },
    {
      "cell_type": "code",
      "metadata": {
        "colab": {
          "base_uri": "https://localhost:8080/"
        },
        "id": "xO9gIXC1UG2a",
        "outputId": "729b2182-8069-4064-c07b-0f11ff8500bd"
      },
      "source": [
        "string_a = input(\"입력A> \")\n",
        "int_a = int(string_a)\n",
        "\n",
        "string_b = input(\"입력B> \")\n",
        "int_b = int(string_b)\n",
        "\n",
        "print(\"문자열 자료:\", string_a + string_b)\n",
        "print(\"숫자 자료:\", int_a + int_b)"
      ],
      "execution_count": null,
      "outputs": [
        {
          "output_type": "stream",
          "name": "stdout",
          "text": [
            "입력A>  273\n",
            "입력B>  52\n",
            "문자열 자료:  273 52\n",
            "숫자 자료: 325\n"
          ]
        }
      ]
    },
    {
      "cell_type": "markdown",
      "metadata": {
        "id": "LX0SWNJeUdqD"
      },
      "source": [
        "p.84"
      ]
    },
    {
      "cell_type": "code",
      "metadata": {
        "colab": {
          "base_uri": "https://localhost:8080/"
        },
        "id": "XATqV6oTUhBz",
        "outputId": "3253a1b1-a98b-4c91-cec4-0542faf100e9"
      },
      "source": [
        "output_a = int(\"52\")\n",
        "output_b = float(\"52.273\")\n",
        "\n",
        "print(type(output_a), output_a)\n",
        "print(type(output_b), output_b) "
      ],
      "execution_count": null,
      "outputs": [
        {
          "output_type": "stream",
          "name": "stdout",
          "text": [
            "<class 'int'> 52\n",
            "<class 'float'> 52.273\n"
          ]
        }
      ]
    },
    {
      "cell_type": "markdown",
      "metadata": {
        "id": "uufcy5miUsML"
      },
      "source": [
        "p.84"
      ]
    },
    {
      "cell_type": "code",
      "metadata": {
        "colab": {
          "base_uri": "https://localhost:8080/"
        },
        "id": "H6QBcRWnUuXB",
        "outputId": "cdfab807-4f7b-43f7-a5a8-0ee444d18b3c"
      },
      "source": [
        "input_a = float(input(\"첫 번째 숫자> \"))\n",
        "input_b = float(input(\"두 번째 숫자> \" ))\n",
        "\n",
        "print(\"덧셈결과:\", input_a + input_b)\n",
        "print(\"뺄셈결과:\", input_a - input_b)\n",
        "print(\"곱셈결과:\", input_a * input_b)\n",
        "print(\"나눗셈결과:\", input_a / input_b) "
      ],
      "execution_count": null,
      "outputs": [
        {
          "output_type": "stream",
          "name": "stdout",
          "text": [
            "첫 번째 숫자>  273\n",
            "두 번째 숫자>  52\n",
            "덧셈결과: 325.0\n",
            "뺄셈결과: 221.0\n",
            "곱셈결과: 14196.0\n",
            "나눗셈결과: 5.25\n"
          ]
        }
      ]
    },
    {
      "cell_type": "markdown",
      "metadata": {
        "id": "YbPUjaFOU71_"
      },
      "source": [
        "p.86"
      ]
    },
    {
      "cell_type": "code",
      "metadata": {
        "colab": {
          "base_uri": "https://localhost:8080/"
        },
        "id": "lJF7nfCRU-ys",
        "outputId": "e6c16b2b-d50f-45b0-985f-9215ba973326"
      },
      "source": [
        "output_a = str(52)\n",
        "output_b = str(52.273)\n",
        "print(type(output_a), output_a)\n",
        "print(type(output_b), output_b)"
      ],
      "execution_count": null,
      "outputs": [
        {
          "output_type": "stream",
          "name": "stdout",
          "text": [
            "<class 'str'> 52\n",
            "<class 'str'> 52.273\n"
          ]
        }
      ]
    },
    {
      "cell_type": "markdown",
      "metadata": {
        "id": "Yofd-lCCVJmh"
      },
      "source": [
        "p.93"
      ]
    },
    {
      "cell_type": "code",
      "metadata": {
        "colab": {
          "base_uri": "https://localhost:8080/"
        },
        "id": "N-AFjEEaVNid",
        "outputId": "58d942ef-d12e-4987-fc99-e72bfb2c2849"
      },
      "source": [
        "# format() 함수로 숫자를 문자열로 변환하기 \n",
        "string_a = \"{}\".format(10) \n",
        "\n",
        "#출력하기\n",
        "print(string_a)\n",
        "print(type(string_a)) "
      ],
      "execution_count": null,
      "outputs": [
        {
          "output_type": "stream",
          "name": "stdout",
          "text": [
            "10\n",
            "<class 'str'>\n"
          ]
        }
      ]
    },
    {
      "cell_type": "markdown",
      "metadata": {
        "id": "QBz0uHx7VtIE"
      },
      "source": [
        "p.94"
      ]
    },
    {
      "cell_type": "code",
      "metadata": {
        "colab": {
          "base_uri": "https://localhost:8080/"
        },
        "id": "aZdtR1SeVwXk",
        "outputId": "79e37433-35f2-43bc-9e9a-52c5b2d64307"
      },
      "source": [
        "# format() 함수로 숫자를 문자열로 변환하기\n",
        "format_a = \"{}만 원\".format(5000)\n",
        "format_b = \"파이썬 열공하여 첫 연봉 {}만 원 만들기 \".format(5000)\n",
        "format_c = \"{} {} {}\".format(3000, 4000, 5000)\n",
        "format_d = \"{} {} {}\".format(1, \"문자열\", True)\n",
        "\n",
        "# 출력하기\n",
        "print(format_a)\n",
        "print(format_b)\n",
        "print(format_c)\n",
        "print(format_d)"
      ],
      "execution_count": null,
      "outputs": [
        {
          "output_type": "stream",
          "name": "stdout",
          "text": [
            "5000만 원\n",
            "파이썬 열공하여 첫 연봉 5000만 원 만들기 \n",
            "3000 4000 5000\n",
            "1 문자열 True\n"
          ]
        }
      ]
    },
    {
      "cell_type": "markdown",
      "metadata": {
        "id": "yv6F1rRtWWPr"
      },
      "source": [
        "p.95"
      ]
    },
    {
      "cell_type": "code",
      "metadata": {
        "colab": {
          "base_uri": "https://localhost:8080/"
        },
        "id": "pgybG0DwWYXU",
        "outputId": "f73489f0-f5b4-4843-8446-83bf36262d82"
      },
      "source": [
        "# 정수\n",
        "output_a = \"{:d}\".format(52)\n",
        "\n",
        "# 특정 칸에 출력하기\n",
        "output_b = \"{:5d}\".format(52)   # 5칸\n",
        "output_c = \"{:10d}\".format(52)    # 10칸\n",
        "\n",
        "# 빈칸을 0으로 채우기\n",
        "output_d = \"{:05d}\".format(52)    # 양수\n",
        "output_e = \"{:05d}\".format(-52)   # 음수\n",
        "\n",
        "print(\"# 기본\")\n",
        "print(output_a)\n",
        "print(\"# 특정 칸에 출력하기\")\n",
        "print(output_b)\n",
        "print(output_c)\n",
        "print(\"# 빈칸을 0으로 채우기\")\n",
        "print(output_d)\n",
        "print(output_e)"
      ],
      "execution_count": null,
      "outputs": [
        {
          "output_type": "stream",
          "name": "stdout",
          "text": [
            "# 기본\n",
            "52\n",
            "# 특정 칸에 출력하기\n",
            "   52\n",
            "        52\n",
            "# 빈칸을 0으로 채우기\n",
            "00052\n",
            "-0052\n"
          ]
        }
      ]
    },
    {
      "cell_type": "markdown",
      "metadata": {
        "id": "MlVCpYosW4HF"
      },
      "source": [
        "p.96"
      ]
    },
    {
      "cell_type": "code",
      "metadata": {
        "colab": {
          "base_uri": "https://localhost:8080/"
        },
        "id": "UIBE4cl1W7DI",
        "outputId": "2e17f04c-0c9f-4479-a869-5ef873bd9e07"
      },
      "source": [
        "# 기호와 함께 출력하기\n",
        "output_f = \"{:+d}\".format(52)   # 양수\n",
        "output_g = \"{:+d}\".format(-52)  # 음수\n",
        "output_h = \"{: d}\".format(52)   # 양수 : 기호 부분 공백\n",
        "output_i = \"{: d}\".format(-52)  # 음수 : 기호 부분 공백\n",
        "\n",
        "print(\"# 기호와 함께 출력하기\")\n",
        "print(output_f)\n",
        "print(output_g)\n",
        "print(output_h)\n",
        "print(output_i)"
      ],
      "execution_count": null,
      "outputs": [
        {
          "output_type": "stream",
          "name": "stdout",
          "text": [
            "# 기호와 함께 출력하기\n",
            "+52\n",
            "-52\n",
            " 52\n",
            "-52\n"
          ]
        }
      ]
    },
    {
      "cell_type": "markdown",
      "metadata": {
        "id": "1Q9z00OkYkWV"
      },
      "source": [
        "p.97"
      ]
    },
    {
      "cell_type": "code",
      "metadata": {
        "colab": {
          "base_uri": "https://localhost:8080/"
        },
        "id": "6PrZAb3zYohK",
        "outputId": "17f5d0d6-a797-44b7-deac-6f80678e83f0"
      },
      "source": [
        "# 조합하기\n",
        "output_h = \"{:+5d}\".format(52)   # 기호를 뒤로 밀기 : 양수\n",
        "output_i = \"{:+5d}\".format(-52)  # 기호를 뒤로 밀기 : 음수\n",
        "output_j = \"{:=+5d}\".format(52)  # 기호를 앞으로 밀기 : 양수\n",
        "output_k = \"{:=+5d}\".format(-52) # 기호를 앞으로 밀기 : 음수\n",
        "output_l = \"{:+05d}\".format(52)  # 0으로 채우기 : 양수\n",
        "output_m = \"{:+05d}\".format(-52) # 0으로 채우기 : 음수\n",
        "\n",
        "print(\"# 조합하기\")\n",
        "print(output_h)\n",
        "print(output_i)\n",
        "print(output_j)\n",
        "print(output_k)\n",
        "print(output_l)\n",
        "print(output_m)"
      ],
      "execution_count": null,
      "outputs": [
        {
          "output_type": "stream",
          "name": "stdout",
          "text": [
            "# 조합하기\n",
            "  +52\n",
            "  -52\n",
            "+  52\n",
            "-  52\n",
            "+0052\n",
            "-0052\n"
          ]
        }
      ]
    },
    {
      "cell_type": "markdown",
      "metadata": {
        "id": "Sf0hl_SrY7bD"
      },
      "source": [
        "p.98"
      ]
    },
    {
      "cell_type": "code",
      "metadata": {
        "colab": {
          "base_uri": "https://localhost:8080/"
        },
        "id": "wJB-J9QqY9sh",
        "outputId": "64146511-44bd-4954-ed43-add76925fa83"
      },
      "source": [
        "output_a = \"{:f}\".format(52.273)\n",
        "output_b = \"{:15f}\".format(52.273)  # 15칸 만들기\n",
        "output_c = \"{:+15f}\".format(52.273) # 15칸에 부호 추가하기\n",
        "output_d = \"{:+015f}\".format(52.273) # 15칸에 부호 추가하고 0으로 채우기\n",
        "\n",
        "print(output_a)\n",
        "print(output_b)\n",
        "print(output_c)\n",
        "print(output_d)"
      ],
      "execution_count": null,
      "outputs": [
        {
          "output_type": "stream",
          "name": "stdout",
          "text": [
            "52.273000\n",
            "      52.273000\n",
            "     +52.273000\n",
            "+0000052.273000\n"
          ]
        }
      ]
    },
    {
      "cell_type": "markdown",
      "metadata": {
        "id": "lPmA6jFNZarq"
      },
      "source": [
        "p.98"
      ]
    },
    {
      "cell_type": "code",
      "metadata": {
        "colab": {
          "base_uri": "https://localhost:8080/"
        },
        "id": "JnkuxvkWZdTK",
        "outputId": "ade367ab-8235-4046-f61b-16de469cc797"
      },
      "source": [
        "output_a = \"{:15.3f}\".format(52.273)\n",
        "output_b = \"{:15.2f}\".format(52.273)\n",
        "output_c = \"{:15.1f}\".format(52.273)\n",
        "\n",
        "print(output_a)\n",
        "print(output_b)\n",
        "print(output_c)"
      ],
      "execution_count": null,
      "outputs": [
        {
          "output_type": "stream",
          "name": "stdout",
          "text": [
            "         52.273\n",
            "          52.27\n",
            "           52.3\n"
          ]
        }
      ]
    },
    {
      "cell_type": "markdown",
      "metadata": {
        "id": "sT_VE16WZozb"
      },
      "source": [
        "p.99"
      ]
    },
    {
      "cell_type": "code",
      "metadata": {
        "colab": {
          "base_uri": "https://localhost:8080/"
        },
        "id": "LNfXB7fNZqlL",
        "outputId": "baa3f9a2-e812-4e9f-b285-196e6a49863c"
      },
      "source": [
        "output_a = 52.0\n",
        "output_b = \"{:g}\".format(output_a)\n",
        "print(output_a)\n",
        "print(output_b) "
      ],
      "execution_count": null,
      "outputs": [
        {
          "output_type": "stream",
          "name": "stdout",
          "text": [
            "52.0\n",
            "52\n"
          ]
        }
      ]
    },
    {
      "cell_type": "markdown",
      "metadata": {
        "id": "-kuvKaF0aH6w"
      },
      "source": [
        "p.111"
      ]
    },
    {
      "cell_type": "code",
      "metadata": {
        "colab": {
          "base_uri": "https://localhost:8080/"
        },
        "id": "giE0XEUzaQIt",
        "outputId": "207d8d14-46d7-472d-b1b3-bf0ae8016378"
      },
      "source": [
        "x = 10\n",
        "under_20 = x < 20\n",
        "print(\"under_20:\", under_20)\n",
        "print(\"not under_20:\", not under_20)"
      ],
      "execution_count": null,
      "outputs": [
        {
          "output_type": "stream",
          "name": "stdout",
          "text": [
            "under_20: True\n",
            "not under_20: False\n"
          ]
        }
      ]
    },
    {
      "cell_type": "markdown",
      "metadata": {
        "id": "sG_TaWgNaiTv"
      },
      "source": [
        "p.116"
      ]
    },
    {
      "cell_type": "code",
      "metadata": {
        "colab": {
          "base_uri": "https://localhost:8080/"
        },
        "id": "SNyk-IAVamh3",
        "outputId": "00c15440-2e92-492a-94ec-818d2a049e8d"
      },
      "source": [
        "# 입력을 받습니다.\n",
        "number = input(\"정수 입력> \")\n",
        "number = int(number)\n",
        "\n",
        "# 양수 조건\n",
        "if number > 0:\n",
        "   print(\"양수입니다\")\n",
        "\n",
        "# 음수 조건\n",
        "if number < 0:\n",
        "   print(\"음수입니다\")\n",
        "\n",
        "#0 조건\n",
        "if number == 0:\n",
        "   print(\"0입니다\")"
      ],
      "execution_count": null,
      "outputs": [
        {
          "output_type": "stream",
          "name": "stdout",
          "text": [
            "정수 입력>  273\n",
            "양수입니다\n"
          ]
        }
      ]
    },
    {
      "cell_type": "markdown",
      "metadata": {
        "id": "yK-pT_rsa_9g"
      },
      "source": [
        "p.117"
      ]
    },
    {
      "cell_type": "code",
      "metadata": {
        "colab": {
          "base_uri": "https://localhost:8080/"
        },
        "id": "4ZaF5OA_bM-v",
        "outputId": "e783a338-f61e-4292-cd86-b4aa63f0f5d2"
      },
      "source": [
        "# 날짜/시간과 관련된 기능을 가져옵니다.\n",
        "import datetime\n",
        "\n",
        "# 현재 날짜/시간을 구합니다.\n",
        "now = datetime.datetime.now() \n",
        "\n",
        "# 출력합니다.\n",
        "print(now.year, \"년\")\n",
        "print(now.month, \"월\")\n",
        "print(now.day, \"일\")\n",
        "print(now.hour, \"시\")\n",
        "print(now.minute, \"분\")\n",
        "print(now.second, \"초\")"
      ],
      "execution_count": null,
      "outputs": [
        {
          "output_type": "stream",
          "name": "stdout",
          "text": [
            "2021 년\n",
            "9 월\n",
            "22 일\n",
            "17 시\n",
            "1 분\n",
            "56 초\n"
          ]
        }
      ]
    },
    {
      "cell_type": "markdown",
      "metadata": {
        "id": "ev_8e_hScV6g"
      },
      "source": [
        "p.118"
      ]
    },
    {
      "cell_type": "code",
      "metadata": {
        "colab": {
          "base_uri": "https://localhost:8080/",
          "height": 139
        },
        "id": "dWquQf8rdYEr",
        "outputId": "861b9e9c-5acc-4624-bece-d8ff757915c4"
      },
      "source": [
        "# 날짜/시간과 관련된 기능을 가져옵니다.\n",
        "import datetime\n",
        "\n",
        " #현재 날짜/시간을 구합니다.\n",
        " now = datetime.datetime.now()\n",
        "\n",
        " #출력합니다.\n",
        " print(\"{}년 {}월 {}일 {}시 {}분 {}초\".format(\n",
        "     now.year,\n",
        "     now.month,\n",
        "     now.day,\n",
        "     now.hour,\n",
        "     now.minute,\n",
        "     now.second\n",
        "     ))"
      ],
      "execution_count": null,
      "outputs": [
        {
          "output_type": "error",
          "ename": "IndentationError",
          "evalue": "ignored",
          "traceback": [
            "\u001b[0;36m  File \u001b[0;32m\"<ipython-input-49-1c736f1bfd01>\"\u001b[0;36m, line \u001b[0;32m5\u001b[0m\n\u001b[0;31m    now = datetime.datetime.now()\u001b[0m\n\u001b[0m    ^\u001b[0m\n\u001b[0;31mIndentationError\u001b[0m\u001b[0;31m:\u001b[0m unexpected indent\n"
          ]
        }
      ]
    },
    {
      "cell_type": "markdown",
      "metadata": {
        "id": "ZNiZXXqMemDb"
      },
      "source": [
        "p.119"
      ]
    },
    {
      "cell_type": "code",
      "metadata": {
        "colab": {
          "base_uri": "https://localhost:8080/"
        },
        "id": "ze0mFLPUerlT",
        "outputId": "5ce4ae71-6631-43a1-8c9b-668ba22b8410"
      },
      "source": [
        "#날짜/시간과 관련된 기능을 가져옵니다.\n",
        "import datetime\n",
        "\n",
        "#현재 날짜/시간을 구합니다.\n",
        "now = datetime.datetime.now()\n",
        "\n",
        "#오전 구분\n",
        "if now.hour < 12:\n",
        "  print(\"현재 시각은 {}시로 오전입니다!\".format(now.hour))\n",
        "\n",
        "#오후 구분\n",
        "if now.hour >= 12:\n",
        "  print(\"현재 시각은 {}시로 오후입니다!\".format(now.hour))"
      ],
      "execution_count": null,
      "outputs": [
        {
          "output_type": "stream",
          "name": "stdout",
          "text": [
            "현재 시각은 17시로 오후입니다!\n"
          ]
        }
      ]
    },
    {
      "cell_type": "markdown",
      "metadata": {
        "id": "RQn8ECwrfxZ4"
      },
      "source": [
        "p.119"
      ]
    },
    {
      "cell_type": "code",
      "metadata": {
        "colab": {
          "base_uri": "https://localhost:8080/"
        },
        "id": "bygxd2Fhf1kA",
        "outputId": "2ec8c709-8e16-437b-aace-7757504995fb"
      },
      "source": [
        "# 날짜/시간과 관련된 기능을 가져옵니다.\n",
        "import datetime\n",
        "\n",
        "# 현재 날짜/시간을 구합니다.\n",
        "now = datetime.datetime.now()\n",
        "\n",
        "# 봄 구분\n",
        "if 3 <= now.month <=5:\n",
        "    print(\"이번 달은 {}월로 봄입니다!\". format(now.month))\n",
        "\n",
        "# 여름 구분\n",
        "if 6 <= now.month <=8:\n",
        "     print(\"이번 달은 {}월로 여름입니다!\". format(now.month))\n",
        "\n",
        "# 가을 구분\n",
        "if 9 <= now.month <=11:\n",
        "     print(\"이번 달은 {}월로 가을입니다!\". format(now.month))\n",
        "\n",
        "# 겨울 구분\n",
        "if 12 <= now.month <=2:\n",
        "     print(\"이번 달은 {}월로 겨울입니다!\". format(now.month))"
      ],
      "execution_count": null,
      "outputs": [
        {
          "output_type": "stream",
          "name": "stdout",
          "text": [
            "이번 달은 9월로 가을입니다!\n"
          ]
        }
      ]
    },
    {
      "cell_type": "markdown",
      "metadata": {
        "id": "b0I5R_ulgEbf"
      },
      "source": [
        "p.121"
      ]
    },
    {
      "cell_type": "code",
      "metadata": {
        "colab": {
          "base_uri": "https://localhost:8080/"
        },
        "id": "h-z6BlSOgGke",
        "outputId": "7509c778-8528-4dc7-fb51-9aa20fbcad0d"
      },
      "source": [
        "# 입력을 받습니다.\n",
        "number = input(\"정수 입력> \")\n",
        "\n",
        "# 마지막 자리 숫자를 추출\n",
        "last_character = number[-1]\n",
        "\n",
        "# 숫자로 변환하기\n",
        "last_number = int(last_character)\n",
        "\n",
        "# 짝수 확인\n",
        "if last_number == 0 \\\n",
        "    or last_number == 2 \\\n",
        "    or last_number == 4 \\\n",
        "    or last_number == 6 \\\n",
        "    or last_number == 8 :\n",
        "    print(\"짝수입니다\")\n",
        "\n",
        "# 홀수 확인\n",
        "if last_number == 1 \\\n",
        "    or last_number == 3 \\\n",
        "    or last_number == 5 \\\n",
        "    or last_number == 7 \\\n",
        "    or last_number == 9 :\n",
        "    print(\"홀수입니다\")"
      ],
      "execution_count": null,
      "outputs": [
        {
          "output_type": "stream",
          "name": "stdout",
          "text": [
            "정수 입력>  52\n",
            "짝수입니다\n"
          ]
        }
      ]
    },
    {
      "cell_type": "markdown",
      "metadata": {
        "id": "aQEVAPdrgp9k"
      },
      "source": [
        "p.122"
      ]
    },
    {
      "cell_type": "code",
      "metadata": {
        "colab": {
          "base_uri": "https://localhost:8080/"
        },
        "id": "AAq6SToJgzKV",
        "outputId": "0aa2d249-2796-4d1c-8d8a-931b42a5d983"
      },
      "source": [
        "# 입력을 받습니다.\n",
        "number = input(\"정수 입력> \")\n",
        "last_character = number[-1]\n",
        "\n",
        "# 짝수 조건\n",
        "if last_character in \"02468\":\n",
        "    print(\"짝수입니다\")\n",
        "\n",
        "# 홀수 조건\n",
        "if last_character in \"13579\":\n",
        "    print(\"홀수입니다\")"
      ],
      "execution_count": null,
      "outputs": [
        {
          "output_type": "stream",
          "name": "stdout",
          "text": [
            "정수 입력>  52\n",
            "짝수입니다\n"
          ]
        }
      ]
    },
    {
      "cell_type": "markdown",
      "metadata": {
        "id": "7YHGOtWIhFIV"
      },
      "source": [
        "p.123"
      ]
    },
    {
      "cell_type": "code",
      "metadata": {
        "colab": {
          "base_uri": "https://localhost:8080/"
        },
        "id": "eVDUpY5QhH1Q",
        "outputId": "da9fe03a-b578-4cd1-cfb9-db254f0fbded"
      },
      "source": [
        "# 입력을 받습니다.\n",
        "number = input(\"정수 입력> \")\n",
        "number = int(number)\n",
        "\n",
        "# 짝수 조건 \n",
        "if number % 2 == 0:\n",
        "    print(\"짝수입니다\")\n",
        "\n",
        "# 홀수 조건\n",
        "if number % 2 == 1:\n",
        "    print(\"홀수입니다\")"
      ],
      "execution_count": null,
      "outputs": [
        {
          "output_type": "stream",
          "name": "stdout",
          "text": [
            "정수 입력>  52\n",
            "짝수입니다\n"
          ]
        }
      ]
    },
    {
      "cell_type": "markdown",
      "metadata": {
        "id": "-fcGH4XLhZom"
      },
      "source": [
        "p.127"
      ]
    },
    {
      "cell_type": "code",
      "metadata": {
        "colab": {
          "base_uri": "https://localhost:8080/"
        },
        "id": "pjvu0WbeheXb",
        "outputId": "148499a7-5691-4149-f298-f83fdd7e5a29"
      },
      "source": [
        "# 입력을 받습니다.\n",
        "number = input(\"정수 입력> \")\n",
        "number = int(number)\n",
        "\n",
        "# 조건문을 사용합니다.\n",
        "if number % 2 == 0:\n",
        "    # 조건이 참일 때, 즉 짝수 조건\n",
        "    print(\"짝수입니다\")\n",
        "else:\n",
        "    # 조건이 거짓일 때, 즉 홀수 조건\n",
        "    print(\"홀수입니다\")"
      ],
      "execution_count": null,
      "outputs": [
        {
          "output_type": "stream",
          "name": "stdout",
          "text": [
            "정수 입력>  13\n",
            "홀수입니다\n"
          ]
        }
      ]
    },
    {
      "cell_type": "markdown",
      "metadata": {
        "id": "Cm-iuMKvh-HB"
      },
      "source": [
        "p.128"
      ]
    },
    {
      "cell_type": "code",
      "metadata": {
        "colab": {
          "base_uri": "https://localhost:8080/"
        },
        "id": "IDn5ESnsiBMq",
        "outputId": "fcf91167-3c7b-4a94-c279-b0287aa50358"
      },
      "source": [
        "# 날짜/시간과 관련된 기능을 가져옵니다.\n",
        "\n",
        "import datetime\n",
        "\n",
        "# 현재 날짜/시간을 구하고\n",
        "# 쉽게 사용할 수 있게 월을 변수에 저장합니다.\n",
        "now = datetime.datetime.now()\n",
        "month = now.month\n",
        "\n",
        "# 조건문으로 계절을 확인합니다.\n",
        "if 3 <= month <= 5:\n",
        "      print(\"현재는 봄입니다.\")\n",
        "elif 6 <= month <= 8:\n",
        "      print(\"현재는 여름입니다.\")\n",
        "elif 9 <= month <= 11:\n",
        "      print(\"현재는 가을입니다.\")\n",
        "else:\n",
        "      print(\"현재는 겨울입니다.\")"
      ],
      "execution_count": null,
      "outputs": [
        {
          "output_type": "stream",
          "name": "stdout",
          "text": [
            "현재는 가을입니다.\n"
          ]
        }
      ]
    },
    {
      "cell_type": "markdown",
      "metadata": {
        "id": "GzRfWJGUipVj"
      },
      "source": [
        "p.130"
      ]
    },
    {
      "cell_type": "code",
      "metadata": {
        "colab": {
          "base_uri": "https://localhost:8080/"
        },
        "id": "r6OqBLi5jVpG",
        "outputId": "57882d21-2509-4690-e3ad-9dbdbee72f5e"
      },
      "source": [
        "score = float(input(\"학점 입력> \"))\n",
        "\n",
        "if score == 4.5:\n",
        "  print(\"신\")\n",
        "elif 4.2 <= score < 4.5:\n",
        "  print(\"교수님의 사랑\")\n",
        "elif 3.5 <= score < 4.2:\n",
        "  print(\"현 체제의 수호자\")\n",
        "elif 2.8 <= score < 3.5:\n",
        "  print(\"일반인\")\n",
        "elif 2.3 <= score < 2.8:\n",
        "  print(\"일탈을 꿈꾸는 소시민\")\n",
        "elif 1.75 <= score < 2.3:\n",
        "  print(\"오락문화의 선구자\")\n",
        "elif 1.0 <= score < 1.75:\n",
        "  print(\"불가촉천민\")\n",
        "elif 0.5 <= score < 1.0:\n",
        "  print(\"자벌레\")\n",
        "elif 0 < score < 0.5:\n",
        "  print(\"플랑크톤\")\n",
        "elif score == 0:\n",
        "  print(\"시대를 앞서가는 혁명의 씨앗\")"
      ],
      "execution_count": null,
      "outputs": [
        {
          "output_type": "stream",
          "name": "stdout",
          "text": [
            "학점 입력> 0\n",
            "시대를 앞서가는 혁명의 씨앗\n"
          ]
        }
      ]
    },
    {
      "cell_type": "markdown",
      "metadata": {
        "id": "fyXotGiVjNz1"
      },
      "source": [
        "p.131"
      ]
    },
    {
      "cell_type": "code",
      "metadata": {
        "colab": {
          "base_uri": "https://localhost:8080/"
        },
        "id": "Mc90wg4_jPmO",
        "outputId": "f1604738-1629-4c9a-c615-08f3cff21db1"
      },
      "source": [
        "score = float(input(\"학점입력> \"))\n",
        "\n",
        "if score == 4.5:\n",
        "  print(\"신\")\n",
        "elif 4.2 <= score:\n",
        "  print(\"교수님의 사랑\")\n",
        "elif 3.5 <= score:\n",
        "  print(\"현 체제의 수호자\")\n",
        "elif 2.8 <= score:\n",
        "  print(\"일반인\")\n",
        "elif 2.3 <= score:\n",
        "  print(\"일탈을 꿈꾸는 소시민\")\n",
        "elif 1.75 <= score:\n",
        "  print(\"오락문화의 선구자\")\n",
        "elif 1.0 <= score:\n",
        "  print(\"불가축천민\")\n",
        "elif 0.5 <= score:\n",
        "  print(\"자벌레\")\n",
        "elif 0 < score:\n",
        "  print(\"플랑크톤\")\n",
        "else:\n",
        "  print(\"시대를 앞서가는 혁명의 씨앗\")"
      ],
      "execution_count": null,
      "outputs": [
        {
          "output_type": "stream",
          "name": "stdout",
          "text": [
            "학점입력> 0\n",
            "시대를 앞서가는 혁명의 씨앗\n"
          ]
        }
      ]
    },
    {
      "cell_type": "markdown",
      "metadata": {
        "id": "d1YIt-QXjfp_"
      },
      "source": [
        "p.132"
      ]
    },
    {
      "cell_type": "code",
      "metadata": {
        "colab": {
          "base_uri": "https://localhost:8080/"
        },
        "id": "CslWbnNgjjaG",
        "outputId": "48f7fd8a-8d16-4143-9248-c66b41041c14"
      },
      "source": [
        "print(\"# if 조건문에 0 넣기\")\n",
        "if 0:\n",
        "  print(\"0은 True로 변환됩니다\")\n",
        "else:\n",
        "  print(\"0은 False로 변환됩니다\")\n",
        "print()\n",
        "\n",
        "print(\"# if 조건문에 빈 문자열 넣기\")\n",
        "if \"\":\n",
        "  print(\"빈 문자열은 True로 변환됩니다\")\n",
        "else:\n",
        "  print(\"빈 문자열은 False로 변환됩니다\")"
      ],
      "execution_count": null,
      "outputs": [
        {
          "output_type": "stream",
          "name": "stdout",
          "text": [
            "# if 조건문에 0 넣기\n",
            "0은 False로 변환됩니다\n",
            "\n",
            "# if 조건문에 빈 문자열 넣기\n",
            "빈 문자열은 False로 변환됩니다\n"
          ]
        }
      ]
    },
    {
      "cell_type": "markdown",
      "metadata": {
        "id": "xW9b_LsTj4Ki"
      },
      "source": [
        "p.133"
      ]
    },
    {
      "cell_type": "code",
      "metadata": {
        "colab": {
          "base_uri": "https://localhost:8080/",
          "height": 139
        },
        "id": "sFamgQrcj6Cr",
        "outputId": "74e4c271-1827-4ddb-efd5-9fbe12bb44e2"
      },
      "source": [
        "#입력을 받습니다.\n",
        "number = input(\"정수 입력> \")\n",
        "number = int(number)\n",
        "\n",
        "#조건문 사용\n",
        "if number > 0:\n",
        "    # 양수일 때: 아직 미구현 상태입니다.\n",
        "else:\n",
        "     # 음수일 때: 아직 미구현 상태입니다."
      ],
      "execution_count": null,
      "outputs": [
        {
          "output_type": "error",
          "ename": "IndentationError",
          "evalue": "ignored",
          "traceback": [
            "\u001b[0;36m  File \u001b[0;32m\"<ipython-input-69-5f0299a96076>\"\u001b[0;36m, line \u001b[0;32m8\u001b[0m\n\u001b[0;31m    else:\u001b[0m\n\u001b[0m       ^\u001b[0m\n\u001b[0;31mIndentationError\u001b[0m\u001b[0;31m:\u001b[0m expected an indented block\n"
          ]
        }
      ]
    },
    {
      "cell_type": "markdown",
      "metadata": {
        "id": "9cHJuKyukiv2"
      },
      "source": [
        "p.134"
      ]
    },
    {
      "cell_type": "code",
      "metadata": {
        "colab": {
          "base_uri": "https://localhost:8080/"
        },
        "id": "zoMrRvAJkmUF",
        "outputId": "498c0e2a-535d-41f7-ee67-0bdff508d119"
      },
      "source": [
        "number = input(\"정수 입력> \")\n",
        "number = int(number)\n",
        "\n",
        "if number > 0:\n",
        "    # 양수일 때: 아직 미구현 상태입니다\n",
        "    pass\n",
        "else:\n",
        "    # 음수일 때: 아직 미구현 상태입니다\n",
        "    pass"
      ],
      "execution_count": null,
      "outputs": [
        {
          "name": "stdout",
          "output_type": "stream",
          "text": [
            "정수 입력>  3\n"
          ]
        }
      ]
    }
  ]
}
