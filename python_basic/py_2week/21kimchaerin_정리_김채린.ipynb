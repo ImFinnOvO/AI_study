{
  "nbformat": 4,
  "nbformat_minor": 0,
  "metadata": {
    "colab": {
      "name": "21kimchaerin_정리_김채린",
      "provenance": [],
      "collapsed_sections": []
    },
    "kernelspec": {
      "name": "python3",
      "display_name": "Python 3"
    },
    "language_info": {
      "name": "python"
    }
  },
  "cells": [
    {
      "cell_type": "markdown",
      "metadata": {
        "id": "l0ku8_hMlDrD"
      },
      "source": [
        "#**Chapter02) 자료형**\n",
        "02-1 자료형과 문자열 \n",
        "\n",
        "-자료:프로그램이 처리할 수 있는 모든 것\n"
      ]
    },
    {
      "cell_type": "code",
      "metadata": {
        "colab": {
          "base_uri": "https://localhost:8080/"
        },
        "id": "R5HHLSpcvX1x",
        "outputId": "adb463a6-ae8a-473e-a769-97615ffa2f5b"
      },
      "source": [
        "자료형 확인하기\n",
        ">>> print(type(\"안녕하세요\"))\n",
        ">>> print(type(273))"
      ],
      "execution_count": null,
      "outputs": [
        {
          "output_type": "stream",
          "name": "stdout",
          "text": [
            "<class 'str'>\n",
            "<class 'int'>\n"
          ]
        }
      ]
    },
    {
      "cell_type": "code",
      "metadata": {
        "colab": {
          "base_uri": "https://localhost:8080/"
        },
        "id": "79NwsmBJvfWx",
        "outputId": "5328b122-fe90-41a3-f777-095effb6c46d"
      },
      "source": [
        "#큰따옴표로 문자열 만들기 \n",
        ">>> print(\"안녕하세요\")"
      ],
      "execution_count": null,
      "outputs": [
        {
          "output_type": "stream",
          "name": "stdout",
          "text": [
            "안녕하세요\n"
          ]
        }
      ]
    },
    {
      "cell_type": "code",
      "metadata": {
        "colab": {
          "base_uri": "https://localhost:8080/"
        },
        "id": "LcD1WCcYwIAy",
        "outputId": "f2400d4b-9f4c-4f40-b0c3-341b8ee092fe"
      },
      "source": [
        "#작은따옴표로 문자열 만들기\n",
        ">>> print('안녕하세요')"
      ],
      "execution_count": null,
      "outputs": [
        {
          "output_type": "stream",
          "name": "stdout",
          "text": [
            "안녕하세요\n"
          ]
        }
      ]
    },
    {
      "cell_type": "markdown",
      "metadata": {
        "id": "JhnTcMwNwlXU"
      },
      "source": [
        "+구문오류란?\n",
        "\n",
        "작성한 코드에 문제가 있어 실행이 되지 않는 것 "
      ]
    },
    {
      "cell_type": "markdown",
      "metadata": {
        "id": "w4QZEo3ow_P3"
      },
      "source": [
        "-이스케이프 문자란?\n",
        "\n",
        "역슬래시(\\) 기호와 함께 조합해서 사용하는 특수한 문자.\n",
        "\n",
        "\\\":큰따옴표를 의미\n",
        "\n",
        "\\':작은따옴표를 의미\n",
        "\n",
        "\\n:줄바꿈을 의미\n",
        "\n",
        "\\t:탭을 의미"
      ]
    },
    {
      "cell_type": "markdown",
      "metadata": {
        "id": "BEerHa4Mx1f-"
      },
      "source": [
        "-문자 선택 연산자란?\n",
        "\n",
        "문자열 내부의 문자를 하나 선택하는 연산자 \n",
        "\n",
        "이때 [ ]안에는 문자의 위치를 지정하며, \n",
        "\n",
        "이 숫자를 **인덱스**라고 함.\n",
        "\n",
        "0부터 셈: 제로 인덱스\n",
        "\n",
        "1부터 셈: 원 인덱스 \n"
      ]
    },
    {
      "cell_type": "code",
      "metadata": {
        "id": "J4xaSOygzPv6"
      },
      "source": [
        "# 문자열 범위 선택 연산자\n",
        "\n",
        ">>> print(\"안녕하세요\"[1:4])\n",
        "녕하세\n",
        ">>> print(\"안녕하세요\"[0:2])\n",
        "안녕\n",
        ">>>print(\"안녕하세요\"[1:3])\n",
        "녕하\n",
        ">>>print(\"안녕하세요\"[2:4])\n",
        "하세"
      ],
      "execution_count": null,
      "outputs": []
    },
    {
      "cell_type": "code",
      "metadata": {
        "id": "qrspCC3tzqi8"
      },
      "source": [
        "# 문자열의 길이 구하기\n",
        "\n",
        ">>> print(len(\"안녕하세요\"))\n",
        "5"
      ],
      "execution_count": null,
      "outputs": []
    },
    {
      "cell_type": "markdown",
      "metadata": {
        "id": "XHePiVWjzyYQ"
      },
      "source": [
        "02-2 숫자\n",
        "\n",
        "-정수형: 소수점이 없는 숫자\n",
        "\n",
        "-실수형: 소수점이 있는 숫자\n",
        "\n",
        "-부동소수점: 소수점이 움직이는 숫자"
      ]
    },
    {
      "cell_type": "code",
      "metadata": {
        "id": "ItbnGhis0DXS"
      },
      "source": [
        ">>> print(type(52))\n",
        "<class 'int'>\n",
        "\n",
        ">>> print(type(52.273))\n",
        "<class 'float'>"
      ],
      "execution_count": null,
      "outputs": []
    },
    {
      "cell_type": "code",
      "metadata": {
        "id": "LJikiii91ZG6"
      },
      "source": [
        "# 숫자 연산자 \n",
        "\n",
        ">>> print(\"5 + 7 =\", 5 + 7 )\n",
        "5 + 7 = 12\n",
        ">>> print(\"5 - 7 =\", 5 - 7 )\n",
        "5 - 7 = -2\n",
        ">>> print(\"5 * 7 =\", 5 * 7 )\n",
        "5 * 7 = 35\n",
        ">>> print(\"5 / 7 =\", 5 / 7)\n",
        "5 / 7 = 0.71428"
      ],
      "execution_count": null,
      "outputs": []
    },
    {
      "cell_type": "markdown",
      "metadata": {
        "id": "05cjfOpo1mRp"
      },
      "source": [
        "02-3 변수와 입력 \n",
        "\n",
        "첫째) 변수를 선언하는 방법\n",
        "\n",
        "-변수를 생성하는 것을 의미\n",
        "\n",
        "둘째) 변수에 값을 할당하는 방법\n",
        "\n",
        "-변수에 값을 넣는 것을 의미\n",
        "\n",
        "셋째) 변수를 참조하는 방법\n",
        "\n",
        "-변수에서 값을 꺼내는 것을 의미 \n",
        "\n",
        "\n",
        "\n",
        "\n",
        "+ 복합 대입 연산자\n",
        "\n",
        "변수를 활용할 경우 기존의 연산자와 조합하여 사용할 수 있는 연산자 \n",
        "\n",
        "문자열도 복합 대입 연산자 사용 가능함.\n",
        "\n",
        "-프롬포트 문자열이란?\n",
        "\n",
        "input 함수 괄호 안에 입력한 내용.\n",
        "\n",
        "\n",
        "\n",
        "\n",
        "\n"
      ]
    },
    {
      "cell_type": "markdown",
      "metadata": {
        "id": "irwBCZ0y3N55"
      },
      "source": [
        "-캐스트: 입력받은 문자열을 숫자로 변환하는 것.\n",
        "\n",
        "-int( ) 함수: 문자열을 int 자료형으로 변환, int는 정수를 의미\n",
        "\n",
        "-float( ) 함수: 문자열을 float 자료형으로 변환, float는 실수 또는 부동 소수점을 의미\n",
        "\n"
      ]
    },
    {
      "cell_type": "markdown",
      "metadata": {
        "id": "0wOmljoi34n3"
      },
      "source": [
        "02-4 숫자와 문자열의 다양한 기능 \n",
        "\n",
        "format( ) 함수란?\n",
        "\n",
        "-문자열이 가지고 있는 함수\n",
        "\n",
        "format( ) 함수의 다양한 기능\n",
        "\n",
        "-정수 출력\n",
        "\n",
        "-부동 소수점 출력\n",
        "\n",
        "-의미없는 소수점 제거"
      ]
    },
    {
      "cell_type": "code",
      "metadata": {
        "id": "b9Tiafkr4xcb"
      },
      "source": [
        "# 함수의 다양한 형태 \n",
        "\n",
        "# format() 함수로 숫자를 문자열로 변환하기\n",
        "format_a = \"{}만 원\".format(5000)\n",
        "format_b = \"파이썬 열공하여 첫 연봉 {}만 원 만들기 \".format(5000)\n",
        "format_c = \"{} {} {}\".format(3000, 4000, 5000)\n",
        "format_d = \"{} {} {}\".format(1, \"문자열\", True)\n",
        "\n",
        "# 출력하기\n",
        "print(format_a)\n",
        "print(format_b)\n",
        "print(format_c)\n",
        "print(format_d)"
      ],
      "execution_count": null,
      "outputs": []
    },
    {
      "cell_type": "code",
      "metadata": {
        "id": "cwFELfyO49bK"
      },
      "source": [
        "# 조합해보기\n",
        "\n",
        "# 조합하기\n",
        "output_h = \"{:+5d}\".format(52)   # 기호를 뒤로 밀기 : 양수\n",
        "output_i = \"{:+5d}\".format(-52)  # 기호를 뒤로 밀기 : 음수\n",
        "output_j = \"{:=+5d}\".format(52)  # 기호를 앞으로 밀기 : 양수\n",
        "output_k = \"{:=+5d}\".format(-52) # 기호를 앞으로 밀기 : 음수\n",
        "output_l = \"{:+05d}\".format(52)  # 0으로 채우기 : 양수\n",
        "output_m = \"{:+05d}\".format(-52) # 0으로 채우기 : 음수\n",
        "\n",
        "print(\"# 조합하기\")\n",
        "print(output_h)\n",
        "print(output_i)\n",
        "print(output_j)\n",
        "print(output_k)\n",
        "print(output_l)\n",
        "print(output_m)"
      ],
      "execution_count": null,
      "outputs": []
    },
    {
      "cell_type": "code",
      "metadata": {
        "id": "lzKQbLB35KL5"
      },
      "source": [
        "# 문자열 자르기\n",
        "\n",
        ">>> a = \"10 20 30 40 50\".split(\" \")\n",
        ">>> print(a)\n",
        "['10', '20', '30', '40', '50']"
      ],
      "execution_count": null,
      "outputs": []
    },
    {
      "cell_type": "markdown",
      "metadata": {
        "id": "DNibv6Vu5XJ1"
      },
      "source": [
        "# Chapter 03) 조건문 \n",
        "\n",
        "03-1) 불 자료형과 if조건문 \n",
        "\n",
        "Boolean:불린 또는 불리언이라고 불림. \n",
        "\n",
        "프로그래밍에서는 불 이라고도 불림.\n",
        "\n",
        "-불은 오직 참과 거짓 값만 가질 수 있음.\n"
      ]
    },
    {
      "cell_type": "code",
      "metadata": {
        "colab": {
          "base_uri": "https://localhost:8080/"
        },
        "id": "PUTdFNSx6sYX",
        "outputId": "f1a76580-644c-4be9-9a77-588de3bbe84d"
      },
      "source": [
        ">>> print(10==100) \n",
        "\n",
        ">>> print(10!=100) \n",
        "\n",
        ">>> print(10<100) # 의미\n",
        "\n",
        ">>> print(10>100) # 의미\n",
        "\n",
        ">>> print(10<=100) # 의미\n",
        "\n",
        ">>> print(10>=100) # 의미\n"
      ],
      "execution_count": null,
      "outputs": [
        {
          "output_type": "stream",
          "name": "stdout",
          "text": [
            "False\n",
            "True\n",
            "True\n",
            "False\n",
            "True\n",
            "False\n"
          ]
        }
      ]
    },
    {
      "cell_type": "markdown",
      "metadata": {
        "id": "uvG8hVYj7ApN"
      },
      "source": [
        "-if 조건문이란?\n",
        "\n",
        "if 조건문은 조건에 따라 코드를 실행하거나, 실행하지 않게 만들고 싶을 때 사용하는 구문임.\n",
        "\n",
        "조건 분기:실행의 흐름을 변경하는 것 "
      ]
    },
    {
      "cell_type": "code",
      "metadata": {
        "colab": {
          "base_uri": "https://localhost:8080/"
        },
        "id": "qmSKVInu64pH",
        "outputId": "219d4e3d-d3aa-447c-dc82-6c3d45285a69"
      },
      "source": [
        "# 입력을 받습니다.\n",
        "\n",
        "number = input(\"정수 입력>\")"
      ],
      "execution_count": null,
      "outputs": [
        {
          "name": "stdout",
          "output_type": "stream",
          "text": [
            "정수 입력> 273\n"
          ]
        }
      ]
    },
    {
      "cell_type": "code",
      "metadata": {
        "id": "4D4ejpIt7zO0"
      },
      "source": [
        "# 양수 조건\n",
        " if number > 0:\n",
        "\n",
        "# 음수 조건\n",
        " if number < 0:\n",
        "\n",
        "# 0 조건\n",
        " if number == 0:"
      ],
      "execution_count": null,
      "outputs": []
    },
    {
      "cell_type": "markdown",
      "metadata": {
        "id": "BiZvOYIK8KL9"
      },
      "source": [
        "03-2) if~else와 elif구문\n",
        "\n",
        "else구문이란?\n",
        "\n",
        "if조건문 뒤에 사용하며, 조건문의 조건이 거짓일 때 실행 됨.\n",
        "\n",
        "-조건문이 오직 두가지로만 구분될 때 if else 구문을 사용하면, \n",
        "\n",
        "조건 비교를 한 번만 하므로 이전의 코드보다 두 배 효율적임."
      ]
    },
    {
      "cell_type": "code",
      "metadata": {
        "colab": {
          "base_uri": "https://localhost:8080/"
        },
        "id": "y_BYR1619Gtg",
        "outputId": "6a5f7060-ea48-4277-fa57-78d03349144f"
      },
      "source": [
        "# False로 변환 되는 값\n",
        "\n",
        "print(\"# if 조건문에 0 넣기\")\n",
        "if 0:\n",
        "  print(\"0은 True로 변환됩니다\")\n",
        "else:\n",
        "  print(\"0은 False로 변환됩니다\")\n",
        "print()\n",
        "\n",
        "print(\"# if 조건문에 빈 문자열 넣기\")\n",
        "if \"\":\n",
        "  print(\"빈 문자열은 True로 변환됩니다\")\n",
        "else:\n",
        "  print(\"빈 문자열은 False로 변환됩니다\")"
      ],
      "execution_count": null,
      "outputs": [
        {
          "output_type": "stream",
          "name": "stdout",
          "text": [
            "# if 조건문에 0 넣기\n",
            "0은 False로 변환됩니다\n",
            "\n",
            "# if 조건문에 빈 문자열 넣기\n",
            "빈 문자열은 False로 변환됩니다\n"
          ]
        }
      ]
    }
  ]
}