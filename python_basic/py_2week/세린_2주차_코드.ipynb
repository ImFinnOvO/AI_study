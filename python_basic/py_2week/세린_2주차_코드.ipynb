{
  "nbformat": 4,
  "nbformat_minor": 0,
  "metadata": {
    "colab": {
      "name": "세린_2주차_코드.ipynb",
      "provenance": [],
      "collapsed_sections": []
    },
    "kernelspec": {
      "name": "python3",
      "display_name": "Python 3"
    },
    "language_info": {
      "name": "python"
    }
  },
  "cells": [
    {
      "cell_type": "markdown",
      "metadata": {
        "id": "gTfrVZpyVSIx"
      },
      "source": [
        "Page 39. 기본출력"
      ]
    },
    {
      "cell_type": "code",
      "metadata": {
        "colab": {
          "base_uri": "https://localhost:8080/"
        },
        "id": "S64adpWlVRUR",
        "outputId": "8915259b-2499-413a-8cc7-adf00165eddb"
      },
      "source": [
        "# 하나만 출력합니다.\n",
        "print(\"# 하나만 출력합니다.\")\n",
        "print(\"Hello Python Programming...!\")\n",
        "print()\n",
        "\n",
        "# 여러 개를 출력합니다. \n",
        "print(\"# 여러 개를 출력합니다.\")\n",
        "print(\"10, 20, 30, 40, 50\")\n",
        "print(\"안녕하세요\",\"저의\",\"이름은\",\"윤인성입니다!\")\n",
        "print()\n",
        "\n",
        "# 아무것도 입력하지 않으면 단순하게 줄바꿈합니다.\n",
        "print(\"# 아무것도 입력하지 않으면 단순하게 줄바꿈합니다.\")\n",
        "print(\"---확인 전용선---\")\n",
        "print()\n",
        "print()\n",
        "print(\"---확인 전용선---\")"
      ],
      "execution_count": null,
      "outputs": [
        {
          "output_type": "stream",
          "name": "stdout",
          "text": [
            "# 하나만 출력합니다.\n",
            "Hello Python Programming...!\n",
            "\n",
            "# 여러 개를 출력합니다.\n",
            "10, 20, 30, 40, 50\n",
            "안녕하세요 저의 이름은 윤인성입니다!\n",
            "\n",
            "# 아무것도 입력하지 않으면 단순하게 줄바꿈합니다.\n",
            "---확인 전용선---\n",
            "\n",
            "\n",
            "---확인 전용선---\n"
          ]
        }
      ]
    },
    {
      "cell_type": "markdown",
      "metadata": {
        "id": "_VaT7WGUk2o3"
      },
      "source": [
        "Page 52. 이스케이프 문자(\\t)로 탭 사용하기"
      ]
    },
    {
      "cell_type": "code",
      "metadata": {
        "colab": {
          "base_uri": "https://localhost:8080/"
        },
        "id": "43Mt01xck6ii",
        "outputId": "87b6fa82-2566-406a-acd7-026901046f86"
      },
      "source": [
        "print(\"이름\\t나이\\t지역\")\n",
        "print(\"윤인성\\t25\\t강서구\")\n",
        "print(\"윤아린\\t24\\t강서구\")\n",
        "print(\"구름\\t3\\t강서구\")"
      ],
      "execution_count": null,
      "outputs": [
        {
          "output_type": "stream",
          "name": "stdout",
          "text": [
            "이름\t나이\t지역\n",
            "윤인성\t25\t강서구\n",
            "윤아린\t24\t강서구\n",
            "구름\t3\t강서구\n"
          ]
        }
      ]
    },
    {
      "cell_type": "markdown",
      "metadata": {
        "id": "YQ41llc9pCz0"
      },
      "source": [
        "Page 57. 문자 선택 연산자의 결과 출력하기"
      ]
    },
    {
      "cell_type": "code",
      "metadata": {
        "colab": {
          "base_uri": "https://localhost:8080/"
        },
        "id": "Ww-caigApCA1",
        "outputId": "e4731641-c80d-4702-dc44-cf8f3b18b3cb"
      },
      "source": [
        "print(\"문자 선택 연산자에 대해 알아볼까요?\")\n",
        "print(\"안녕하세요\"[0])\n",
        "print(\"안녕하세요\"[1])\n",
        "print(\"안녕하세요\"[2])\n",
        "print(\"안녕하세요\"[3])\n",
        "print(\"안녕하세요\"[4])"
      ],
      "execution_count": null,
      "outputs": [
        {
          "output_type": "stream",
          "name": "stdout",
          "text": [
            "문자 선택 연산자에 대해 알아볼까요?\n",
            "안\n",
            "녕\n",
            "하\n",
            "세\n",
            "요\n"
          ]
        }
      ]
    },
    {
      "cell_type": "markdown",
      "metadata": {
        "id": "to8rAsIcplLp"
      },
      "source": [
        "Page 58. 뒤에서부터 선택하기"
      ]
    },
    {
      "cell_type": "code",
      "metadata": {
        "colab": {
          "base_uri": "https://localhost:8080/"
        },
        "id": "MFsx6gH7o_8K",
        "outputId": "85866078-f8c4-467b-9160-bc4065737531"
      },
      "source": [
        "print(\"문자를 뒤에서부터 선택해 볼까요?\")\n",
        "print(\"안녕하세요\"[-1])\n",
        "print(\"안녕하세요\"[-2])\n",
        "print(\"안녕하세요\"[-3])\n",
        "print(\"안녕하세요\"[-4])\n",
        "print(\"안녕하세요\"[-5])"
      ],
      "execution_count": null,
      "outputs": [
        {
          "output_type": "stream",
          "name": "stdout",
          "text": [
            "문자를 뒤에서부터 선택해 볼까요?\n",
            "요\n",
            "세\n",
            "하\n",
            "녕\n",
            "안\n"
          ]
        }
      ]
    },
    {
      "cell_type": "markdown",
      "metadata": {
        "id": "Rz5V-bQOIe-b"
      },
      "source": [
        "Page 77. 원의 둘레와 넓이 구하기"
      ]
    },
    {
      "cell_type": "code",
      "metadata": {
        "colab": {
          "base_uri": "https://localhost:8080/"
        },
        "id": "4Z3qF9AKIlWu",
        "outputId": "c1bdd2f5-2d71-4aa0-9cc3-71f93baa5bec"
      },
      "source": [
        "# 변수 선언과 할당\n",
        "pi = 3.141592\n",
        "r = 10\n",
        "\n",
        "# 변수 참조\n",
        "print(\"원주율 =\", pi)\n",
        "print(\"반지름 =\", r)\n",
        "print(\"원의 둘레 =\", 2*pi*r)\n",
        "print(\"원의 넓이 =\", pi*r*r)"
      ],
      "execution_count": null,
      "outputs": [
        {
          "output_type": "stream",
          "name": "stdout",
          "text": [
            "원주율 = 3.141592\n",
            "반지름 = 10\n",
            "원의 둘레 = 62.83184\n",
            "원의 넓이 = 314.1592\n"
          ]
        }
      ]
    },
    {
      "cell_type": "markdown",
      "metadata": {
        "id": "pJI-GNZNJHhX"
      },
      "source": [
        "Page 82. 입력 자료형 확인하기"
      ]
    },
    {
      "cell_type": "code",
      "metadata": {
        "colab": {
          "base_uri": "https://localhost:8080/"
        },
        "id": "U--R0D7VJDO-",
        "outputId": "4b8c0f47-bd27-4ee4-de04-809c8498a1aa"
      },
      "source": [
        "# 입력을 받습니다.\n",
        "string = input(\"입력> \")\n",
        "\n",
        "#출력합니다.\n",
        "print(\"자료:\", string)\n",
        "print(\"자료형:\", type(string))"
      ],
      "execution_count": null,
      "outputs": [
        {
          "output_type": "stream",
          "name": "stdout",
          "text": [
            "입력> 안뇽\n",
            "자료: 안뇽\n",
            "자료형: <class 'str'>\n"
          ]
        }
      ]
    },
    {
      "cell_type": "markdown",
      "metadata": {
        "id": "ISr1GG3GKt0C"
      },
      "source": [
        "Page 82. 입력받고 더하기"
      ]
    },
    {
      "cell_type": "code",
      "metadata": {
        "colab": {
          "base_uri": "https://localhost:8080/",
          "height": 215
        },
        "id": "4yfEZna8KrvY",
        "outputId": "dbfd75c0-006c-4dd8-9c8f-0c8f387f593b"
      },
      "source": [
        "# 입력을 받습니다.\n",
        "string = input(\"입력> \")\n",
        "\n",
        "# 출력합니다.\n",
        "print(\"입력 + 100 :\", string + 100)"
      ],
      "execution_count": null,
      "outputs": [
        {
          "name": "stdout",
          "output_type": "stream",
          "text": [
            "입력> 현재 시간 2시 7분\n"
          ]
        },
        {
          "output_type": "error",
          "ename": "TypeError",
          "evalue": "ignored",
          "traceback": [
            "\u001b[0;31m---------------------------------------------------------------------------\u001b[0m",
            "\u001b[0;31mTypeError\u001b[0m                                 Traceback (most recent call last)",
            "\u001b[0;32m<ipython-input-5-bc3c3ffb8477>\u001b[0m in \u001b[0;36m<module>\u001b[0;34m()\u001b[0m\n\u001b[1;32m      3\u001b[0m \u001b[0;34m\u001b[0m\u001b[0m\n\u001b[1;32m      4\u001b[0m \u001b[0;31m# 출력합니다.\u001b[0m\u001b[0;34m\u001b[0m\u001b[0;34m\u001b[0m\u001b[0;34m\u001b[0m\u001b[0m\n\u001b[0;32m----> 5\u001b[0;31m \u001b[0mprint\u001b[0m\u001b[0;34m(\u001b[0m\u001b[0;34m\"입력 + 100 :\"\u001b[0m\u001b[0;34m,\u001b[0m \u001b[0mstring\u001b[0m \u001b[0;34m+\u001b[0m \u001b[0;36m100\u001b[0m\u001b[0;34m)\u001b[0m\u001b[0;34m\u001b[0m\u001b[0;34m\u001b[0m\u001b[0m\n\u001b[0m",
            "\u001b[0;31mTypeError\u001b[0m: can only concatenate str (not \"int\") to str"
          ]
        }
      ]
    },
    {
      "cell_type": "markdown",
      "metadata": {
        "id": "n_9XBrlSLITe"
      },
      "source": [
        "Page 83. int() 함수 활용하기"
      ]
    },
    {
      "cell_type": "code",
      "metadata": {
        "colab": {
          "base_uri": "https://localhost:8080/"
        },
        "id": "AKgo3BlALBhE",
        "outputId": "355fcdcf-6a16-4aef-d469-ce7498879667"
      },
      "source": [
        "string_a = input(\"입력A> \")\n",
        "int_a = int(string_a)\n",
        "\n",
        "string_b = input(\"입력B> \")\n",
        "int_b = int(string_b)\n",
        "\n",
        "print(\"문자열 자료:\", string_a + string_b)\n",
        "print(\"숫자 자료:\", int_a + int_b)"
      ],
      "execution_count": null,
      "outputs": [
        {
          "output_type": "stream",
          "name": "stdout",
          "text": [
            "입력A> 273\n",
            "입력B> 52\n",
            "문자열 자료: 27352\n",
            "숫자 자료: 325\n"
          ]
        }
      ]
    },
    {
      "cell_type": "markdown",
      "metadata": {
        "id": "Kmja5bm6L8_R"
      },
      "source": [
        "Page 84. int() 함수와 float() 함수 활용하기"
      ]
    },
    {
      "cell_type": "code",
      "metadata": {
        "colab": {
          "base_uri": "https://localhost:8080/"
        },
        "id": "yN2q4Yc9L5WV",
        "outputId": "94827c63-eb85-44bd-be53-8483ddedaedc"
      },
      "source": [
        "output_a = int(\"52\")\n",
        "output_b = float(\"52.273\")\n",
        "\n",
        "print(type(output_a), output_a)\n",
        "print(type(output_b), output_b)"
      ],
      "execution_count": null,
      "outputs": [
        {
          "output_type": "stream",
          "name": "stdout",
          "text": [
            "<class 'int'> 52\n",
            "<class 'float'> 52.273\n"
          ]
        }
      ]
    },
    {
      "cell_type": "markdown",
      "metadata": {
        "id": "KHdu4P_fMgum"
      },
      "source": [
        "Page 84. int() 함수와 float() 함수 조합하기"
      ]
    },
    {
      "cell_type": "code",
      "metadata": {
        "colab": {
          "base_uri": "https://localhost:8080/"
        },
        "id": "zUB7cjwiMe84",
        "outputId": "cee6193a-ab24-4b74-b663-8b7bb2054ac5"
      },
      "source": [
        "input_a = float(input(\"첫 번째 숫자> \"))\n",
        "input_b = float(input(\"두 번째 숫자> \"))\n",
        "\n",
        "print(\"덧셈 결과: \", input_a + input_b)\n",
        "print(\"뺄셈 결과: \", input_a - input_b)\n",
        "print(\"곱셈 결과: \", input_a * input_b)\n",
        "print(\"나눗셈 결과: \", input_a / input_b)\n"
      ],
      "execution_count": null,
      "outputs": [
        {
          "output_type": "stream",
          "name": "stdout",
          "text": [
            "첫 번째 숫자> 273\n",
            "두 번째 숫자> 52\n",
            "덧셈 결과:  325.0\n",
            "뺄셈 결과:  221.0\n",
            "곱셈 결과:  14196.0\n",
            "나눗셈 결과:  5.25\n"
          ]
        }
      ]
    },
    {
      "cell_type": "markdown",
      "metadata": {
        "id": "BsTeKsWyNGla"
      },
      "source": [
        "Page 86. str() 함수를 사용해 숫자를 문자열로 만들기"
      ]
    },
    {
      "cell_type": "code",
      "metadata": {
        "colab": {
          "base_uri": "https://localhost:8080/"
        },
        "id": "jdSV8yuqNR9Q",
        "outputId": "a770fe9e-7848-43fa-fee5-3c0984e187c5"
      },
      "source": [
        "output_a = str(52)\n",
        "output_b = str(52.273)\n",
        "print(type(output_a), output_a)\n",
        "print(type(output_b), output_b)"
      ],
      "execution_count": null,
      "outputs": [
        {
          "output_type": "stream",
          "name": "stdout",
          "text": [
            "<class 'str'> 52\n",
            "<class 'str'> 52.273\n"
          ]
        }
      ]
    },
    {
      "cell_type": "markdown",
      "metadata": {
        "id": "SRwjWjri4BXh"
      },
      "source": [
        "Page 93. format() 함수로 숫자를 문자열로 변환하기"
      ]
    },
    {
      "cell_type": "code",
      "metadata": {
        "colab": {
          "base_uri": "https://localhost:8080/"
        },
        "id": "e-nfrEER39Nr",
        "outputId": "cc24e905-2e05-4b17-827c-4d2307aa2122"
      },
      "source": [
        "# format() 함수로 숫자를 문자열로 변환하기\n",
        "string_a = \"{}\".format(10)\n",
        "\n",
        "# 출력하기\n",
        "print(string_a)\n",
        "print(type(string_a))"
      ],
      "execution_count": null,
      "outputs": [
        {
          "output_type": "stream",
          "name": "stdout",
          "text": [
            "10\n",
            "<class 'str'>\n"
          ]
        }
      ]
    },
    {
      "cell_type": "markdown",
      "metadata": {
        "id": "ckSstyUQ4e0w"
      },
      "source": [
        "Page 94. format() 함수의 다양한 형태"
      ]
    },
    {
      "cell_type": "code",
      "metadata": {
        "colab": {
          "base_uri": "https://localhost:8080/"
        },
        "id": "VeeyspY64aS-",
        "outputId": "2d449201-e049-40d6-abdc-ebb8e9d84295"
      },
      "source": [
        "# format() 함수로 숫자를 문자열로 변환하기\n",
        "format_a = \"{}만 원\".format(5000)\n",
        "format_b = \"파이썬 열공하여 첫 연봉 {}만 원 만들기\".format(5000)\n",
        "format_c = \"{} {} {}\".format(3000, 4000, 5000)\n",
        "format_d = \"{} {} {}\".format(1, \"문자열\", True)\n",
        "\n",
        "# 출력하기\n",
        "print(format_a)\n",
        "print(format_b)\n",
        "print(format_c)\n",
        "print(format_d)"
      ],
      "execution_count": null,
      "outputs": [
        {
          "output_type": "stream",
          "name": "stdout",
          "text": [
            "5000만 원\n",
            "파이썬 열공하여 첫 연봉 5000만 원 만들기\n",
            "3000 4000 5000\n",
            "1 문자열 True\n"
          ]
        }
      ]
    },
    {
      "cell_type": "markdown",
      "metadata": {
        "id": "Tbtg8p2D5adr"
      },
      "source": [
        "Page 95. 정수를 특정 칸에 출력하기"
      ]
    },
    {
      "cell_type": "code",
      "metadata": {
        "colab": {
          "base_uri": "https://localhost:8080/"
        },
        "id": "NDrmeV5O5W8q",
        "outputId": "b2d55662-c6f9-4d78-f8e9-1b6a8b8696cd"
      },
      "source": [
        "# 정수\n",
        "output_a = \"{:d}\".format(52)\n",
        "\n",
        "# 특정 칸에 출력하기\n",
        "output_b = \"{:5d}\".format(52)   # 5칸\n",
        "output_c = \"{:10d}\".format(52)    # 10칸\n",
        "\n",
        "# 빈칸을 0으로 채우기\n",
        "output_d = \"{:05d}\".format(52)    # 양수\n",
        "output_e = \"{:05d}\".format(-52)   # 음수\n",
        "\n",
        "print(\"# 기본\")\n",
        "print(output_a)\n",
        "print(\"# 특정 칸에 출력하기\")\n",
        "print(output_b)\n",
        "print(output_c)\n",
        "print(\"# 빈칸을 0으로 채우기\")\n",
        "print(output_d)\n",
        "print(output_e)"
      ],
      "execution_count": null,
      "outputs": [
        {
          "output_type": "stream",
          "name": "stdout",
          "text": [
            "# 기본\n",
            "52\n",
            "# 특정 칸에 출력하기\n",
            "   52\n",
            "        52\n",
            "# 빈칸을 0으로 채우기\n",
            "00052\n",
            "-0052\n"
          ]
        }
      ]
    },
    {
      "cell_type": "markdown",
      "metadata": {
        "id": "gvFP5L6u77Bw"
      },
      "source": [
        "Page 96. 기호 붙여 출력하기"
      ]
    },
    {
      "cell_type": "code",
      "metadata": {
        "colab": {
          "base_uri": "https://localhost:8080/"
        },
        "id": "8EBzYkx56UBF",
        "outputId": "1eb0b22e-593e-4ff2-e316-566932eff0a5"
      },
      "source": [
        "# 기호와 함께 출력하기\n",
        "output_f = \"{:+d}\".format(52)   # 양수\n",
        "output_g = \"{:+d}\".format(-52)    # 음수\n",
        "output_h = \"{: d}\".format(52)     # 양수 : 기호 부분 공백\n",
        "output_i = \"{: d}\".format(-52)    # 음수 : 기호 부분 공백\n",
        "\n",
        "print(\"# 기호와 함께 출력하기\")\n",
        "print(output_f)\n",
        "print(output_g)\n",
        "print(output_h)\n",
        "print(output_i)"
      ],
      "execution_count": null,
      "outputs": [
        {
          "output_type": "stream",
          "name": "stdout",
          "text": [
            "# 기호와 함께 출력하기\n",
            "+52\n",
            "-52\n",
            " 52\n",
            "-52\n"
          ]
        }
      ]
    },
    {
      "cell_type": "markdown",
      "metadata": {
        "id": "EqkjAd7E9rsz"
      },
      "source": [
        "Page 97. 조합해 보기"
      ]
    },
    {
      "cell_type": "code",
      "metadata": {
        "colab": {
          "base_uri": "https://localhost:8080/"
        },
        "id": "7hMH5QfQ9nob",
        "outputId": "7ed24c07-68b9-478d-d9d6-cc17865a379e"
      },
      "source": [
        "# 조합하기\n",
        "output_h = \"{:+5d}\".format(52)    # 기호를 뒤로 밀기 : 양수\n",
        "output_i = \"{:+5d}\".format(-52)     # 기호를 뒤로 밀기 : 음수\n",
        "output_j = \"{:=+5d}\".format(52)   # 기호를 앞으로 밀기 : 양수\n",
        "output_k = \"{:=+5d}\".format(-52)    # 기호를 앞으로 밀기 : 음수\n",
        "output_l = \"{:+05d}\".format(52)   # 0으로 채우기 : 양수\n",
        "output_m = \"{:+05d}\".format(-52)   # 0으로 채우기 : 음수\n",
        "\n",
        "print(\"# 조합하기\")\n",
        "print(output_h)\n",
        "print(output_i)\n",
        "print(output_j)\n",
        "print(output_k)\n",
        "print(output_l)\n",
        "print(output_m)"
      ],
      "execution_count": null,
      "outputs": [
        {
          "output_type": "stream",
          "name": "stdout",
          "text": [
            "# 조합하기\n",
            "  +52\n",
            "  -52\n",
            "+  52\n",
            "-  52\n",
            "+0052\n",
            "-0052\n"
          ]
        }
      ]
    },
    {
      "cell_type": "markdown",
      "metadata": {
        "id": "5lOWo3oGA0yP"
      },
      "source": [
        "Page 98. float 자료형 기본"
      ]
    },
    {
      "cell_type": "code",
      "metadata": {
        "colab": {
          "base_uri": "https://localhost:8080/"
        },
        "id": "wYNUFaLaAuLu",
        "outputId": "39929afe-99b8-4f1d-bc60-b8888092ac82"
      },
      "source": [
        "output_a = \"{:f}\".format(52.273)\n",
        "output_b = \"{:15f}\".format(52.273)    # 15칸 만들기\n",
        "output_c = \"{:+15f}\".format(52.273)   # 15칸에 부호 추가하기\n",
        "output_d = \"{:015f}\".format(52.273)   # 15칸에 부호 추가하고 0으로 채우기\n",
        "\n",
        "print(output_a)\n",
        "print(output_b)\n",
        "print(output_c)\n",
        "print(output_d)"
      ],
      "execution_count": null,
      "outputs": [
        {
          "output_type": "stream",
          "name": "stdout",
          "text": [
            "52.273000\n",
            "      52.273000\n",
            "     +52.273000\n",
            "00000052.273000\n"
          ]
        }
      ]
    },
    {
      "cell_type": "markdown",
      "metadata": {
        "id": "qTF1Yn27CpAS"
      },
      "source": [
        "Page 98. 소수점 아래 자릿수 정하기"
      ]
    },
    {
      "cell_type": "code",
      "metadata": {
        "colab": {
          "base_uri": "https://localhost:8080/"
        },
        "id": "oFgn4u3pCnmG",
        "outputId": "ab121e3a-1a47-4007-d5b4-2901f8f0a8cd"
      },
      "source": [
        "output_a = \"{:15.3f}\".format(52.273)\n",
        "output_b = \"{:15.2f}\".format(52.273)\n",
        "output_c = \"{:15.1f}\".format(52.273)\n",
        "\n",
        "print(output_a)\n",
        "print(output_b)\n",
        "print(output_c)"
      ],
      "execution_count": null,
      "outputs": [
        {
          "output_type": "stream",
          "name": "stdout",
          "text": [
            "         52.273\n",
            "          52.27\n",
            "           52.3\n"
          ]
        }
      ]
    },
    {
      "cell_type": "markdown",
      "metadata": {
        "id": "eVt1Je9mDHjH"
      },
      "source": [
        "Page 99. 의미 없는 소수점 제거하기 "
      ]
    },
    {
      "cell_type": "code",
      "metadata": {
        "colab": {
          "base_uri": "https://localhost:8080/"
        },
        "id": "Hq4ozrnkDGEr",
        "outputId": "52d0712c-2d3e-43cd-ce03-1fbf5d439aef"
      },
      "source": [
        "output_a = 52.0\n",
        "output_b = \"{:g}\".format(output_a)\n",
        "print(output_a)\n",
        "print(output_b)"
      ],
      "execution_count": null,
      "outputs": [
        {
          "output_type": "stream",
          "name": "stdout",
          "text": [
            "52.0\n",
            "52\n"
          ]
        }
      ]
    },
    {
      "cell_type": "markdown",
      "metadata": {
        "id": "tMulaEgcJbLQ"
      },
      "source": [
        "Page 111. not 연산자 조합하기"
      ]
    },
    {
      "cell_type": "code",
      "metadata": {
        "colab": {
          "base_uri": "https://localhost:8080/"
        },
        "id": "p380-LZ_JgWR",
        "outputId": "89f50176-7ab8-420d-f134-44f2c924c8c7"
      },
      "source": [
        "x = 10\n",
        "under_20 = x < 20\n",
        "print(\"under_20:\", under_20)\n",
        "print(\"not under_20:\", not under_20)"
      ],
      "execution_count": null,
      "outputs": [
        {
          "output_type": "stream",
          "name": "stdout",
          "text": [
            "under_20: True\n",
            "not under_20: False\n"
          ]
        }
      ]
    },
    {
      "cell_type": "markdown",
      "metadata": {
        "id": "azj0DIhHJyNn"
      },
      "source": [
        "Page 116. 조건문의 기본 사용"
      ]
    },
    {
      "cell_type": "code",
      "metadata": {
        "colab": {
          "base_uri": "https://localhost:8080/"
        },
        "id": "IK-BETr7Jvnq",
        "outputId": "b6e446f1-6f73-4e51-f5ea-159054a1c9a7"
      },
      "source": [
        "# 입력을 받습니다.\n",
        "number = input(\"정수 입력> \")\n",
        "number = int(number)\n",
        "\n",
        "# 양수 조건\n",
        "if number > 0:\n",
        "    print(\"양수입니다.\")\n",
        "\n",
        "# 음수 조건\n",
        "if number < 0:\n",
        "    print(\"음수입니다.\")\n",
        "\n",
        "# 0 조건\n",
        "if number == 0:\n",
        "    print(\"0 입니다.\")"
      ],
      "execution_count": null,
      "outputs": [
        {
          "output_type": "stream",
          "name": "stdout",
          "text": [
            "정수 입력> 1\n",
            "양수입니다.\n"
          ]
        }
      ]
    },
    {
      "cell_type": "markdown",
      "metadata": {
        "id": "FCaQSIvjKmeF"
      },
      "source": [
        "Page 117. 날짜/시간 출력하기"
      ]
    },
    {
      "cell_type": "code",
      "metadata": {
        "colab": {
          "base_uri": "https://localhost:8080/"
        },
        "id": "7B7l2bX8KjMj",
        "outputId": "b7d0bbef-9242-492b-f035-6b759fd193ca"
      },
      "source": [
        "# 날짜/시간과 관련된 기능을 가져옵니다.\n",
        "import datetime\n",
        "\n",
        "# 현재 날짜/시간을 구합니다.\n",
        "now = datetime.datetime.now()\n",
        "\n",
        "# 출력합니다.\n",
        "print(now.year, \"년\")\n",
        "print(now.month, \"월\")\n",
        "print(now.day, \"일\")\n",
        "print(now.hour, \"시\")\n",
        "print(now.minute, \"분\")\n",
        "print(now.second, \"초\")"
      ],
      "execution_count": null,
      "outputs": [
        {
          "output_type": "stream",
          "name": "stdout",
          "text": [
            "2021 년\n",
            "9 월\n",
            "22 일\n",
            "6 시\n",
            "26 분\n",
            "33 초\n"
          ]
        }
      ]
    },
    {
      "cell_type": "markdown",
      "metadata": {
        "id": "b0SL42ikLny1"
      },
      "source": [
        "Page 118. 날짜/시간을 한 줄로 출력하기"
      ]
    },
    {
      "cell_type": "code",
      "metadata": {
        "colab": {
          "base_uri": "https://localhost:8080/"
        },
        "id": "q1VEnCj-LPk8",
        "outputId": "d484cc95-0f79-4c85-bce8-7ae6b2aac258"
      },
      "source": [
        "# 날짜/시간과 관련된 기능을 가져옵니다.\n",
        "import datetime\n",
        "\n",
        "# 현재 날짜/시간을 구합니다.\n",
        "now = datetime.datetime.now()\n",
        "\n",
        "# 출력합니다.\n",
        "print(\"{}년 {}월 {}일 {}시 {}분 {}초\".format(\n",
        "    now.year,\n",
        "    now.month,\n",
        "    now.day,\n",
        "    now.hour,\n",
        "    now.minute,\n",
        "    now.second\n",
        "))"
      ],
      "execution_count": null,
      "outputs": [
        {
          "output_type": "stream",
          "name": "stdout",
          "text": [
            "2021년 9월 22일 6시 34분 13초\n"
          ]
        }
      ]
    },
    {
      "cell_type": "markdown",
      "metadata": {
        "id": "LhplKIGfL77H"
      },
      "source": [
        "Page 119. 오전과 오후를 구분하는 프로그램"
      ]
    },
    {
      "cell_type": "code",
      "metadata": {
        "colab": {
          "base_uri": "https://localhost:8080/"
        },
        "id": "ccD2j6Y4Nomo",
        "outputId": "4cc26f30-364e-4d5c-ee45-7289ec419ee2"
      },
      "source": [
        "# 날짜/시간과 관련된 기능을 가져옵니다.\n",
        "import datetime\n",
        "\n",
        "# 현재 날짜/시간을 구합니다.\n",
        "now = datetime.datetime.now()\n",
        "\n",
        "# 오전 구분\n",
        "if now.hour < 12:\n",
        "    print(\"현재 시각은 {}시로 오전입니다!\".format(now.hour))\n",
        "  \n",
        "# 오후 구분\n",
        "if now.hour >= 12:\n",
        "    print(\"현재 시각은 {}시로 오후입니다!\".format(now.hour))"
      ],
      "execution_count": null,
      "outputs": [
        {
          "output_type": "stream",
          "name": "stdout",
          "text": [
            "현재 시각은 6시로 오전입니다!\n"
          ]
        }
      ]
    },
    {
      "cell_type": "markdown",
      "metadata": {
        "id": "9m4EB22HOMGc"
      },
      "source": [
        "Page 119. 계절을 구분하는 프로그램"
      ]
    },
    {
      "cell_type": "code",
      "metadata": {
        "colab": {
          "base_uri": "https://localhost:8080/"
        },
        "id": "c5bfsbo1OKm6",
        "outputId": "99b95a37-417c-406f-ef40-69cc90f4f26d"
      },
      "source": [
        "# 날짜/시간과 관련된 기능을 가져옵니다.\n",
        "import datetime\n",
        "\n",
        "# 현재 날짜/시간을 구합니다.\n",
        "now = datetime.datetime.now()\n",
        "\n",
        "# 봄 구분\n",
        "if 3 <= now.month <=5:\n",
        "    print(\"이번 달은 {}월로 봄입니다!\". format(now.month))\n",
        "\n",
        "# 여름 구분\n",
        "if 6 <= now.month <=8:\n",
        "     print(\"이번 달은 {}월로 여름입니다!\". format(now.month))\n",
        "\n",
        "# 가을 구분\n",
        "if 9 <= now.month <=11:\n",
        "     print(\"이번 달은 {}월로 가을입니다!\". format(now.month))\n",
        "\n",
        "# 겨울 구분\n",
        "if 12 <= now.month <=2:\n",
        "     print(\"이번 달은 {}월로 겨울입니다!\". format(now.month))"
      ],
      "execution_count": null,
      "outputs": [
        {
          "output_type": "stream",
          "name": "stdout",
          "text": [
            "이번 달은 9월로 가을입니다!\n"
          ]
        }
      ]
    },
    {
      "cell_type": "markdown",
      "metadata": {
        "id": "tLTkP_ruPW9n"
      },
      "source": [
        "Page 121. 끝자리로 짝수와 홀수 구분"
      ]
    },
    {
      "cell_type": "code",
      "metadata": {
        "colab": {
          "base_uri": "https://localhost:8080/"
        },
        "id": "modg1UsrPCKt",
        "outputId": "0effc68a-3e3b-419b-f9d5-6c69552c3646"
      },
      "source": [
        "# 입력을 받습니다.\n",
        "number = input(\"정수 입력> \")\n",
        "\n",
        "# 마지막 자리 숫자를 추출\n",
        "last_character = number[-1]\n",
        "\n",
        "# 숫자로 변환하기\n",
        "last_number = int(last_character)\n",
        "\n",
        "# 짝수 확인\n",
        "\n",
        "if last_number == 0 \\\n",
        "    or last_number == 2 \\\n",
        "    or last_number == 4 \\\n",
        "    or last_number == 6 \\\n",
        "    or last_number == 8 :\n",
        "    print(\"짝수입니다.\")\n",
        "\n",
        "# 홀수 확인\n",
        "\n",
        "if last_number == 1 \\\n",
        "    or last_number == 3 \\\n",
        "    or last_number == 5 \\\n",
        "    or last_number == 7 \\\n",
        "    or last_number == 9 :\n",
        "    print(\"홀수입니다.\") "
      ],
      "execution_count": null,
      "outputs": [
        {
          "output_type": "stream",
          "name": "stdout",
          "text": [
            "정수 입력> 343245\n",
            "홀수입니다.\n"
          ]
        }
      ]
    },
    {
      "cell_type": "markdown",
      "metadata": {
        "id": "52EmljyWQyDM"
      },
      "source": [
        "Page 122. in 문자열 연산자를 활용해서 짝수와 홀수 구분"
      ]
    },
    {
      "cell_type": "code",
      "metadata": {
        "colab": {
          "base_uri": "https://localhost:8080/"
        },
        "id": "qiZl6emaQpi0",
        "outputId": "6f644b2f-4d1a-4bdd-e173-71bc9f229f40"
      },
      "source": [
        "# 입력을 받습니다.\n",
        "number = input(\"정수 입력> \")\n",
        "last_character = number[-1]\n",
        "\n",
        "# 짝수 조건\n",
        "if last_character in \"02468\":\n",
        "    print(\"짝수입니다.\")\n",
        "\n",
        "# 홀수 조건\n",
        "if last_character in \"13579\":\n",
        "    print(\"홀수입니다.\")"
      ],
      "execution_count": null,
      "outputs": [
        {
          "output_type": "stream",
          "name": "stdout",
          "text": [
            "정수 입력> 468973\n",
            "홀수입니다.\n"
          ]
        }
      ]
    },
    {
      "cell_type": "markdown",
      "metadata": {
        "id": "U_veQyJfSrkd"
      },
      "source": [
        "Page 123. 나머지 연산자를 활용해서 짝수와 홀수 구분"
      ]
    },
    {
      "cell_type": "code",
      "metadata": {
        "colab": {
          "base_uri": "https://localhost:8080/"
        },
        "id": "r4V_xB1wSlW2",
        "outputId": "985d4dbc-76f0-42d9-cbbb-5e64e051689f"
      },
      "source": [
        "# 입력을 받습니다.\n",
        "number = input(\"정수 입력> \")\n",
        "number = int(number)\n",
        "\n",
        "# 짝수 조건 \n",
        "if number % 2 == 0:\n",
        "    print(\"짝수입니다.\")\n",
        "\n",
        "# 홀수 조건\n",
        "if number % 2 == 1:\n",
        "    print(\"홀수입니다.\")"
      ],
      "execution_count": null,
      "outputs": [
        {
          "output_type": "stream",
          "name": "stdout",
          "text": [
            "정수 입력> 32665754\n",
            "짝수입니다.\n"
          ]
        }
      ]
    },
    {
      "cell_type": "markdown",
      "metadata": {
        "id": "5FRQIXwqG9CP"
      },
      "source": [
        "Page 127. if 조건문에 else 구문을 추가해서 짝수와 홀수 구분"
      ]
    },
    {
      "cell_type": "code",
      "metadata": {
        "id": "cDDfTfu9TJTS",
        "colab": {
          "base_uri": "https://localhost:8080/"
        },
        "outputId": "bc69bc78-fed7-4da6-ef8d-9eae5b46d946"
      },
      "source": [
        "# 입력을 받습니다.\n",
        "number = input(\"정수 입력> \")\n",
        "number = int(number)\n",
        "\n",
        "# 조건문을 사용합니다.\n",
        "if number % 2 == 0:\n",
        "    # 조건이 참일 때, 즉 짝수 조건\n",
        "    print(\"짝수입니다.\")\n",
        "else:\n",
        "    # 조건이 거짓일 때, 즉 홀수 조건\n",
        "    print(\"홀수입니다.\")"
      ],
      "execution_count": 1,
      "outputs": [
        {
          "output_type": "stream",
          "name": "stdout",
          "text": [
            "정수 입력> 7784654\n",
            "짝수입니다.\n"
          ]
        }
      ]
    },
    {
      "cell_type": "markdown",
      "metadata": {
        "id": "NMifa-SLKm6x"
      },
      "source": [
        "Page 128. 계절 구하기"
      ]
    },
    {
      "cell_type": "code",
      "metadata": {
        "colab": {
          "base_uri": "https://localhost:8080/"
        },
        "id": "rGFcQ3wvHbz7",
        "outputId": "94a7396e-f895-4dc2-8a76-81f3e77dcb1f"
      },
      "source": [
        "# 날짜/시간과 관련된 기능을 가져옵니다.\n",
        "\n",
        "import datetime\n",
        "\n",
        "# 현재 날짜/시간을 구하고\n",
        "# 쉽게 사용할 수 있게 월을 변수에 저장합니다.\n",
        "now = datetime.datetime.now()\n",
        "month = now.month\n",
        "\n",
        "# 조건문으로 계절을 확인합니다.\n",
        "if 3 <= month <= 5:\n",
        "      print(\"현재는 봄입니다.\")\n",
        "elif 6 <= month <= 8:\n",
        "      print(\"현재는 여름입니다.\")\n",
        "elif 9 <= month <= 11:\n",
        "      print(\"현재는 가을입니다.\")\n",
        "else:\n",
        "      print(\"현재는 겨울입니다.\")"
      ],
      "execution_count": 2,
      "outputs": [
        {
          "output_type": "stream",
          "name": "stdout",
          "text": [
            "현재는 가을입니다.\n"
          ]
        }
      ]
    },
    {
      "cell_type": "markdown",
      "metadata": {
        "id": "9pLdZ7_CMHZT"
      },
      "source": [
        "Page 130. 유머를 조건문으로 구현하기 (1)"
      ]
    },
    {
      "cell_type": "code",
      "metadata": {
        "colab": {
          "base_uri": "https://localhost:8080/"
        },
        "id": "lDNqgb87L-LR",
        "outputId": "f56de2c4-35e3-4cd6-a699-0fb7a0ab82bf"
      },
      "source": [
        "# 변수를 선언합니다.\n",
        "score = float(input(\"학점 입력> \"))\n",
        "\n",
        "# 조건문을 적용합니다.\n",
        "if score == 4.5:\n",
        "      print(\"신\")\n",
        "elif 4.2 <= score < 4.5:\n",
        "      print(\"교수님의 사랑\")\n",
        "elif 3.5 <= score < 4.2:\n",
        "      print(\"현 채제의 수호자\")\n",
        "elif 2.8 <= score < 3.5:\n",
        "      print(\"일반인\")\n",
        "elif 2.3 <= score < 2.8:\n",
        "      print(\"일탈을 꿈꾸는 소시민\")\n",
        "elif 1.75 <= score < 2.3:\n",
        "      print(\"오락문화의 선구자\")\n",
        "elif 1.0 <= score < 1.75:\n",
        "      print(\"불가촉천민\")\n",
        "elif 0.5 <= score < 1.0:\n",
        "      print(\"자벌레\")\n",
        "elif 0 <  score < 0.5:\n",
        "      print(\"플랑크톤\")\n",
        "elif score == 0:\n",
        "      print(\"시대를 앞서가는 혁명의 씨앗\")"
      ],
      "execution_count": 4,
      "outputs": [
        {
          "output_type": "stream",
          "name": "stdout",
          "text": [
            "학점 입력> 3.6\n",
            "현 채제의 수호자\n"
          ]
        }
      ]
    },
    {
      "cell_type": "markdown",
      "metadata": {
        "id": "227DU000NzLv"
      },
      "source": [
        "Page 131. 유머를 조건문으로 구현하기 (2)"
      ]
    },
    {
      "cell_type": "code",
      "metadata": {
        "colab": {
          "base_uri": "https://localhost:8080/"
        },
        "id": "j6BmBSqTNpOH",
        "outputId": "4fbf12cc-1dbb-4aa8-a657-8499d58c3d45"
      },
      "source": [
        "# 변수를 선언합니다.\n",
        "score = float(input(\"학점 입력> \"))\n",
        "\n",
        "# 조건문을 적용합니다.\n",
        "if score == 4.5:\n",
        "    print(\"신\")\n",
        "elif 4.2 <= score:\n",
        "    print(\"교수님의 사랑\")\n",
        "elif 3.5 <= score:\n",
        "    print(\"현 채제의 수호자\")\n",
        "elif 2.8 <= score:\n",
        "    print(\"일반인\")\n",
        "elif 2.3 <= score:\n",
        "    print(\"일탈을 꿈꾸는 소시민\")\n",
        "elif 1.75 <= score:\n",
        "    print(\"오락문화의 선구자\")\n",
        "elif 1.0 <= score:\n",
        "    print(\"불가촉천민\")\n",
        "elif 0.5 <= score:\n",
        "    print(\"자벌레\")\n",
        "elif 0 < score:\n",
        "    print(\"플랑크톤\")\n",
        "else:\n",
        "    print(\"시대를 앞서가는 혁명의 씨앗\")\n"
      ],
      "execution_count": 6,
      "outputs": [
        {
          "output_type": "stream",
          "name": "stdout",
          "text": [
            "학점 입력> 0\n",
            "시대를 앞서가는 혁명의 씨앗\n"
          ]
        }
      ]
    },
    {
      "cell_type": "markdown",
      "metadata": {
        "id": "BRCbc_vhPDi4"
      },
      "source": [
        "Pagr 132. False로 변환되는 값"
      ]
    },
    {
      "cell_type": "code",
      "metadata": {
        "colab": {
          "base_uri": "https://localhost:8080/"
        },
        "id": "yROHUJ5HPBxg",
        "outputId": "5a35e7fa-5f34-49fb-f4e5-6ba1e7d4d85f"
      },
      "source": [
        "print(\"# if 조건문에 0 넣기\")\n",
        "if 0:\n",
        "      print(\"0은 True로 변환됩니다.\")\n",
        "else:\n",
        "    print(\"0은 False로 변환됩니다.\")\n",
        "print()\n",
        "\n",
        "print(\"# if 조건문에 빈 문자열 넣기\")\n",
        "if \"\":\n",
        "    print(\"빈 문자열은 True로 변환됩니다.\")\n",
        "else:\n",
        "    print(\"빈 문자열은 False로 변환됩니다.\")"
      ],
      "execution_count": 7,
      "outputs": [
        {
          "output_type": "stream",
          "name": "stdout",
          "text": [
            "# if 조건문에 0 넣기\n",
            "0은 False로 변환됩니다.\n",
            "\n",
            "# if 조건문에 빈 문자열 넣기\n",
            "빈 문자열은 False로 변환됩니다.\n"
          ]
        }
      ]
    },
    {
      "cell_type": "markdown",
      "metadata": {
        "id": "EM-EQckcPpSl"
      },
      "source": [
        "Page 133. 나중에 구현하려고 비워 둔 구문"
      ]
    },
    {
      "cell_type": "code",
      "metadata": {
        "colab": {
          "base_uri": "https://localhost:8080/",
          "height": 130
        },
        "id": "l1Y_3UaNPnPi",
        "outputId": "f48eb668-b267-42c2-e49e-7a3b39165431"
      },
      "source": [
        "# 입력을 받습니다.\n",
        "number = input(\"정수 입력> \")\n",
        "number = int(number)\n",
        "\n",
        "# 조건문 사용\n",
        "if number > 0:\n",
        "    # 양수일 때 : 아직 미구현 상태입니다.\n",
        "else:\n",
        "    # 음수일 때 : 아직 미구현 상태입니다.\n",
        "    "
      ],
      "execution_count": 8,
      "outputs": [
        {
          "output_type": "error",
          "ename": "IndentationError",
          "evalue": "ignored",
          "traceback": [
            "\u001b[0;36m  File \u001b[0;32m\"<ipython-input-8-a68b00108553>\"\u001b[0;36m, line \u001b[0;32m8\u001b[0m\n\u001b[0;31m    else:\u001b[0m\n\u001b[0m       ^\u001b[0m\n\u001b[0;31mIndentationError\u001b[0m\u001b[0;31m:\u001b[0m expected an indented block\n"
          ]
        }
      ]
    },
    {
      "cell_type": "markdown",
      "metadata": {
        "id": "CM39SK-JQEHN"
      },
      "source": [
        "Page 134. pass 키워드를 사용한 미구현 부분 입력"
      ]
    },
    {
      "cell_type": "code",
      "metadata": {
        "colab": {
          "base_uri": "https://localhost:8080/"
        },
        "id": "VU2lfwqkQBWo",
        "outputId": "4c94dbaa-bdae-443f-ae59-66838f143489"
      },
      "source": [
        "# 입력을 받습니다.\n",
        "number = input(\"정수 입력> \")\n",
        "number = int(number)\n",
        "\n",
        "# 조건문 사용\n",
        "if number > 0:\n",
        "    # 양수일 때 : 아직 미구현 상태입니다.\n",
        "    pass\n",
        "else:\n",
        "    # 음수일 때 : 아직 미구현 상태입니다.\n",
        "    pass"
      ],
      "execution_count": 9,
      "outputs": [
        {
          "name": "stdout",
          "output_type": "stream",
          "text": [
            "정수 입력> 215\n"
          ]
        }
      ]
    }
  ]
}