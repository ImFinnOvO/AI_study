{
  "nbformat": 4,
  "nbformat_minor": 0,
  "metadata": {
    "colab": {
      "name": "PB_세린_CH.7_과제.ipynb",
      "provenance": [],
      "collapsed_sections": []
    },
    "kernelspec": {
      "name": "python3",
      "display_name": "Python 3"
    },
    "language_info": {
      "name": "python"
    }
  },
  "cells": [
    {
      "cell_type": "markdown",
      "metadata": {
        "id": "frHwPBAm2jwW"
      },
      "source": [
        "P 326"
      ]
    },
    {
      "cell_type": "code",
      "metadata": {
        "colab": {
          "base_uri": "https://localhost:8080/"
        },
        "id": "K5nXszEF2tAF",
        "outputId": "fe713d89-5188-41d9-e79d-d2c67f6d083c"
      },
      "source": [
        "import time \n",
        "\n",
        "print (\"지금부터 5초간 정지합니다.\")\n",
        "time.sleep(5)\n",
        "print(\"프로그램을 종료합니다.\")"
      ],
      "execution_count": 2,
      "outputs": [
        {
          "output_type": "stream",
          "name": "stdout",
          "text": [
            "지금부터 5초간 정지합니다.\n",
            "프로그램을 종료합니다.\n"
          ]
        }
      ]
    },
    {
      "cell_type": "markdown",
      "metadata": {
        "id": "Y_vYFNnx27iG"
      },
      "source": [
        "P 336"
      ]
    },
    {
      "cell_type": "code",
      "metadata": {
        "colab": {
          "base_uri": "https://localhost:8080/"
        },
        "id": "iGL4phFn3FYg",
        "outputId": "7ddce1e9-8caa-48b1-c353-45f4b4e40762"
      },
      "source": [
        "# 모듈을 읽어 들입니다.\n",
        "from urllib import request\n",
        "from bs4 import BeautifulSoup\n",
        "\n",
        "# urlopen() 함수로 기상청의 전국 날씨를 읽습니다.\n",
        "target = request.urlopen(\"http://www.kma.go.kr/weather/forecast/mid-term-rss3.jsp?stnId=108\")\n",
        "\n",
        "# BeautifulSoup을 사용해 웹 페이지를 분석합니다.\n",
        "soup = BeautifulSoup(target, 'html.parser')\n",
        "\n",
        "# location 태그를 찾습니다.\n",
        "for location in soup.select(\"location\"):\n",
        "    # 내부의 city, wf, tmn, tmx 태그를 찾아 출력합니다.\n",
        "    print(\"도시:\", location.select_one(\"city\").string)\n",
        "    print(\"날씨:\", location.select_one(\"wf\").string)\n",
        "    print(\"최저기온:\", location.select_one(\"tmn\").string)\n",
        "    print(\"최고기온:\", location.select_one(\"tmx\").string)\n",
        "    print"
      ],
      "execution_count": 3,
      "outputs": [
        {
          "output_type": "stream",
          "name": "stdout",
          "text": [
            "도시: 서울\n",
            "날씨: 구름많음\n",
            "최저기온: 13\n",
            "최고기온: 14\n",
            "도시: 인천\n",
            "날씨: 구름많음\n",
            "최저기온: 13\n",
            "최고기온: 13\n",
            "도시: 수원\n",
            "날씨: 구름많음\n",
            "최저기온: 13\n",
            "최고기온: 16\n",
            "도시: 파주\n",
            "날씨: 구름많음\n",
            "최저기온: 10\n",
            "최고기온: 14\n",
            "도시: 이천\n",
            "날씨: 구름많음\n",
            "최저기온: 13\n",
            "최고기온: 16\n",
            "도시: 평택\n",
            "날씨: 구름많음\n",
            "최저기온: 13\n",
            "최고기온: 15\n",
            "도시: 춘천\n",
            "날씨: 흐림\n",
            "최저기온: 14\n",
            "최고기온: 16\n",
            "도시: 원주\n",
            "날씨: 흐림\n",
            "최저기온: 13\n",
            "최고기온: 16\n",
            "도시: 강릉\n",
            "날씨: 흐리고 비\n",
            "최저기온: 15\n",
            "최고기온: 19\n",
            "도시: 대전\n",
            "날씨: 흐리고 비\n",
            "최저기온: 14\n",
            "최고기온: 16\n",
            "도시: 세종\n",
            "날씨: 흐리고 비\n",
            "최저기온: 14\n",
            "최고기온: 16\n",
            "도시: 홍성\n",
            "날씨: 흐리고 비\n",
            "최저기온: 13\n",
            "최고기온: 15\n",
            "도시: 청주\n",
            "날씨: 흐리고 비\n",
            "최저기온: 14\n",
            "최고기온: 16\n",
            "도시: 충주\n",
            "날씨: 흐리고 비\n",
            "최저기온: 13\n",
            "최고기온: 16\n",
            "도시: 영동\n",
            "날씨: 흐리고 비\n",
            "최저기온: 13\n",
            "최고기온: 17\n",
            "도시: 광주\n",
            "날씨: 흐리고 비\n",
            "최저기온: 16\n",
            "최고기온: 17\n",
            "도시: 목포\n",
            "날씨: 흐리고 비\n",
            "최저기온: 16\n",
            "최고기온: 18\n",
            "도시: 여수\n",
            "날씨: 흐리고 비\n",
            "최저기온: 18\n",
            "최고기온: 19\n",
            "도시: 순천\n",
            "날씨: 흐리고 비\n",
            "최저기온: 17\n",
            "최고기온: 19\n",
            "도시: 광양\n",
            "날씨: 흐리고 비\n",
            "최저기온: 17\n",
            "최고기온: 18\n",
            "도시: 나주\n",
            "날씨: 흐리고 비\n",
            "최저기온: 14\n",
            "최고기온: 17\n",
            "도시: 전주\n",
            "날씨: 흐리고 비\n",
            "최저기온: 15\n",
            "최고기온: 17\n",
            "도시: 군산\n",
            "날씨: 흐리고 비\n",
            "최저기온: 15\n",
            "최고기온: 17\n",
            "도시: 정읍\n",
            "날씨: 흐리고 비\n",
            "최저기온: 14\n",
            "최고기온: 17\n",
            "도시: 남원\n",
            "날씨: 흐리고 비\n",
            "최저기온: 15\n",
            "최고기온: 16\n",
            "도시: 고창\n",
            "날씨: 흐리고 비\n",
            "최저기온: 15\n",
            "최고기온: 16\n",
            "도시: 무주\n",
            "날씨: 흐리고 비\n",
            "최저기온: 13\n",
            "최고기온: 16\n",
            "도시: 부산\n",
            "날씨: 흐리고 비\n",
            "최저기온: 18\n",
            "최고기온: 20\n",
            "도시: 울산\n",
            "날씨: 흐리고 비\n",
            "최저기온: 17\n",
            "최고기온: 19\n",
            "도시: 창원\n",
            "날씨: 흐리고 비\n",
            "최저기온: 17\n",
            "최고기온: 19\n",
            "도시: 진주\n",
            "날씨: 흐리고 비\n",
            "최저기온: 16\n",
            "최고기온: 19\n",
            "도시: 거창\n",
            "날씨: 흐리고 비\n",
            "최저기온: 14\n",
            "최고기온: 17\n",
            "도시: 통영\n",
            "날씨: 흐리고 비\n",
            "최저기온: 18\n",
            "최고기온: 20\n",
            "도시: 대구\n",
            "날씨: 흐리고 비\n",
            "최저기온: 17\n",
            "최고기온: 19\n",
            "도시: 안동\n",
            "날씨: 흐리고 비\n",
            "최저기온: 15\n",
            "최고기온: 18\n",
            "도시: 포항\n",
            "날씨: 흐리고 비\n",
            "최저기온: 18\n",
            "최고기온: 19\n",
            "도시: 경주\n",
            "날씨: 흐리고 비\n",
            "최저기온: 17\n",
            "최고기온: 17\n",
            "도시: 울진\n",
            "날씨: 흐리고 비\n",
            "최저기온: 15\n",
            "최고기온: 19\n",
            "도시: 울릉도\n",
            "날씨: 흐리고 비\n",
            "최저기온: 15\n",
            "최고기온: 17\n",
            "도시: 제주\n",
            "날씨: 흐리고 비\n",
            "최저기온: 19\n",
            "최고기온: 20\n",
            "도시: 서귀포\n",
            "날씨: 흐리고 비\n",
            "최저기온: 19\n",
            "최고기온: 20\n"
          ]
        }
      ]
    },
    {
      "cell_type": "markdown",
      "metadata": {
        "id": "W8Z022ls5wmV"
      },
      "source": [
        "P 339"
      ]
    },
    {
      "cell_type": "code",
      "metadata": {
        "id": "JFJUU50a52yI"
      },
      "source": [
        "from flask import Flask\n",
        "app = Flask(__name__)\n",
        "\n",
        "@app.route(\"/\")\n",
        "def hello():\n",
        "    return \"<h1>Hello World!</h>\""
      ],
      "execution_count": 4,
      "outputs": []
    },
    {
      "cell_type": "markdown",
      "metadata": {
        "id": "CJAVoJ-v6PhH"
      },
      "source": [
        "P 341"
      ]
    },
    {
      "cell_type": "code",
      "metadata": {
        "id": "i2poUM546Z1p"
      },
      "source": [
        "# 모듈을 읽어 들입니다.\n",
        "from flask import Flask\n",
        "from urllib import request\n",
        "from bs4 import BeautifulSoup\n",
        "\n",
        "# 웹 서버를 생성합니다.\n",
        "app = Flask(__name__)\n",
        "@app.route(\"/\")\n",
        "\n",
        "def hello():\n",
        "    # urlopen() 함수로 기상청의 전국 날씨를 읽습니다.\n",
        "    target = request.urlopen(\"http://www.kma.go.kr/weather/forecast/mid-term-rss3.jsp?stnId=108\")\n",
        "\n",
        "    # BeautifulSoup를 사용해 웹 페이지를 분석합니다.\n",
        "    soup = Beautiful(target, \"html.parser\")\n",
        "\n",
        "    # location 태그를 찾습니다.\n",
        "    output = \"\"\n",
        "    for location in soup.selest(\"location\"):\n",
        "        # 내부의 city, wf, tmn, tmx 태그를 찾아 출력합니다.\n",
        "        output += \"<h3>{}</h3>\".format(location.select_one(\"city\").string)\n",
        "        output += \"날씨:{}<br/>\".format(location.select_one(\"wf\").string)\n",
        "        output += \"최저/최고기온: {}/{}\"\\\n",
        "            .format(\\\n",
        "                                          location.select_one(\"tmn\").string, \\\n",
        "                                          location.select_one(\"tmx\").string\\\n",
        "                )\n",
        "        output += \"<hr/>\"\n",
        "    return output"
      ],
      "execution_count": 8,
      "outputs": []
    }
  ]
}