{
  "nbformat": 4,
  "nbformat_minor": 0,
  "metadata": {
    "colab": {
      "name": "세린_4주차_코드.ipynb",
      "provenance": [],
      "collapsed_sections": []
    },
    "kernelspec": {
      "name": "python3",
      "display_name": "Python 3"
    },
    "language_info": {
      "name": "python"
    }
  },
  "cells": [
    {
      "cell_type": "markdown",
      "metadata": {
        "id": "IUAawpCKR8TQ"
      },
      "source": [
        "P. 277"
      ]
    },
    {
      "cell_type": "code",
      "metadata": {
        "colab": {
          "base_uri": "https://localhost:8080/"
        },
        "id": "_f-wOoC6RInx",
        "outputId": "13dd285a-fabe-4109-b9cb-8fd04e58215f"
      },
      "source": [
        "# 숫자를 입력받습니다.\n",
        "user_input_a = input(\"정수 입력> \")\n",
        "\n",
        "# 사용자 입력이 숫자로만 구성되어 있을 때\n",
        "if user_input_a.isdigit():\n",
        "    # 숫자로 변환합니다.\n",
        "    number_input_a = int(user_input_a)\n",
        "    # 출력합니다.\n",
        "    print(\"원의 반지름:\", number_input_a)\n",
        "    print(\"원의 둘레:\", 2 * 3.14 * number_input_a)\n",
        "    print(\"원의 넓이:\", 3.14 * number_input_a * number_input_a)\n",
        "else:\n",
        "    print(\"정수를 입력하지 않았습니다.\")"
      ],
      "execution_count": null,
      "outputs": [
        {
          "output_type": "stream",
          "name": "stdout",
          "text": [
            "정수 입력> 8\n",
            "원의 반지름: 8\n",
            "원의 둘레: 50.24\n",
            "원의 넓이: 200.96\n"
          ]
        }
      ]
    },
    {
      "cell_type": "markdown",
      "metadata": {
        "id": "D0W8NfRwTJIG"
      },
      "source": [
        "P. 279"
      ]
    },
    {
      "cell_type": "code",
      "metadata": {
        "colab": {
          "base_uri": "https://localhost:8080/"
        },
        "id": "L5yuwGzeSacM",
        "outputId": "f985486a-3473-42ed-9ce7-b308eca37883"
      },
      "source": [
        "# try except 구문으로 예외를 처리합니다.\n",
        "try:\n",
        "    # 숫자로 변환합니다.\n",
        "    number_input_a = int(input(\"정수 입력> \"))\n",
        "    # 출력합니다.\n",
        "    print(\"원의 반지름:\", number_input_a)\n",
        "    print(\"원의 둘레:\", 2 * 3.14 * number_input_a)\n",
        "    print(\"원의 넓이:\", 3.14 * number_input_a * number_input_a)\n",
        "except:\n",
        "    print(\"무언가 잘못되었습니다.\")"
      ],
      "execution_count": null,
      "outputs": [
        {
          "output_type": "stream",
          "name": "stdout",
          "text": [
            "정수 입력> yes!\n",
            "무언가 잘못되었습니다.\n"
          ]
        }
      ]
    },
    {
      "cell_type": "markdown",
      "metadata": {
        "id": "t2-vDZQ6boh7"
      },
      "source": [
        "P. 280"
      ]
    },
    {
      "cell_type": "code",
      "metadata": {
        "colab": {
          "base_uri": "https://localhost:8080/"
        },
        "id": "c4E59rW4bxi9",
        "outputId": "99e1b638-2923-4832-a753-de33cb8f550b"
      },
      "source": [
        "# 변수를 선언합니다.\n",
        "list_input_a = [\"52\", \"273\", \"32\", \"스파이\", \"103\"]\n",
        "\n",
        "# 반복을 적용합니다.\n",
        "list_number = []\n",
        "for item in list_input_a:\n",
        "    # 숫자로 변환해서 리스트에 추가합니다.\n",
        "    try:\n",
        "        float(item) # 예외가 발생하면 알아서 다음으로 진행은 안 되겠지?\n",
        "        list_number.append(item) # 예외 없이 통과했으면 리스트에 넣어줘!\n",
        "    except:\n",
        "        pass\n",
        "\n",
        "# 출력합니다.\n",
        "print(\"{} 내부에 있는 숫자는\".format(list_input_a))\n",
        "print(\"{}입니다.\".format(list_number))"
      ],
      "execution_count": null,
      "outputs": [
        {
          "output_type": "stream",
          "name": "stdout",
          "text": [
            "['52', '273', '32', '스파이', '103'] 내부에 있는 숫자는\n",
            "['52', '273', '32', '103']입니다.\n"
          ]
        }
      ]
    },
    {
      "cell_type": "markdown",
      "metadata": {
        "id": "Tdp0Z7XqclYz"
      },
      "source": [
        "P. 281"
      ]
    },
    {
      "cell_type": "code",
      "metadata": {
        "colab": {
          "base_uri": "https://localhost:8080/"
        },
        "id": "MG4spyBdcpG4",
        "outputId": "b9ad5cf7-3573-4ce0-90a3-dbb413d434e7"
      },
      "source": [
        "# try except else 구문으로 예외를 처리합니다.\n",
        "try:\n",
        "    # 숫자로 변환합니다.\n",
        "    number_input_a = int(input(\"정수 입력> \"))\n",
        "except:\n",
        "    print(\"정수를 입력하지 않았습니다.\")\n",
        "else:\n",
        "    # 출력합니다.\n",
        "    print(\"원의 반지름:\", number_input_a)\n",
        "    print(\"원의 둘레:\", 2 * 3.14 * number_input_a)\n",
        "    print(\"원의 넓이:\", 3.14 * number_input_a * number_input_a)"
      ],
      "execution_count": null,
      "outputs": [
        {
          "output_type": "stream",
          "name": "stdout",
          "text": [
            "정수 입력> 4567\n",
            "원의 반지름: 4567\n",
            "원의 둘레: 28680.760000000002\n",
            "원의 넓이: 65492515.46000001\n"
          ]
        }
      ]
    },
    {
      "cell_type": "markdown",
      "metadata": {
        "id": "XccONgeJdExG"
      },
      "source": [
        "P. 283"
      ]
    },
    {
      "cell_type": "code",
      "metadata": {
        "colab": {
          "base_uri": "https://localhost:8080/"
        },
        "id": "WcO7qIPgdK-V",
        "outputId": "5daeb39f-3528-44e9-8fd2-eba0e64458b2"
      },
      "source": [
        "# try except 구문으로 예외를 처리합니다.\n",
        "try:\n",
        "    # 숫자로 변환합니다.\n",
        "    number_input_a = int(input(\"정수 입력> \"))\n",
        "    # 출력합니다.\n",
        "    print(\"원의 반지름:\", number_input_a)\n",
        "    print(\"원의 둘레:\", 2 * 3.14 * number_input_a)\n",
        "    print(\"원의 넓이:\", 3.14 * number_input_a * number_input_a)\n",
        "except:\n",
        "    print(\"정수를 입력해달라고 했잖아요!\")\n",
        "else:\n",
        "    print(\"예외가 발생하지 않았습니다.\")\n",
        "finally:\n",
        "    print(\"일단 프로그램이 어떻게든 끝났습니다. 와아\")"
      ],
      "execution_count": null,
      "outputs": [
        {
          "output_type": "stream",
          "name": "stdout",
          "text": [
            "정수 입력> 43657\n",
            "원의 반지름: 43657\n",
            "원의 둘레: 274165.96\n",
            "원의 넓이: 5984631657.860001\n",
            "예외가 발생하지 않았습니다.\n",
            "일단 프로그램이 어떻게든 끝났습니다. 와아\n"
          ]
        }
      ]
    },
    {
      "cell_type": "markdown",
      "metadata": {
        "id": "21WgPHRJdqhH"
      },
      "source": [
        "P. 285"
      ]
    },
    {
      "cell_type": "code",
      "metadata": {
        "colab": {
          "base_uri": "https://localhost:8080/"
        },
        "id": "l9pzDoj3eGRe",
        "outputId": "5a0484af-e3b0-4196-f36f-8464496c6e19"
      },
      "source": [
        "# try except 구문을 사용합니다.\n",
        "try:\n",
        "    # 파일을 엽니다.\n",
        "    file = open(\"info.txt\", \"w\")\n",
        "    # 여러 가지 처리를 수행합니다.\n",
        "    # 파일을 닫습니다.\n",
        "    file.close\n",
        "except Exception as e:\n",
        "    print(e)\n",
        "\n",
        "print(\"# 파일이 제대로 닫혔는지 확인하기\")\n",
        "print(\"file.closed\", file.closed)"
      ],
      "execution_count": null,
      "outputs": [
        {
          "output_type": "stream",
          "name": "stdout",
          "text": [
            "# 파일이 제대로 닫혔는지 확인하기\n",
            "file.closed False\n"
          ]
        }
      ]
    },
    {
      "cell_type": "markdown",
      "metadata": {
        "id": "cmtqMoagev6_"
      },
      "source": [
        "P. 286"
      ]
    },
    {
      "cell_type": "code",
      "metadata": {
        "colab": {
          "base_uri": "https://localhost:8080/"
        },
        "id": "qebKfHhUe6s6",
        "outputId": "aa0736ad-46bf-4a06-aa2e-7db56b274225"
      },
      "source": [
        "# try except 구문을 사용합니다.\n",
        "try:\n",
        "    # 파일을 엽니다.\n",
        "    file = open(\"info.txt\", \"w\")\n",
        "    # 여러 가지 처리를 수행합니다.\n",
        "    예외.발생해라()\n",
        "    # 파일을 닫습니다.\n",
        "    file.close\n",
        "except Exception as e:\n",
        "    print(e)\n",
        "\n",
        "print(\"# 파일이 제대로 닫혔는지 확인하기\")\n",
        "print(\"file.closed\", file.closed)"
      ],
      "execution_count": null,
      "outputs": [
        {
          "output_type": "stream",
          "name": "stdout",
          "text": [
            "name '예외' is not defined\n",
            "# 파일이 제대로 닫혔는지 확인하기\n",
            "file.closed False\n"
          ]
        }
      ]
    },
    {
      "cell_type": "code",
      "metadata": {
        "colab": {
          "base_uri": "https://localhost:8080/"
        },
        "id": "RvOazpnKfXB3",
        "outputId": "9ad83dc4-ce05-40a0-b3ec-0dbc68a7f4e3"
      },
      "source": [
        "# try except 구문을 사용합니다.\n",
        "try:\n",
        "    # 파일을 엽니다.\n",
        "    file = open(\"info.txt\", \"w\")\n",
        "    # 여러 가지 처리를 수행합니다.\n",
        "    예외.발생해라()\n",
        "except Exception as e:\n",
        "    print(e)\n",
        "finally:\n",
        "    # 파일을 닫습니다.\n",
        "    file.close()\n",
        "\n",
        "print(\"# 파일이 제대로 닫혔는지 확인하기\")\n",
        "print(\"file.closed\", file.closed)"
      ],
      "execution_count": null,
      "outputs": [
        {
          "output_type": "stream",
          "name": "stdout",
          "text": [
            "name '예외' is not defined\n",
            "# 파일이 제대로 닫혔는지 확인하기\n",
            "file.closed True\n"
          ]
        }
      ]
    },
    {
      "cell_type": "markdown",
      "metadata": {
        "id": "6ImGJoIffzVv"
      },
      "source": [
        "P. 287"
      ]
    },
    {
      "cell_type": "code",
      "metadata": {
        "colab": {
          "base_uri": "https://localhost:8080/"
        },
        "id": "0vy6NftifwBe",
        "outputId": "51d6eb5e-8942-4f9a-99f9-2a30d19eb530"
      },
      "source": [
        "# try except 구문을 사용합니다.\n",
        "try:\n",
        "    # 파일을 엽니다.\n",
        "    file = open(\"info.txt\", \"w\")\n",
        "    # 여러 가지 처리를 수행합니다.\n",
        "    예외.발생해라()\n",
        "except Exception as e:\n",
        "    print(e)\n",
        "\n",
        "# 파일을 닫습니다.\n",
        "file.close()\n",
        "print(\"# 파일이 제대로 닫혔는지 확인하기\")\n",
        "print(\"file.closed\", file.closed)"
      ],
      "execution_count": null,
      "outputs": [
        {
          "output_type": "stream",
          "name": "stdout",
          "text": [
            "name '예외' is not defined\n",
            "# 파일이 제대로 닫혔는지 확인하기\n",
            "file.closed True\n"
          ]
        }
      ]
    },
    {
      "cell_type": "markdown",
      "metadata": {
        "id": "zbJ7UNXcgHWO"
      },
      "source": [
        "P. 288"
      ]
    },
    {
      "cell_type": "code",
      "metadata": {
        "colab": {
          "base_uri": "https://localhost:8080/"
        },
        "id": "K2Fl_5D2gK9B",
        "outputId": "8e1bce8a-c349-4e26-e9db-8629bee9ebc2"
      },
      "source": [
        "# test() 함수를 선언합니다.\n",
        "def test():\n",
        "    print(\"test() 함수의 첫 줄입니다.\")\n",
        "    try:\n",
        "        print(\"try 구문이 실행되었습니다.\")\n",
        "        return\n",
        "        print(\"try 구문의 return 키워드 뒤입니다.\")\n",
        "    except:\n",
        "        print(\"else 구문이 실행되었습니다.\")\n",
        "    finally:\n",
        "        print(\"finally 구문이 실행되었습니다.\")\n",
        "    print(\"test() 함수의 마지막 줄입니다.\")\n",
        "\n",
        "# test() 함수를 호출합니다.\n",
        "test()"
      ],
      "execution_count": null,
      "outputs": [
        {
          "output_type": "stream",
          "name": "stdout",
          "text": [
            "test() 함수의 첫 줄입니다.\n",
            "try 구문이 실행되었습니다.\n",
            "finally 구문이 실행되었습니다.\n"
          ]
        }
      ]
    },
    {
      "cell_type": "markdown",
      "metadata": {
        "id": "6o2gJ1UCg2Wx"
      },
      "source": [
        "P. 289"
      ]
    },
    {
      "cell_type": "code",
      "metadata": {
        "id": "FTKq-wqZg6W1"
      },
      "source": [
        "# 함수를 선언합니다.\n",
        "def write_text_file(filename, text):\n",
        "    # try except 구문을 사용합니다.\n",
        "    try:\n",
        "        # 파일을 엽니다.\n",
        "        file = open(filename, \"w\")\n",
        "        # 여러 가지 처리를 수행합니다.\n",
        "        return\n",
        "        # 파일에 텍스트를 입력합니다.\n",
        "        file.write(text)\n",
        "    except Exception as e:\n",
        "        print(e)\n",
        "    finally:\n",
        "        # 파일을 닫습니다.\n",
        "        file.close()\n",
        "\n",
        "# 함수를 호출합니다.\n",
        "write_text_file(\"test.txt\", \"안녕하세요!\") "
      ],
      "execution_count": null,
      "outputs": []
    },
    {
      "cell_type": "markdown",
      "metadata": {
        "id": "XTxRYlnAhl76"
      },
      "source": [
        "P. 290"
      ]
    },
    {
      "cell_type": "code",
      "metadata": {
        "colab": {
          "base_uri": "https://localhost:8080/"
        },
        "id": "vhTwZcmxi9nU",
        "outputId": "5687bc91-c661-4635-a8ac-2579068dcd2b"
      },
      "source": [
        "print(\"프로그램이 시작되었습니다.\")\n",
        "\n",
        "while True:\n",
        "    try:\n",
        "        print(\"try 구문이 실행되었습니다.\")\n",
        "        break\n",
        "        print(\"try 구문의 break 키워드 뒤입니다.\")\n",
        "    except:\n",
        "        print(\"except 구문이 실행되었습니다.\")\n",
        "    finally:\n",
        "        print(\"finally 구문이 실행되었습니다.\")\n",
        "    print(\"while 반복문의 마지막 줄입니다.\")\n",
        "print(\"프로그램이 종료되었습니다.\")"
      ],
      "execution_count": null,
      "outputs": [
        {
          "output_type": "stream",
          "name": "stdout",
          "text": [
            "프로그램이 시작되었습니다.\n",
            "try 구문이 실행되었습니다.\n",
            "finally 구문이 실행되었습니다.\n",
            "프로그램이 종료되었습니다.\n"
          ]
        }
      ]
    },
    {
      "cell_type": "markdown",
      "metadata": {
        "id": "MZqqoTp7jmxz"
      },
      "source": [
        "P. 295"
      ]
    },
    {
      "cell_type": "code",
      "metadata": {
        "colab": {
          "base_uri": "https://localhost:8080/"
        },
        "id": "m6tr41u82FsL",
        "outputId": "63bd2a99-8c21-4ca2-f9cc-10bbd2b36853"
      },
      "source": [
        "# try except 구문으로 예외를 처리합니다.\n",
        "try:\n",
        "    # 숫자로 변환합니다.\n",
        "    number_input_a = int(input(\"정수 입력> \"))\n",
        "    # 출력합니다.\n",
        "    print(\"원의 반지름:\", number_input_a)\n",
        "    print(\"원의 둘레:\", 2 * 3.14 * number_input_a)\n",
        "    print(\"원의 넓이:\", 3.14 * number_input_a * number_input_a)\n",
        "except Exception as exception:\n",
        "    # 예외 객체를 출력해봅니다.\n",
        "    print(\"type(exception):\", type(exception))    \n",
        "    print(\"exception:\", exception)"
      ],
      "execution_count": 1,
      "outputs": [
        {
          "output_type": "stream",
          "name": "stdout",
          "text": [
            "정수 입력> 4356\n",
            "원의 반지름: 4356\n",
            "원의 둘레: 27355.68\n",
            "원의 넓이: 59580671.04\n"
          ]
        }
      ]
    },
    {
      "cell_type": "markdown",
      "metadata": {
        "id": "MgpkmQNW22iR"
      },
      "source": [
        "P. 296"
      ]
    },
    {
      "cell_type": "code",
      "metadata": {
        "colab": {
          "base_uri": "https://localhost:8080/"
        },
        "id": "0rqc0d-r2-Ns",
        "outputId": "1a5f0f65-a309-4c64-fd88-0bb5b2214c57"
      },
      "source": [
        "# 변수를 선언합니다.\n",
        "list_number = [52, 273, 32, 72, 100]\n",
        "\n",
        "# try except 구문으로 예외를 처리합니다.\n",
        "try:\n",
        "    # 숫자를 입력받습니다.\n",
        "    number_input = int(input(\"정수 입력> \"))\n",
        "    # 리스트의 요소를 출력합니다.\n",
        "    print(\"{}번쨰 요소: {}\".format(number_input, list_number[number_input]))\n",
        "except Exception as exception:\n",
        "    # 예외 객체를 출력해봅니다.\n",
        "    print(\"type(exception):\", type(exception))\n",
        "    print(\"exception:\", exception)"
      ],
      "execution_count": 5,
      "outputs": [
        {
          "output_type": "stream",
          "name": "stdout",
          "text": [
            "정수 입력> 4\n",
            "4번쨰 요소: 100\n"
          ]
        }
      ]
    },
    {
      "cell_type": "markdown",
      "metadata": {
        "id": "AowDDOuV38tI"
      },
      "source": [
        "P. 289"
      ]
    },
    {
      "cell_type": "code",
      "metadata": {
        "colab": {
          "base_uri": "https://localhost:8080/"
        },
        "id": "uXEEiq9K32mQ",
        "outputId": "f2befdd3-27bc-4fa0-c0ac-0f9887d7337f"
      },
      "source": [
        "# 변수를 선언합니다.\n",
        "list_number = [52, 273, 32, 72, 100]\n",
        "\n",
        "# try except 구문으로 예외를 처리합니다.\n",
        "try:\n",
        "    # 숫자를 입력받습니다.\n",
        "    number_input = int(input(\"정수 입력> \"))\n",
        "    # 리스트의 요소를 출력합니다.\n",
        "    print(\"{}번쨰 요소: {}\".format(number_input, list_number[number_input]))\n",
        "except ValueError:\n",
        "    # ValueError가 발생하는 경우\n",
        "    print(\"정수를 입력해주세요!\")\n",
        "except IndexError:\n",
        "    # IndexError가 발생하는 경우\n",
        "    print(\"리스트의 인덱스를 벗어났어요!\")"
      ],
      "execution_count": 6,
      "outputs": [
        {
          "output_type": "stream",
          "name": "stdout",
          "text": [
            "정수 입력> 35\n",
            "리스트의 인덱스를 벗어났어요!\n"
          ]
        }
      ]
    },
    {
      "cell_type": "markdown",
      "metadata": {
        "id": "Fcd8TljC5S1D"
      },
      "source": [
        "P. 299"
      ]
    },
    {
      "cell_type": "code",
      "metadata": {
        "colab": {
          "base_uri": "https://localhost:8080/"
        },
        "id": "RwWwfGwr5Ytm",
        "outputId": "ecb65618-c851-4f1c-c13b-4f15f862175f"
      },
      "source": [
        "# 변수를 선언합니다.\n",
        "list_number = [52, 273, 32, 72, 100]\n",
        "# try except 구문으로 예외를 처리합니다.\n",
        "try:\n",
        "    # 숫자를 입력받습니다.\n",
        "    number_input = int(input(\"정수 입력> \"))\n",
        "    # 리스트의 요소를 출력합니다.\n",
        "    print(\"{}번쨰 요소: {}\".format(number_input, list_number[number_input]))\n",
        "except ValueError as exception:\n",
        "    # ValueError가 발생하는 경우\n",
        "    print(\"정수를 입력해주세요!\")\n",
        "    print(\"exception:\", exception)\n",
        "except IndexError as exception:\n",
        "    # IndexError가 발생하는 경우\n",
        "    print(\"리스트의 인덱스를 벗어났어요!\")\n",
        "    print(\"exception:\", exception)"
      ],
      "execution_count": 8,
      "outputs": [
        {
          "output_type": "stream",
          "name": "stdout",
          "text": [
            "정수 입력> 2\n",
            "2번쨰 요소: 32\n"
          ]
        }
      ]
    },
    {
      "cell_type": "markdown",
      "metadata": {
        "id": "7OE6mNI7503D"
      },
      "source": [
        "P. 300"
      ]
    },
    {
      "cell_type": "code",
      "metadata": {
        "colab": {
          "base_uri": "https://localhost:8080/",
          "height": 270
        },
        "id": "y4Go_Fzr5-lN",
        "outputId": "ab6d9658-90a5-4b02-8932-22316219e7e4"
      },
      "source": [
        "# 변수를 선언합니다.\n",
        "list_number = [52, 273, 32, 72, 100]\n",
        "\n",
        "# try except 구문으로 예외를 처리합니다.\n",
        "try:\n",
        "    # 숫자를 입력받습니다.\n",
        "    number_input = int(input(\"정수 입력> \"))\n",
        "    # 리스트의 요소를 출력합니다.\n",
        "    print(\"{}번쨰 요소: {}\".format(number_input, list_number[number_input]))\n",
        "    예외.발생해주세요()\n",
        "except ValueError as exception:\n",
        "    # ValueError가 발생하는 경우\n",
        "    print(\"정수를 입력해주세요!\")\n",
        "    print(type(exception), exception)\n",
        "except IndexError as exception:\n",
        "    # IndexError가 발생하는 경우\n",
        "    print(\"리스트의 인덱스를 벗어났어요!\")\n",
        "    print(type(exception), exception)"
      ],
      "execution_count": 10,
      "outputs": [
        {
          "output_type": "stream",
          "name": "stdout",
          "text": [
            "정수 입력> 1\n",
            "1번쨰 요소: 273\n"
          ]
        },
        {
          "output_type": "error",
          "ename": "NameError",
          "evalue": "ignored",
          "traceback": [
            "\u001b[0;31m---------------------------------------------------------------------------\u001b[0m",
            "\u001b[0;31mNameError\u001b[0m                                 Traceback (most recent call last)",
            "\u001b[0;32m<ipython-input-10-4bbfae228725>\u001b[0m in \u001b[0;36m<module>\u001b[0;34m()\u001b[0m\n\u001b[1;32m      8\u001b[0m     \u001b[0;31m# 리스트의 요소를 출력합니다.\u001b[0m\u001b[0;34m\u001b[0m\u001b[0;34m\u001b[0m\u001b[0;34m\u001b[0m\u001b[0m\n\u001b[1;32m      9\u001b[0m     \u001b[0mprint\u001b[0m\u001b[0;34m(\u001b[0m\u001b[0;34m\"{}번쨰 요소: {}\"\u001b[0m\u001b[0;34m.\u001b[0m\u001b[0mformat\u001b[0m\u001b[0;34m(\u001b[0m\u001b[0mnumber_input\u001b[0m\u001b[0;34m,\u001b[0m \u001b[0mlist_number\u001b[0m\u001b[0;34m[\u001b[0m\u001b[0mnumber_input\u001b[0m\u001b[0;34m]\u001b[0m\u001b[0;34m)\u001b[0m\u001b[0;34m)\u001b[0m\u001b[0;34m\u001b[0m\u001b[0;34m\u001b[0m\u001b[0m\n\u001b[0;32m---> 10\u001b[0;31m     \u001b[0m예외\u001b[0m\u001b[0;34m.\u001b[0m\u001b[0m발생해주세요\u001b[0m\u001b[0;34m(\u001b[0m\u001b[0;34m)\u001b[0m\u001b[0;34m\u001b[0m\u001b[0;34m\u001b[0m\u001b[0m\n\u001b[0m\u001b[1;32m     11\u001b[0m \u001b[0;32mexcept\u001b[0m \u001b[0mValueError\u001b[0m \u001b[0;32mas\u001b[0m \u001b[0mexception\u001b[0m\u001b[0;34m:\u001b[0m\u001b[0;34m\u001b[0m\u001b[0;34m\u001b[0m\u001b[0m\n\u001b[1;32m     12\u001b[0m     \u001b[0;31m# ValueError가 발생하는 경우\u001b[0m\u001b[0;34m\u001b[0m\u001b[0;34m\u001b[0m\u001b[0;34m\u001b[0m\u001b[0m\n",
            "\u001b[0;31mNameError\u001b[0m: name '예외' is not defined"
          ]
        }
      ]
    },
    {
      "cell_type": "markdown",
      "metadata": {
        "id": "t-ioWXLV693V"
      },
      "source": [
        "P. 301"
      ]
    },
    {
      "cell_type": "code",
      "metadata": {
        "colab": {
          "base_uri": "https://localhost:8080/"
        },
        "id": "kV26ivNh6TQI",
        "outputId": "a332b479-e1ff-40c3-d51f-6313a1c02d18"
      },
      "source": [
        "# 변수를 선언합니다.\n",
        "list_number = [52, 273, 32, 72, 100]\n",
        "\n",
        "# try except 구문으로 예외를 처리합니다.\n",
        "try:\n",
        "    # 숫자를 입력받습니다.\n",
        "    number_input = int(input(\"정수 입력> \"))\n",
        "    # 리스트의 요소를 출력합니다.\n",
        "    print(\"{}번쨰 요소: {}\".format(number_input, list_number[number_input]))\n",
        "    예외.발생해주세요()\n",
        "except ValueError as exception:\n",
        "    # ValueError가 발생하는 경우\n",
        "    print(\"정수를 입력해주세요!\")\n",
        "    print(type(exception), exception)\n",
        "except IndexError as exception:\n",
        "    # IndexError가 발생하는 경우\n",
        "    print(\"리스트의 인덱스를 벗어났어요!\")\n",
        "    print(type(exception), exception)\n",
        "except Exception as exception:\n",
        "    # 이외의 예외가 발생한 경우\n",
        "    print(\"미리 파악하지 못한 예외가 발생했습니다.\")\n",
        "    print(type(exception), exception)"
      ],
      "execution_count": 11,
      "outputs": [
        {
          "output_type": "stream",
          "name": "stdout",
          "text": [
            "정수 입력> 1\n",
            "1번쨰 요소: 273\n",
            "미리 파악하지 못한 예외가 발생했습니다.\n",
            "<class 'NameError'> name '예외' is not defined\n"
          ]
        }
      ]
    },
    {
      "cell_type": "code",
      "metadata": {
        "id": "kNJ8Uqer67Az"
      },
      "source": [
        ""
      ],
      "execution_count": null,
      "outputs": []
    }
  ]
}