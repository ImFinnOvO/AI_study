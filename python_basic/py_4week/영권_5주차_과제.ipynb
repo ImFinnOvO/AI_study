{
  "nbformat": 4,
  "nbformat_minor": 0,
  "metadata": {
    "colab": {
      "name": "Untitled1.ipynb",
      "provenance": []
    },
    "kernelspec": {
      "name": "python3",
      "display_name": "Python 3"
    },
    "language_info": {
      "name": "python"
    }
  },
  "cells": [
    {
      "cell_type": "markdown",
      "metadata": {
        "id": "ugbwgLPcThIM"
      },
      "source": [
        "### 모듈 사용의 기본: math 모듈"
      ]
    },
    {
      "cell_type": "code",
      "metadata": {
        "colab": {
          "base_uri": "https://localhost:8080/"
        },
        "id": "EGarqKOpTDth",
        "outputId": "cd32b8f8-fd48-4204-c16c-b7a37b1b9bcb"
      },
      "source": [
        "import math\n",
        "\n",
        "print(math.sin(1))\n",
        "print(math.cos(1))\n",
        "print(math.tan(1))\n",
        "print(math.floor(2.5))\n",
        "print(math.ceil(2.5))"
      ],
      "execution_count": 3,
      "outputs": [
        {
          "output_type": "stream",
          "name": "stdout",
          "text": [
            "0.8414709848078965\n",
            "0.5403023058681398\n",
            "1.5574077246549023\n",
            "2\n",
            "3\n"
          ]
        }
      ]
    },
    {
      "cell_type": "markdown",
      "metadata": {
        "id": "E_02KBzcToVT"
      },
      "source": [
        "### p.316 from 구문"
      ]
    },
    {
      "cell_type": "code",
      "metadata": {
        "colab": {
          "base_uri": "https://localhost:8080/"
        },
        "id": "3t95VitaTdVA",
        "outputId": "7e92909b-79cc-404a-9cae-aaa9569d0353"
      },
      "source": [
        "from math import sin,cos,tan,floor,ceil\n",
        "\n",
        "print(sin(1))\n",
        "print(cos(1))\n",
        "print(tan(1))\n",
        "print(floor(2.5))\n",
        "print(ceil(2.5))"
      ],
      "execution_count": 4,
      "outputs": [
        {
          "output_type": "stream",
          "name": "stdout",
          "text": [
            "0.8414709848078965\n",
            "0.5403023058681398\n",
            "1.5574077246549023\n",
            "2\n",
            "3\n"
          ]
        }
      ]
    },
    {
      "cell_type": "markdown",
      "metadata": {
        "id": "Eq243Vq7UBq-"
      },
      "source": [
        "### p.317 as구문"
      ]
    },
    {
      "cell_type": "code",
      "metadata": {
        "colab": {
          "base_uri": "https://localhost:8080/"
        },
        "id": "txpgoFeUUGzd",
        "outputId": "34d79b20-be09-48d1-db0f-3bd9ced69f57"
      },
      "source": [
        "import math as m\n",
        "\n",
        "print(m.sin(1))\n",
        "print(m.cos(1))\n",
        "print(m.tan(1))\n",
        "print(m.floor(2.5))\n",
        "print(m.ceil(2.5))"
      ],
      "execution_count": 5,
      "outputs": [
        {
          "output_type": "stream",
          "name": "stdout",
          "text": [
            "0.8414709848078965\n",
            "0.5403023058681398\n",
            "1.5574077246549023\n",
            "2\n",
            "3\n"
          ]
        }
      ]
    },
    {
      "cell_type": "markdown",
      "metadata": {
        "id": "EzrFHQeDURME"
      },
      "source": [
        "## p.319 random 모듈"
      ]
    },
    {
      "cell_type": "code",
      "metadata": {
        "colab": {
          "base_uri": "https://localhost:8080/"
        },
        "id": "EkUWCpL5UVi8",
        "outputId": "c6d23fb3-b67a-4836-fc44-317cfe704d15"
      },
      "source": [
        "import random\n",
        "\n",
        "#random()  0.0<= x <=1.0사이의 값을 리턴\n",
        "print(\"random(): \",random.random())\n",
        "\n",
        "#uniform(min,max): 지정한 범위 사이의 float을 리턴\n",
        "print(\"uniform(10,20): \",random.uniform(10,20))\n",
        "\n",
        "#randrange(max): 0부터 max사이의 int리턴\n",
        "#randrange(min,max): min부터 max사이의 int리턴\n",
        "print(\"randrange(10): \",random.randrange(10))\n",
        "\n",
        "#choice(list): 리스트 내부에있는 요소를 랜덤하게 선택\n",
        "print(\"choice([1,2,3,4,5]):\",random.choice([1,2,3,4,5]))\n",
        "\n",
        "#shuffle(list): 리스트의 요소들을 랜덤하게 섞음\n",
        "print(\"shuffle([1,2,3,4,5]): \", random.shuffle([1,2,3,4,5]))\n",
        "\n",
        "#sample(list, k=숫자): 리스트의 요소 중에 k개를 뽑음\n",
        "print(\"sample([1,2,3,4,5],k=2): \", random.sample([1,2,3,4,5],k=2))"
      ],
      "execution_count": 6,
      "outputs": [
        {
          "output_type": "stream",
          "name": "stdout",
          "text": [
            "random():  0.9572676950865289\n",
            "uniform(10,20):  12.952111196571975\n",
            "randrange(10):  5\n",
            "choice([1,2,3,4,5]): 4\n",
            "shuffle([1,2,3,4,5]):  None\n",
            "sample([1,2,3,4,5],k=2):  [5, 3]\n"
          ]
        }
      ]
    },
    {
      "cell_type": "markdown",
      "metadata": {
        "id": "90YVEyrUWvFQ"
      },
      "source": [
        "### p.322 os 모듈"
      ]
    },
    {
      "cell_type": "code",
      "metadata": {
        "colab": {
          "base_uri": "https://localhost:8080/"
        },
        "id": "AONoulKUW3HU",
        "outputId": "88d337a8-50c4-4e52-9fe0-0e9f6a7a9174"
      },
      "source": [
        "import os\n",
        "\n",
        "print(\"현재 운영체제: \", os.name)\n",
        "print(\"현재 폴더: \", os.getcwd())\n",
        "print(\"현재 폴더 내부의 요소: \", os.listdir())\n",
        "\n",
        "#폴더를 만들고 제거(폴더가 비어있을 때만 제거 가능)\n",
        "os.mkdir(\"hello\")\n",
        "os.rmdir(\"hello\")\n",
        "\n",
        "#파일을 생성하고 + 파일 이름을 변경\n",
        "with open(\"original.txt\",\"w\") as file:\n",
        "  file.write(\"hello\")\n",
        "os.rename(\"original.txt\",\"new.txt\")\n",
        "\n",
        "#파일을 제거\n",
        "os.remove(\"new.txt\")\n",
        "\n",
        "#시스템 명령어 실행\n",
        "os.system(\"dir\")"
      ],
      "execution_count": 7,
      "outputs": [
        {
          "output_type": "stream",
          "name": "stdout",
          "text": [
            "현재 운영체제:  posix\n",
            "현재 폴더:  /content\n",
            "현재 폴더 내부의 요소:  ['.config', 'sample_data']\n"
          ]
        },
        {
          "output_type": "execute_result",
          "data": {
            "text/plain": [
              "0"
            ]
          },
          "metadata": {},
          "execution_count": 7
        }
      ]
    },
    {
      "cell_type": "markdown",
      "metadata": {
        "id": "j_tQudKVYMcX"
      },
      "source": [
        "### p.336 Beautifulsoup 모듈"
      ]
    },
    {
      "cell_type": "code",
      "metadata": {
        "colab": {
          "base_uri": "https://localhost:8080/"
        },
        "id": "mYb0YDPUYTl_",
        "outputId": "2904c8e8-0d8d-461d-d932-f0fdceef0170"
      },
      "source": [
        "from urllib import request\n",
        "from bs4 import BeautifulSoup\n",
        "\n",
        "#urlopen()함수로 기상청의 전국 날씨를 읽는다.\n",
        "target= request.urlopen(\"http://www.kma.go.kr/weather/forecast/mid-term-rss3.jsp?stnId=108\")\n",
        "\n",
        "soup = BeautifulSoup(target,\"html.parser\")\n",
        "\n",
        "#location 태그를 찾는다.\n",
        "for location in soup.select(\"location\"):\n",
        "  #내부의 city,wf,tmn,tmx 태그를 찾아 출력한다\n",
        "  \n",
        "  print(\"도시: \", location.select_one(\"city\").string)\n",
        "  print(\"날씨: \", location.select_one(\"wf\").string)\n",
        "  print(\"최저기온: \", location.select_one(\"tmn\").string)\n",
        "  print(\"최고기온: \", location.select_one(\"tmx\").string)\n",
        "  print()"
      ],
      "execution_count": 8,
      "outputs": [
        {
          "output_type": "stream",
          "name": "stdout",
          "text": [
            "도시:  서울\n",
            "날씨:  맑음\n",
            "최저기온:  1\n",
            "최고기온:  11\n",
            "\n",
            "도시:  인천\n",
            "날씨:  맑음\n",
            "최저기온:  3\n",
            "최고기온:  11\n",
            "\n",
            "도시:  수원\n",
            "날씨:  맑음\n",
            "최저기온:  2\n",
            "최고기온:  12\n",
            "\n",
            "도시:  파주\n",
            "날씨:  맑음\n",
            "최저기온:  -2\n",
            "최고기온:  11\n",
            "\n",
            "도시:  이천\n",
            "날씨:  맑음\n",
            "최저기온:  0\n",
            "최고기온:  12\n",
            "\n",
            "도시:  평택\n",
            "날씨:  맑음\n",
            "최저기온:  2\n",
            "최고기온:  12\n",
            "\n",
            "도시:  춘천\n",
            "날씨:  맑음\n",
            "최저기온:  0\n",
            "최고기온:  13\n",
            "\n",
            "도시:  원주\n",
            "날씨:  맑음\n",
            "최저기온:  1\n",
            "최고기온:  11\n",
            "\n",
            "도시:  강릉\n",
            "날씨:  맑음\n",
            "최저기온:  4\n",
            "최고기온:  12\n",
            "\n",
            "도시:  대전\n",
            "날씨:  맑음\n",
            "최저기온:  2\n",
            "최고기온:  13\n",
            "\n",
            "도시:  세종\n",
            "날씨:  맑음\n",
            "최저기온:  2\n",
            "최고기온:  12\n",
            "\n",
            "도시:  홍성\n",
            "날씨:  맑음\n",
            "최저기온:  2\n",
            "최고기온:  11\n",
            "\n",
            "도시:  청주\n",
            "날씨:  맑음\n",
            "최저기온:  3\n",
            "최고기온:  12\n",
            "\n",
            "도시:  충주\n",
            "날씨:  맑음\n",
            "최저기온:  0\n",
            "최고기온:  11\n",
            "\n",
            "도시:  영동\n",
            "날씨:  맑음\n",
            "최저기온:  -1\n",
            "최고기온:  12\n",
            "\n",
            "도시:  광주\n",
            "날씨:  맑음\n",
            "최저기온:  4\n",
            "최고기온:  13\n",
            "\n",
            "도시:  목포\n",
            "날씨:  맑음\n",
            "최저기온:  8\n",
            "최고기온:  14\n",
            "\n",
            "도시:  여수\n",
            "날씨:  맑음\n",
            "최저기온:  7\n",
            "최고기온:  14\n",
            "\n",
            "도시:  순천\n",
            "날씨:  맑음\n",
            "최저기온:  5\n",
            "최고기온:  15\n",
            "\n",
            "도시:  광양\n",
            "날씨:  맑음\n",
            "최저기온:  5\n",
            "최고기온:  14\n",
            "\n",
            "도시:  나주\n",
            "날씨:  맑음\n",
            "최저기온:  4\n",
            "최고기온:  14\n",
            "\n",
            "도시:  전주\n",
            "날씨:  맑음\n",
            "최저기온:  3\n",
            "최고기온:  13\n",
            "\n",
            "도시:  군산\n",
            "날씨:  맑음\n",
            "최저기온:  3\n",
            "최고기온:  12\n",
            "\n",
            "도시:  정읍\n",
            "날씨:  맑음\n",
            "최저기온:  3\n",
            "최고기온:  12\n",
            "\n",
            "도시:  남원\n",
            "날씨:  맑음\n",
            "최저기온:  1\n",
            "최고기온:  12\n",
            "\n",
            "도시:  고창\n",
            "날씨:  맑음\n",
            "최저기온:  5\n",
            "최고기온:  12\n",
            "\n",
            "도시:  무주\n",
            "날씨:  맑음\n",
            "최저기온:  -2\n",
            "최고기온:  12\n",
            "\n",
            "도시:  부산\n",
            "날씨:  맑음\n",
            "최저기온:  6\n",
            "최고기온:  15\n",
            "\n",
            "도시:  울산\n",
            "날씨:  맑음\n",
            "최저기온:  5\n",
            "최고기온:  14\n",
            "\n",
            "도시:  창원\n",
            "날씨:  맑음\n",
            "최저기온:  6\n",
            "최고기온:  14\n",
            "\n",
            "도시:  진주\n",
            "날씨:  맑음\n",
            "최저기온:  5\n",
            "최고기온:  15\n",
            "\n",
            "도시:  거창\n",
            "날씨:  맑음\n",
            "최저기온:  0\n",
            "최고기온:  13\n",
            "\n",
            "도시:  통영\n",
            "날씨:  맑음\n",
            "최저기온:  7\n",
            "최고기온:  15\n",
            "\n",
            "도시:  대구\n",
            "날씨:  맑음\n",
            "최저기온:  3\n",
            "최고기온:  14\n",
            "\n",
            "도시:  안동\n",
            "날씨:  맑음\n",
            "최저기온:  2\n",
            "최고기온:  13\n",
            "\n",
            "도시:  포항\n",
            "날씨:  맑음\n",
            "최저기온:  5\n",
            "최고기온:  14\n",
            "\n",
            "도시:  경주\n",
            "날씨:  맑음\n",
            "최저기온:  2\n",
            "최고기온:  14\n",
            "\n",
            "도시:  울진\n",
            "날씨:  맑음\n",
            "최저기온:  5\n",
            "최고기온:  13\n",
            "\n",
            "도시:  울릉도\n",
            "날씨:  맑음\n",
            "최저기온:  7\n",
            "최고기온:  11\n",
            "\n",
            "도시:  제주\n",
            "날씨:  구름많음\n",
            "최저기온:  12\n",
            "최고기온:  15\n",
            "\n",
            "도시:  서귀포\n",
            "날씨:  구름많음\n",
            "최저기온:  11\n",
            "최고기온:  16\n",
            "\n"
          ]
        }
      ]
    }
  ]
}