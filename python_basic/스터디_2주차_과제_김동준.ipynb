{
  "nbformat": 4,
  "nbformat_minor": 0,
  "metadata": {
    "colab": {
      "name": "스터디 2주차 과제",
      "provenance": [],
      "collapsed_sections": [],
      "toc_visible": true
    },
    "kernelspec": {
      "name": "python3",
      "display_name": "Python 3"
    },
    "language_info": {
      "name": "python"
    }
  },
  "cells": [
    {
      "cell_type": "markdown",
      "metadata": {
        "id": "P76xCnPGu9NZ"
      },
      "source": [
        "# 2주차 과제 <직접 해보는 손코딩>"
      ]
    },
    {
      "cell_type": "markdown",
      "metadata": {
        "id": "q-IRBvuNvVP2"
      },
      "source": [
        "##### 1-3 이 책에서 자주 나오는 파이썬 용어들\n"
      ]
    },
    {
      "cell_type": "code",
      "metadata": {
        "colab": {
          "base_uri": "https://localhost:8080/"
        },
        "id": "XQYtCHmwvT0Q",
        "outputId": "71d7c47b-e857-4131-de4f-84a606663f86"
      },
      "source": [
        "# 하나만 출력합니다.\n",
        "print(\"# 하나만 출력합니다.\")\n",
        "print(\"Hello Python Programming...!\")\n",
        "print()\n",
        "\n",
        "# 여러 개를 출력합니다.\n",
        "print(\"# 여러 개를 출력합니다\")\n",
        "print(10, 20, 30, 40, 50)\n",
        "print(\"안녕하세요\",\"저의\",\"이름은\",\"김동준입니다!\")\n",
        "print()\n",
        "\n",
        "# 아무것도 입력하지 않으면 단순하게 줄바꿈합니다.\n",
        "print(\"# 아무것도 출력하지 않습니다.\")\n",
        "print(\"---확인 김동준---\")\n",
        "print()\n",
        "print()\n",
        "print(\"---확인 김동준---\")"
      ],
      "execution_count": null,
      "outputs": [
        {
          "output_type": "stream",
          "name": "stdout",
          "text": [
            "# 하나만 출력합니다.\n",
            "Hello Python Programming...!\n",
            "\n",
            "# 여러 개를 출력합니다\n",
            "10 20 30 40 50\n",
            "안녕하세요 저의 이름은 김동준입니다!\n",
            "\n",
            "# 아무것도 출력하지 않습니다.\n",
            "---확인 김동준---\n",
            "\n",
            "\n",
            "---확인 김동준---\n"
          ]
        }
      ]
    },
    {
      "cell_type": "markdown",
      "metadata": {
        "id": "B0Sf8pEwwG2h"
      },
      "source": [
        "##### 2-1 자료형과 문자열"
      ]
    },
    {
      "cell_type": "code",
      "metadata": {
        "colab": {
          "base_uri": "https://localhost:8080/"
        },
        "id": "J9RP5KZSvGIF",
        "outputId": "01a6f598-f063-4850-83ec-078529a07bb9"
      },
      "source": [
        "print(\"이름\\t나이\\t지역\")\n",
        "print(\"김동준\\t24\\t강원도\")\n",
        "print(\"윤인성\\t25\\t강서구\")\n",
        "print(\"윤아린\\t3\\t강서구\")"
      ],
      "execution_count": null,
      "outputs": [
        {
          "output_type": "stream",
          "name": "stdout",
          "text": [
            "이름\t나이\t지역\n",
            "김동준\t24\t강원도\n",
            "윤인성\t25\t강서구\n",
            "윤아린\t3\t강서구\n"
          ]
        }
      ]
    },
    {
      "cell_type": "code",
      "metadata": {
        "colab": {
          "base_uri": "https://localhost:8080/"
        },
        "id": "JjTGrR2ywsn-",
        "outputId": "40bc5154-f853-42e3-c6a1-364c9b9902b7"
      },
      "source": [
        "print(\"문자 선택 연산자에 대해 알아볼까요?\")\n",
        "print(\"안녕하세요\"[0])\n",
        "print(\"안녕하세요\"[1])\n",
        "print(\"안녕하세요\"[2])\n",
        "print(\"안녕하세요\"[3])\n",
        "print(\"안녕하세요\"[4])\n"
      ],
      "execution_count": null,
      "outputs": [
        {
          "output_type": "stream",
          "name": "stdout",
          "text": [
            "문자 선택 연산자에 대해 알아볼까요?\n",
            "안\n",
            "녕\n",
            "하\n",
            "세\n",
            "요\n"
          ]
        }
      ]
    },
    {
      "cell_type": "code",
      "metadata": {
        "colab": {
          "base_uri": "https://localhost:8080/"
        },
        "id": "duKRgp5zw8Ic",
        "outputId": "bbbec00c-e752-4b60-b57f-1191bb62853a"
      },
      "source": [
        "print(\"문자를 뒤에서부터 선택해 볼까요?\")\n",
        "print(\"안녕하세요\"[-1])\n",
        "print(\"안녕하세요\"[-2])\n",
        "print(\"안녕하세요\"[-3])\n",
        "print(\"안녕하세요\"[-4])\n",
        "print(\"안녕하세요\"[-5])\n"
      ],
      "execution_count": null,
      "outputs": [
        {
          "output_type": "stream",
          "name": "stdout",
          "text": [
            "문자를 뒤에서부터 선택해 볼까요?\n",
            "요\n",
            "세\n",
            "하\n",
            "녕\n",
            "안\n"
          ]
        }
      ]
    },
    {
      "cell_type": "markdown",
      "metadata": {
        "id": "v8sY35eZxIVi"
      },
      "source": [
        "##### 2-2 숫자"
      ]
    },
    {
      "cell_type": "code",
      "metadata": {
        "id": "EM8SN4MtxLeN",
        "colab": {
          "base_uri": "https://localhost:8080/"
        },
        "outputId": "67ee889c-c438-48b3-ed98-7bbd75a3735e"
      },
      "source": [
        "# 연산자\n",
        "\n",
        "print(\"5+7 = \", 5+7)    # 더하기\n",
        "print(\"7-5 = \", 7-5)    # 빼기\n",
        "print(\"5*7 = \", 5*7)    # 곱하기\n",
        "print(\"5/7 = \", 5/7)    # 나누기\n",
        "print(\"5//7 = \", 5//7)  # 몫\n",
        "print(\"5%7 = \", 5%7)    # 더하기\n",
        "print(\"5**7 = \", 5**7)  # 제곱"
      ],
      "execution_count": null,
      "outputs": [
        {
          "output_type": "stream",
          "name": "stdout",
          "text": [
            "5+7 =  12\n",
            "7-5 =  2\n",
            "5*7 =  35\n",
            "5/7 =  0.7142857142857143\n",
            "5//7 =  0\n",
            "5%7 =  5\n",
            "5**7 =  78125\n"
          ]
        }
      ]
    },
    {
      "cell_type": "markdown",
      "metadata": {
        "id": "uPZLoB0hxd-E"
      },
      "source": [
        "##### 2-3 변수와 입력\n"
      ]
    },
    {
      "cell_type": "code",
      "metadata": {
        "colab": {
          "base_uri": "https://localhost:8080/"
        },
        "id": "Q_zgVfpLxdZQ",
        "outputId": "c5532e06-eaf5-425c-fe22-5346645127ee"
      },
      "source": [
        "# 변수 선언과 할당\n",
        "pi = 3.14159265\n",
        "r = 10\n",
        "\n",
        "# 변수 참조\n",
        "print(\"원주율 = \", pi)\n",
        "print(\"반지름 = \", r)\n",
        "print(\"원의 둘레 = \", 2*pi*r)\n",
        "print(\"원의 넓이 = \", pi*r*r)"
      ],
      "execution_count": null,
      "outputs": [
        {
          "output_type": "stream",
          "name": "stdout",
          "text": [
            "원주율 =  3.14159265\n",
            "반지름 =  10\n",
            "원의 둘레 =  62.831853\n",
            "원의 넓이 =  314.159265\n"
          ]
        }
      ]
    },
    {
      "cell_type": "code",
      "metadata": {
        "colab": {
          "base_uri": "https://localhost:8080/"
        },
        "id": "uquF_sVZx4TE",
        "outputId": "3a8fe9e3-3f6e-4afd-cd74-f9ca618ebf70"
      },
      "source": [
        "# 입력을 받습니다.\n",
        "string = input(\"입력> \")\n",
        "\n",
        "# 출력합니다\n",
        "print(\"자료:\", string)\n",
        "print(\"자료형\", type(string))"
      ],
      "execution_count": null,
      "outputs": [
        {
          "output_type": "stream",
          "name": "stdout",
          "text": [
            "입력> Type\n",
            "자료: Type\n",
            "자료형 <class 'str'>\n"
          ]
        }
      ]
    },
    {
      "cell_type": "code",
      "metadata": {
        "colab": {
          "base_uri": "https://localhost:8080/",
          "height": 224
        },
        "id": "Yr-AUlZ_yMz5",
        "outputId": "a307b41f-8e0b-411e-8b3e-76af7ccba988"
      },
      "source": [
        "# 입력을 받습니다.\n",
        "string = input(\"입력> \")\n",
        "\n",
        "# 출력합니다.\n",
        "print(\"입력 + 100:\", string + 100)"
      ],
      "execution_count": null,
      "outputs": [
        {
          "name": "stdout",
          "output_type": "stream",
          "text": [
            "입력> 300\n"
          ]
        },
        {
          "output_type": "error",
          "ename": "TypeError",
          "evalue": "ignored",
          "traceback": [
            "\u001b[0;31m---------------------------------------------------------------------------\u001b[0m",
            "\u001b[0;31mTypeError\u001b[0m                                 Traceback (most recent call last)",
            "\u001b[0;32m<ipython-input-28-ca680e13f7b1>\u001b[0m in \u001b[0;36m<module>\u001b[0;34m()\u001b[0m\n\u001b[1;32m      3\u001b[0m \u001b[0;34m\u001b[0m\u001b[0m\n\u001b[1;32m      4\u001b[0m \u001b[0;31m# 출력합니다.\u001b[0m\u001b[0;34m\u001b[0m\u001b[0;34m\u001b[0m\u001b[0;34m\u001b[0m\u001b[0m\n\u001b[0;32m----> 5\u001b[0;31m \u001b[0mprint\u001b[0m\u001b[0;34m(\u001b[0m\u001b[0;34m\"입력 + 100:\"\u001b[0m\u001b[0;34m,\u001b[0m \u001b[0mstring\u001b[0m \u001b[0;34m+\u001b[0m \u001b[0;36m100\u001b[0m\u001b[0;34m)\u001b[0m\u001b[0;34m\u001b[0m\u001b[0;34m\u001b[0m\u001b[0m\n\u001b[0m",
            "\u001b[0;31mTypeError\u001b[0m: can only concatenate str (not \"int\") to str"
          ]
        }
      ]
    },
    {
      "cell_type": "code",
      "metadata": {
        "colab": {
          "base_uri": "https://localhost:8080/"
        },
        "id": "CYkWVaZ7zBgc",
        "outputId": "4d12cd92-b239-4e59-ab78-318c95fe9d99"
      },
      "source": [
        "string_a = input(\"입력A> \")\n",
        "int_a = int(string_a)\n",
        "\n",
        "string_b = input(\"입력B> \")\n",
        "int_b = int(string_b)\n",
        "\n",
        "print(\"문자열 자료:\", string_a + string_b)\n",
        "print(\"숫자 자료:\", int_a + int_b)"
      ],
      "execution_count": null,
      "outputs": [
        {
          "output_type": "stream",
          "name": "stdout",
          "text": [
            "입력A> 273\n",
            "입력B> 52\n",
            "문자열 자료: 27352\n",
            "숫자 자료: 325\n"
          ]
        }
      ]
    },
    {
      "cell_type": "code",
      "metadata": {
        "colab": {
          "base_uri": "https://localhost:8080/"
        },
        "id": "US7KQ_xpzsAA",
        "outputId": "af4119f4-d142-478f-d416-d95b91d4bda9"
      },
      "source": [
        "output_a = int(\"52\")\n",
        "output_b = float(\"52.273\")\n",
        "\n",
        "print(type(output_a), output_a)\n",
        "print(type(output_b), output_b)"
      ],
      "execution_count": null,
      "outputs": [
        {
          "output_type": "stream",
          "name": "stdout",
          "text": [
            "<class 'int'> 52\n",
            "<class 'float'> 52.273\n"
          ]
        }
      ]
    },
    {
      "cell_type": "code",
      "metadata": {
        "colab": {
          "base_uri": "https://localhost:8080/"
        },
        "id": "A5nAAdHs0DPk",
        "outputId": "b1ebe2dc-cd90-40e8-c5c6-ad09eaadd442"
      },
      "source": [
        "input_a = float(input(\"첫 번째 숫자>\"))\n",
        "input_b = float(input(\"두 번째 숫자>\"))\n",
        "\n",
        "print(\"덧셈 결과:\", input_a + input_b)\n",
        "print(\"뺄셈 결과:\", input_a - input_b)\n",
        "print(\"곱셈 결과:\", input_a * input_b)\n",
        "print(\"나눗셈 결과:\", input_a / input_b)"
      ],
      "execution_count": null,
      "outputs": [
        {
          "output_type": "stream",
          "name": "stdout",
          "text": [
            "첫 번째 숫자>273\n",
            "두 번째 숫자>52\n",
            "덧셈 결과: 325.0\n",
            "뺄셈 결과: 221.0\n",
            "곱셈 결과: 14196.0\n",
            "나눗셈 결과: 5.25\n"
          ]
        }
      ]
    },
    {
      "cell_type": "code",
      "metadata": {
        "colab": {
          "base_uri": "https://localhost:8080/"
        },
        "id": "YbBdQmU903rG",
        "outputId": "f0ccbf8f-d39e-44e2-c835-ac9eabccc2c8"
      },
      "source": [
        "output_a = str(52)\n",
        "output_b = str(52.273)\n",
        "print(type(output_a), output_a)\n",
        "print(type(output_b), output_b)"
      ],
      "execution_count": null,
      "outputs": [
        {
          "output_type": "stream",
          "name": "stdout",
          "text": [
            "<class 'str'> 52\n",
            "<class 'str'> 52.273\n"
          ]
        }
      ]
    },
    {
      "cell_type": "markdown",
      "metadata": {
        "id": "FculglBb1cYw"
      },
      "source": [
        "##### 2-4 숫자와 문자열의 다양한 기능"
      ]
    },
    {
      "cell_type": "code",
      "metadata": {
        "colab": {
          "base_uri": "https://localhost:8080/"
        },
        "id": "w8HfOmw_1tsa",
        "outputId": "d94b798b-882f-4f48-c1e7-edc63f2ba1c0"
      },
      "source": [
        "# float() 함수로 숫자를 문자열로 변환하기\n",
        "string_a = \"{}\". format(10)\n",
        "\n",
        "# 출력하기\n",
        "print(string_a)\n",
        "print(type(string_a))"
      ],
      "execution_count": null,
      "outputs": [
        {
          "output_type": "stream",
          "name": "stdout",
          "text": [
            "10\n",
            "<class 'str'>\n"
          ]
        }
      ]
    },
    {
      "cell_type": "code",
      "metadata": {
        "colab": {
          "base_uri": "https://localhost:8080/"
        },
        "id": "UsPLxkwc2MNk",
        "outputId": "c38a0cc4-743d-4cdf-de44-f49da85c462e"
      },
      "source": [
        "# format() 함수로 숫자를 문자열로 변환하기\n",
        "format_a = \"{}만 원\". format(5000)\n",
        "format_b = \"파이썬 열공하여 첫 연봉 {}만 원 만들기\". format(5000)\n",
        "format_c = \"{} {} {}\". format(3000, 4000, 5000)\n",
        "format_d = \"{} {} {}\". format(1, \"문자열\", True)\n",
        "\n",
        "# 출력하기\n",
        "print(format_a)\n",
        "print(format_b)\n",
        "print(format_c)\n",
        "print(format_d)"
      ],
      "execution_count": null,
      "outputs": [
        {
          "output_type": "stream",
          "name": "stdout",
          "text": [
            "5000만 원\n",
            "파이썬 열공하여 첫 연봉 5000만 원 만들기\n",
            "3000 4000 5000\n",
            "1 문자열 True\n"
          ]
        }
      ]
    },
    {
      "cell_type": "code",
      "metadata": {
        "colab": {
          "base_uri": "https://localhost:8080/"
        },
        "id": "vDJ4KmfX3FeT",
        "outputId": "9a791e17-ab82-4a22-a056-dab46624b4be"
      },
      "source": [
        "# 정수\n",
        "output_a = \"{:d}\".format(52)\n",
        "\n",
        "# 특정 칸에 출력하기\n",
        "output_b = \"{:5d}\".format(52)       # 5칸\n",
        "output_c = \"{:10d}\".format(52)      # 10칸\n",
        "\n",
        "# 빈칸을 0으로 채우기\n",
        "output_d = \"{:05d}\".format(52)      # 양수\n",
        "output_e = \"{:05d}\".format(-52)     # 음수\n",
        "\n",
        "print(\"# 기본\")\n",
        "print(output_a)\n",
        "print(\"# 특정 칸에 출력하기\")\n",
        "print(output_b)\n",
        "print(output_c)\n",
        "print(\"# 빈칸을 0으로 채우기\")\n",
        "print(output_d)\n",
        "print(output_e)"
      ],
      "execution_count": null,
      "outputs": [
        {
          "output_type": "stream",
          "name": "stdout",
          "text": [
            "# 기본\n",
            "52\n",
            "# 특정 칸에 출력하기\n",
            "   52\n",
            "        52\n",
            "# 빈칸을 0으로 채우기\n",
            "00052\n",
            "-0052\n"
          ]
        }
      ]
    },
    {
      "cell_type": "code",
      "metadata": {
        "colab": {
          "base_uri": "https://localhost:8080/"
        },
        "id": "4wJf0jYW4JD6",
        "outputId": "0027fe53-edf7-47b9-efb9-6618b7fa7170"
      },
      "source": [
        "# 기호와 함께 출력하기\n",
        "output_f = \"{:+d}\".format(52)      #양수\n",
        "output_g = \"{:+d}\".format(-52)     #음수\n",
        "output_h = \"{: d}\".format(52)      #양수:기호 부분 공백\n",
        "output_i = \"{: d}\".format(-52)     #음수:기호 부분 공백\n",
        "\n",
        "print(\"# 기호화 함께 출력하기\")\n",
        "print(output_f)\n",
        "print(output_g)\n",
        "print(output_h)\n",
        "print(output_i)"
      ],
      "execution_count": null,
      "outputs": [
        {
          "output_type": "stream",
          "name": "stdout",
          "text": [
            "# 기호화 함께 출력하기\n",
            "+52\n",
            "-52\n",
            " 52\n",
            "-52\n"
          ]
        }
      ]
    },
    {
      "cell_type": "code",
      "metadata": {
        "colab": {
          "base_uri": "https://localhost:8080/"
        },
        "id": "QV2WRw1L43Hs",
        "outputId": "5404e343-1f63-4d7c-efbc-cbe5d7636bcb"
      },
      "source": [
        "# 조합하기\n",
        "output_h = \"{:+5d}\".format(52)      # 기호를 뒤로 밀기: 양수\n",
        "output_i = \"{:+5d}\".format(-52)     # 기호를 뒤로 밀기: 음수\n",
        "output_j = \"{:=+5d}\".format(52)     # 기호를 앞으로 밀기: 양수\n",
        "output_k = \"{:=+5d}\".format(-52)    # 기호를 앞으로 밀기: 음수\n",
        "output_l = \"{:+05d}\".format(52)     # 0으로 채우기: 양수\n",
        "output_m = \"{:+05d}\".format(-52)    # 0으로 채우기: 음수\n",
        "\n",
        "print(\"# 조합하기\")\n",
        "print(output_h)\n",
        "print(output_i)\n",
        "print(output_j)\n",
        "print(output_k)\n",
        "print(output_l)\n",
        "print(output_m)"
      ],
      "execution_count": null,
      "outputs": [
        {
          "output_type": "stream",
          "name": "stdout",
          "text": [
            "# 조합하기\n",
            "  +52\n",
            "  -52\n",
            "+  52\n",
            "-  52\n",
            "+0052\n",
            "-0052\n"
          ]
        }
      ]
    },
    {
      "cell_type": "code",
      "metadata": {
        "colab": {
          "base_uri": "https://localhost:8080/"
        },
        "id": "TDfSOVr25qrw",
        "outputId": "5a05156d-5663-4ef2-b9d8-738a6086b870"
      },
      "source": [
        "# float 자료형 기본\n",
        "\n",
        "output_a = \"{:f}\".format(52.273)\n",
        "output_b = \"{:15f}\".format(52.273)  # 15칸 만들기\n",
        "output_c = \"{:+15f}\".format(52.273)  # 15칸 부호 추가하기\n",
        "output_d = \"{:+015f}\".format(52.273)  # 15칸에 부호 추가하고 0으로 채우기\n",
        "\n",
        "print(output_a)\n",
        "print(output_b)\n",
        "print(output_c)\n",
        "print(output_d)"
      ],
      "execution_count": null,
      "outputs": [
        {
          "output_type": "stream",
          "name": "stdout",
          "text": [
            "52.273000\n",
            "      52.273000\n",
            "     +52.273000\n",
            "+0000052.273000\n"
          ]
        }
      ]
    },
    {
      "cell_type": "code",
      "metadata": {
        "colab": {
          "base_uri": "https://localhost:8080/"
        },
        "id": "QlcQhfwJ6R54",
        "outputId": "0dd5cadc-33fc-400a-f342-0a8ce06dda7b"
      },
      "source": [
        "# 소수점 아래 자리수 지정하기 {:f}\n",
        "\n",
        "output_a = \"{:15.3f}\".format(52.273)\n",
        "output_b = \"{:15.2f}\".format(52.273)\n",
        "output_c = \"{:15.1f}\".format(52.273)\n",
        "\n",
        "print(output_a)\n",
        "print(output_b)\n",
        "print(output_c)"
      ],
      "execution_count": null,
      "outputs": [
        {
          "output_type": "stream",
          "name": "stdout",
          "text": [
            "         52.273\n",
            "          52.27\n",
            "           52.3\n"
          ]
        }
      ]
    },
    {
      "cell_type": "code",
      "metadata": {
        "colab": {
          "base_uri": "https://localhost:8080/"
        },
        "id": "GP1wn6YY7Ap9",
        "outputId": "dc12ea4b-0009-4cb5-a997-6226c8a41edc"
      },
      "source": [
        "# 의미 없는 소수점 제거하기 {:g}\n",
        "\n",
        "output_a = 52.0\n",
        "output_b = \"{:g}\".format(output_a)\n",
        "print(output_a)\n",
        "print(output_b)"
      ],
      "execution_count": null,
      "outputs": [
        {
          "output_type": "stream",
          "name": "stdout",
          "text": [
            "52.0\n",
            "52\n"
          ]
        }
      ]
    },
    {
      "cell_type": "markdown",
      "metadata": {
        "id": "DT9sHgS7lhkn"
      },
      "source": [
        "##### 3-1 불 자료형과 if 조건문"
      ]
    },
    {
      "cell_type": "code",
      "metadata": {
        "id": "DRUavtRMlgey",
        "colab": {
          "base_uri": "https://localhost:8080/"
        },
        "outputId": "ebfe31e3-1bdf-41cb-99bb-f4d29a418584"
      },
      "source": [
        "x = 10\n",
        "under_20 = x < 20\n",
        "print(\"under_20:\", under_20)\n",
        "print(\"not under_20:\", not under_20)"
      ],
      "execution_count": null,
      "outputs": [
        {
          "output_type": "stream",
          "name": "stdout",
          "text": [
            "under_20: True\n",
            "not under_20: False\n"
          ]
        }
      ]
    },
    {
      "cell_type": "code",
      "metadata": {
        "colab": {
          "base_uri": "https://localhost:8080/"
        },
        "id": "F1Kjn36Unljr",
        "outputId": "b594e83f-e8df-45be-b7db-bf4f0a35cbbf"
      },
      "source": [
        "# 입력을 받습니다.\n",
        "number = input(\"정수 입력> \")\n",
        "number = int(number)\n",
        "\n",
        "# 양수 조건\n",
        "if number > 0:\n",
        "  print(\"양수입니다.\")\n",
        "\n",
        "# 음수 조건\n",
        "if number < 0:\n",
        "  print(\"음수입니다.\")\n",
        "\n",
        "# 0 조건\n",
        "if number == 0\n",
        " 0:\n",
        "  print(\"0입니다\")"
      ],
      "execution_count": null,
      "outputs": [
        {
          "output_type": "stream",
          "name": "stdout",
          "text": [
            "정수 입력> 0\n",
            "0입니다\n"
          ]
        }
      ]
    },
    {
      "cell_type": "code",
      "metadata": {
        "colab": {
          "base_uri": "https://localhost:8080/"
        },
        "id": "MrCUdN8Co0WM",
        "outputId": "76a78db7-1f2c-4967-e71c-bab447acb889"
      },
      "source": [
        "# 날짜/시간과 관련된 기능을 가져옵니다.\n",
        "import datetime\n",
        "\n",
        "# 현재 날짜/시간을 구합니다.\n",
        "now = datetime.datetime.now()\n",
        "\n",
        "# 출력합니다.\n",
        "print(now.year,\"년\")\n",
        "print(now.month,\"월\")\n",
        "print(now.day,\"일\")\n",
        "print(now.hour,\"시\")\n",
        "print(now.minute,\"분\")\n",
        "print(now.second,\"초\")\n"
      ],
      "execution_count": null,
      "outputs": [
        {
          "output_type": "stream",
          "name": "stdout",
          "text": [
            "2021 년\n",
            "9 월\n",
            "16 일\n",
            "3 시\n",
            "27 분\n",
            "29 초\n"
          ]
        }
      ]
    },
    {
      "cell_type": "code",
      "metadata": {
        "colab": {
          "base_uri": "https://localhost:8080/"
        },
        "id": "zKnVa4fGpU83",
        "outputId": "a4d4d1e0-29f8-4000-b0b6-0066adb8676a"
      },
      "source": [
        "# 날짜/시간과 관련된 기능을 가져옵니다.\n",
        "import datetime\n",
        "\n",
        "# 현재 날짜/시간을 구합니다.\n",
        "now = datetime.datetime.now()\n",
        "\n",
        "# 출력합니다.\n",
        "print(\"{}년 {}월 {}일 {}시 {}분 {}초\".format(\n",
        "    now.year,\n",
        "    now.month,\n",
        "    now.day,\n",
        "    now.hour,\n",
        "    now.minute,\n",
        "    now.second\n",
        "))"
      ],
      "execution_count": null,
      "outputs": [
        {
          "output_type": "stream",
          "name": "stdout",
          "text": [
            "2021년 9월 16일 3시 30분 56초\n"
          ]
        }
      ]
    },
    {
      "cell_type": "code",
      "metadata": {
        "colab": {
          "base_uri": "https://localhost:8080/"
        },
        "id": "zYuJgBE-qFXQ",
        "outputId": "04a12377-e3aa-4511-f553-2e3e70493c57"
      },
      "source": [
        "# 날짜/시간과 관련된 기능을 가져옵니다.\n",
        "import datetime\n",
        "\n",
        "# 현재 날짜/시간을 구합니다.\n",
        "now = datetime.datetime.now()\n",
        "\n",
        "# 오전 구분\n",
        "if now. hour < 12:\n",
        "  print(\"현재 시각은 {}시로 오전입니다!\".format(now.hour))\n",
        "\n",
        "# 오후 구분\n",
        "if now. hour > 12:\n",
        "  print(\"현재 시각은 {}시로 오후입니다!\".format(now.hour))"
      ],
      "execution_count": null,
      "outputs": [
        {
          "output_type": "stream",
          "name": "stdout",
          "text": [
            "현재 시각은 3시로 오전입니다!\n"
          ]
        }
      ]
    },
    {
      "cell_type": "code",
      "metadata": {
        "colab": {
          "base_uri": "https://localhost:8080/"
        },
        "id": "SjX_XRfWqiOT",
        "outputId": "d51cf01a-7d96-4058-e25c-cad12ca5c851"
      },
      "source": [
        "# 날짜/시간과 관련된 기능을 가져옵니다.\n",
        "import datetime\n",
        "\n",
        "# 현재 날짜/시간을 구합니다.\n",
        "now = datetime.datetime.now()\n",
        "\n",
        "# 봄 구분\n",
        "if 3 <= now. month <= 5:\n",
        "  print(\"이번 달은 {}월로 봄입니다!\".format(now.month))\n",
        "\n",
        "# 여름 구분\n",
        "if 6 <= now. month <= 8:\n",
        "  print(\"이번 달은 {}월로 여름입니다!\".format(now.month))\n",
        "  \n",
        "# 가을 구분\n",
        "if 9 <= now. month <= 11:\n",
        "  print(\"이번 달은 {}월로 가을입니다!\".format(now.month))\n",
        "  \n",
        "# 겨울 구분\n",
        "if 12 or 1 <= now. month <= 2:\n",
        "  print(\"이번 달은 {}월로 겨울입니다!\".format(now.month))"
      ],
      "execution_count": null,
      "outputs": [
        {
          "output_type": "stream",
          "name": "stdout",
          "text": [
            "이번 달은 9월로 가을입니다!\n",
            "이번 달은 9월로 겨울입니다!\n"
          ]
        }
      ]
    },
    {
      "cell_type": "code",
      "metadata": {
        "colab": {
          "base_uri": "https://localhost:8080/",
          "height": 135
        },
        "id": "CH4SOzmUrRvR",
        "outputId": "5b576593-088e-4a3d-fa15-254f1281d44b"
      },
      "source": [
        "# 입력을 받습니다.\n",
        "number = input(\"정수입력> \")\n",
        "\n",
        "# 마지막 자리 숫자를 추출\n",
        "last_character = number[-1]\n",
        "\n",
        "# 숫자로 변환하기\n",
        "last_character = int(last_character)\n",
        "\n",
        "# 쨕수 확인\n",
        "if last_number == 0: \\\n",
        "  or last_number == 2 \\\n",
        "  or last_number == 4 \\\n",
        "  or last_number == 6 \\\n",
        "  or last_number == 8:\n",
        "  print(\"짝수입니다.\")\n",
        "\n",
        "# 홀수 확인\n",
        "if last_number == 1: \\\n",
        "  or last_number == 3 \\\n",
        "  or last_number == 5 \\\n",
        "  or last_number == 7 \\\n",
        "  or last_number == 9:\n",
        "  print(\"홀수입니다.\")"
      ],
      "execution_count": null,
      "outputs": [
        {
          "output_type": "error",
          "ename": "SyntaxError",
          "evalue": "ignored",
          "traceback": [
            "\u001b[0;36m  File \u001b[0;32m\"<ipython-input-28-cf1d88c97360>\"\u001b[0;36m, line \u001b[0;32m11\u001b[0m\n\u001b[0;31m    if last_number == 0:   or last_number == 2   or last_number == 4   or last_number == 6   or last_number == 8:\u001b[0m\n\u001b[0m                            ^\u001b[0m\n\u001b[0;31mSyntaxError\u001b[0m\u001b[0;31m:\u001b[0m invalid syntax\n"
          ]
        }
      ]
    },
    {
      "cell_type": "code",
      "metadata": {
        "colab": {
          "base_uri": "https://localhost:8080/"
        },
        "id": "rHpWmDCLsU4z",
        "outputId": "a8cff2a3-7077-4f83-95b4-252b16b4ba5a"
      },
      "source": [
        "# 입력을 받습니다.\n",
        "number = input(\"정수 입력> \")\n",
        "last_character = number[-1]\n",
        "\n",
        "# 짝수 조건\n",
        "if last_character in \"02468\":\n",
        "  print(\"짝수입니다.\")\n",
        "\n",
        "# 홀수 조건\n",
        "if last_character in \"13579\":\n",
        "  print(\"홀수입니다.\")"
      ],
      "execution_count": null,
      "outputs": [
        {
          "output_type": "stream",
          "name": "stdout",
          "text": [
            "정수 입력> 27\n",
            "홀수입니다.\n"
          ]
        }
      ]
    },
    {
      "cell_type": "code",
      "metadata": {
        "colab": {
          "base_uri": "https://localhost:8080/"
        },
        "id": "BTRqB4M6sqqw",
        "outputId": "932172d5-aafa-4e4a-bcf1-bc577ae71b1d"
      },
      "source": [
        "# 입력을 받습니다.\n",
        "number = input(\"정수 입력> \")\n",
        "number = int(number)\n",
        "\n",
        "# 짝수 조건\n",
        "if number % 2 == 0:\n",
        "  print(\"짝수입니다.\")\n",
        "\n",
        "# 홀수 조건\n",
        "if number % 2 == 1:\n",
        "  print(\"홀수입니다.\")"
      ],
      "execution_count": null,
      "outputs": [
        {
          "output_type": "stream",
          "name": "stdout",
          "text": [
            "정수 입력> 52\n",
            "짝수입니다.\n"
          ]
        }
      ]
    },
    {
      "cell_type": "markdown",
      "metadata": {
        "id": "SJQUwnGYs-_w"
      },
      "source": [
        "##### 3-2 if~else와 elif 구문"
      ]
    },
    {
      "cell_type": "code",
      "metadata": {
        "colab": {
          "base_uri": "https://localhost:8080/"
        },
        "id": "vH-hltGltFZ2",
        "outputId": "0ab245ae-d8bb-4cc9-868d-f895b6911c6d"
      },
      "source": [
        "# 입력을 받습니다.\n",
        "number = input(\"정수 입력> \")\n",
        "number = int(number)\n",
        "\n",
        "# 조건문을 사용합니다.\n",
        "if number % 2 == 0:\n",
        "  # 조건이 참일 때, 즉 짝수 조건\n",
        "  print(\"짝수입니다.\")\n",
        "else:\n",
        "  # 조건이 거짓일 때, 즉 홀수 조건\n",
        "  print(\"홀수입니다.\")2"
      ],
      "execution_count": null,
      "outputs": [
        {
          "output_type": "stream",
          "name": "stdout",
          "text": [
            "정수 입력> 73\n",
            "홀수입니다.\n"
          ]
        }
      ]
    },
    {
      "cell_type": "code",
      "metadata": {
        "colab": {
          "base_uri": "https://localhost:8080/"
        },
        "id": "05YoAbsHtZ7F",
        "outputId": "b5ca710e-27ba-4959-ded3-a119b0d6081c"
      },
      "source": [
        "# 날짜/시간과 관련된 기능을 가져옵니다.\n",
        "import datetime\n",
        "\n",
        "# 현재 날짜/시간을 구하고\n",
        "# 쉽게 사용할 수 있게 월을 변수에 저장합니다.\n",
        "now = datetime.datetime.now()\n",
        "month = now.month\n",
        "\n",
        "# 조건문으로 계절을 확인합니다.\n",
        "if 3 <= month <= 5:\n",
        "  print(\"현재는 봄입니다.\")\n",
        "elif 6 <= month <= 8:\n",
        "  print(\"현재는 여름입니다.\")\n",
        "elif 9 <= month <= 11:\n",
        "  print(\"현재는 가을입니다.\")\n",
        "else:\n",
        "  print(\"현재는 겨울입니다.\")"
      ],
      "execution_count": null,
      "outputs": [
        {
          "output_type": "stream",
          "name": "stdout",
          "text": [
            "현재는 가을입니다.\n"
          ]
        }
      ]
    },
    {
      "cell_type": "code",
      "metadata": {
        "colab": {
          "base_uri": "https://localhost:8080/"
        },
        "id": "CXwNdSEluU4g",
        "outputId": "c3a35f6c-8cb2-4a0c-c6f8-8917879ce7ab"
      },
      "source": [
        "# 변수를 선언합니다.\n",
        "score = float(input(\"학점 입력> \"))\n",
        "\n",
        "# 조건문을 적용합니다.\n",
        "if score == 4.5:\n",
        "  print(\"신\")\n",
        "elif 4.2 <= score <4.5:\n",
        "  print(\"교수님의 사랑\")\n",
        "elif 3.5 <= score < 4.2:\n",
        "  print(\"현 체제의 수호자\")\n",
        "elif 2.8 <= score < 3.5:\n",
        "  print(\"일반인\")\n",
        "elif 2.3 <= score < 2.8:\n",
        "  print(\"일탈을 꿈꾸는 소시민\")\n",
        "elif 1.75 <= score < 2.3:\n",
        "  print(\"오락문화의 선구자\")\n",
        "elif 1.0 <= score < 1.75:\n",
        "  print(\"불가촉천민\")\n",
        "elif 0.5 <= score < 1.0:\n",
        "  print(\"자벌레\")\n",
        "elif 0 < score < 0.5:\n",
        "  print(\"플랑크톤\")\n",
        "elif score == 0:\n",
        "  print(\"시대를 앞서가는 혁명의 씨앗\")"
      ],
      "execution_count": null,
      "outputs": [
        {
          "output_type": "stream",
          "name": "stdout",
          "text": [
            "학점 입력> 3.4\n",
            "일반인\n"
          ]
        }
      ]
    },
    {
      "cell_type": "code",
      "metadata": {
        "colab": {
          "base_uri": "https://localhost:8080/"
        },
        "id": "9hXMP41qvrfW",
        "outputId": "6583f1d2-8a68-47c6-c640-7e72fd877e15"
      },
      "source": [
        "# 변수를 선언합니다.\n",
        "score = float(input(\"학점 입력> \"))\n",
        "\n",
        "# 조건문을 적용합니다.\n",
        "if score == 4.5:\n",
        "  print(\"신\")\n",
        "elif 4.2 <= score:\n",
        "  print(\"교수님의 사랑\")\n",
        "elif 3.5 <= score:\n",
        "  print(\"현 체제의 수호자\")\n",
        "elif 2.8 <= score:\n",
        "  print(\"일반인\")\n",
        "elif 2.3 <= score:\n",
        "  print(\"일탈을 꿈꾸는 소시민\")\n",
        "elif 1.75 <= score:\n",
        "  print(\"오락문화의 선구자\")\n",
        "elif 1.0 <= score:\n",
        "  print(\"불가촉천민\")\n",
        "elif 0.5 <= score:\n",
        "  print(\"자벌레\")\n",
        "elif 0 < score:\n",
        "  print(\"플랑크톤\")\n",
        "elif score == 0:\n",
        "  print(\"시대를 앞서가는 혁명의 씨앗\")"
      ],
      "execution_count": null,
      "outputs": [
        {
          "output_type": "stream",
          "name": "stdout",
          "text": [
            "학점 입력> 0.2\n",
            "플랑크톤\n"
          ]
        }
      ]
    },
    {
      "cell_type": "code",
      "metadata": {
        "colab": {
          "base_uri": "https://localhost:8080/"
        },
        "id": "_Rp0OOeHv7t5",
        "outputId": "a39f4a5e-c55f-4f38-dd28-11dc97444af5"
      },
      "source": [
        "print(\"# if 조건문에 0 넣기\")\n",
        "if 0:\n",
        "  print(\"0은 True로 변환됩니다.\")\n",
        "else:\n",
        "  print(\"0은 False로 변환됩니다,\")\n",
        "print()\n",
        "\n",
        "print(\"# if 조건문에 빈 문자열 넣기\")\n",
        "if \"\":\n",
        "  print(\"빈 문자열은 True로 변환됩니다.\")\n",
        "else:\n",
        "  print(\"빈 문자열은 False로 변환됩니다.\")"
      ],
      "execution_count": null,
      "outputs": [
        {
          "output_type": "stream",
          "name": "stdout",
          "text": [
            "# if 조건문에 0 넣기\n",
            "0은 False로 변환됩니다,\n",
            "\n",
            "# if 조건문에 빈 문자열 넣기\n",
            "빈 문자열은 False로 변환됩니다.\n"
          ]
        }
      ]
    },
    {
      "cell_type": "code",
      "metadata": {
        "colab": {
          "base_uri": "https://localhost:8080/",
          "height": 135
        },
        "id": "hQexh9z0w1oO",
        "outputId": "3236b9a4-7bf8-4718-9eca-0069b459d47b"
      },
      "source": [
        "# 입력을 받습니다.\n",
        "number = input(\"정수 입력> \")\n",
        "number = int(number)\n",
        "\n",
        "# 조건문 사용\n",
        "if number > 0:\n",
        "  # 양수일 때 : 아직 미구현 상태입니다.\n",
        "else:\n",
        "  # 음수일 때 : 아직 미구현 상태입니다."
      ],
      "execution_count": null,
      "outputs": [
        {
          "output_type": "error",
          "ename": "IndentationError",
          "evalue": "ignored",
          "traceback": [
            "\u001b[0;36m  File \u001b[0;32m\"<ipython-input-50-52cbca4679cf>\"\u001b[0;36m, line \u001b[0;32m8\u001b[0m\n\u001b[0;31m    else:\u001b[0m\n\u001b[0m       ^\u001b[0m\n\u001b[0;31mIndentationError\u001b[0m\u001b[0;31m:\u001b[0m expected an indented block\n"
          ]
        }
      ]
    },
    {
      "cell_type": "code",
      "metadata": {
        "id": "qWCcVlhVyyJh"
      },
      "source": [
        ""
      ],
      "execution_count": null,
      "outputs": []
    },
    {
      "cell_type": "code",
      "metadata": {
        "colab": {
          "base_uri": "https://localhost:8080/"
        },
        "id": "OFaY2zE0xRIr",
        "outputId": "2f3fd76b-8d62-44cd-fcb6-7d9fe9290783"
      },
      "source": [
        "# 입력을 받습니다.\n",
        "number = input(\"정수 입력> \")\n",
        "number = int(number)\n",
        "\n",
        "# 조건문 사용\n",
        "if number > 0:\n",
        "  # 양수일 때 : 아직 미구현 상태입니다.\n",
        "  pass\n",
        "else:\n",
        "  # 음수일 때 : 아직 미구현 상태입니다.\n",
        "  pass"
      ],
      "execution_count": null,
      "outputs": [
        {
          "name": "stdout",
          "output_type": "stream",
          "text": [
            "정수 입력> 1\n"
          ]
        }
      ]
    }
  ]
}