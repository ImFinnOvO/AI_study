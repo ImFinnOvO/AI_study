{
  "nbformat": 4,
  "nbformat_minor": 0,
  "metadata": {
    "colab": {
      "name": "서연_1주차_코드.ipynb",
      "provenance": [],
      "mount_file_id": "1TXcgMWjieVz94jEJ0kEp1wyFsicCceKE",
      "authorship_tag": "ABX9TyOgWbndEWsAra/a+GX5STcO",
      "include_colab_link": true
    },
    "kernelspec": {
      "name": "python3",
      "display_name": "Python 3"
    },
    "language_info": {
      "name": "python"
    }
  },
  "cells": [
    {
      "cell_type": "markdown",
      "metadata": {
        "id": "view-in-github",
        "colab_type": "text"
      },
      "source": [
        "<a href=\"https://colab.research.google.com/github/sweetcide/AI_study/blob/main/%EC%84%9C%EC%97%B0_1%EC%A3%BC%EC%B0%A8_%EC%BD%94%EB%93%9C.ipynb\" target=\"_parent\"><img src=\"https://colab.research.google.com/assets/colab-badge.svg\" alt=\"Open In Colab\"/></a>"
      ]
    },
    {
      "cell_type": "code",
      "metadata": {
        "colab": {
          "base_uri": "https://localhost:8080/"
        },
        "id": "-it7jJDZ0B-7",
        "outputId": "99e4e1e5-7a0d-436a-c84a-7e1206e3871d"
      },
      "source": [
        "from google.colab import drive\n",
        "drive.mount('/content/drive')"
      ],
      "execution_count": 1,
      "outputs": [
        {
          "output_type": "stream",
          "name": "stdout",
          "text": [
            "Mounted at /content/drive\n"
          ]
        }
      ]
    },
    {
      "cell_type": "markdown",
      "metadata": {
        "id": "xUl-02333jTY"
      },
      "source": [
        "###page39"
      ]
    },
    {
      "cell_type": "code",
      "metadata": {
        "colab": {
          "base_uri": "https://localhost:8080/"
        },
        "id": "O6TKyaVx0Qf9",
        "outputId": "2c804684-991d-480e-fe76-a8e633afdfaa"
      },
      "source": [
        "print('# 하나만 출력합니다.')\n",
        "print('Hello Python Programming...!')\n",
        "print()\n",
        "\n",
        "print('# 여러개를 출력합니다.')\n",
        "print(10,20,30,40,50)\n",
        "print(\"안녕하세요\",\"저의\",\"이름은\",\"이서연입니다!\")\n",
        "print()\n",
        "\n",
        "print('# 아무것도 출력하지 않습니다')\n",
        "print(\"--확인 전용선--\")\n",
        "print()\n",
        "print()\n",
        "print(\"--확인 전용선--\")"
      ],
      "execution_count": 6,
      "outputs": [
        {
          "output_type": "stream",
          "name": "stdout",
          "text": [
            "# 하나만 출력합니다.\n",
            "Hello Python Programming...!\n",
            "\n",
            "# 여러개를 출력합니다.\n",
            "10 20 30 40 50\n",
            "안녕하세요 저의 이름은 이서연입니다!\n",
            "\n",
            "# 아무것도 출력하지 않습니다\n",
            "--확인 전용선--\n",
            "\n",
            "\n",
            "--확인 전용선--\n"
          ]
        }
      ]
    },
    {
      "cell_type": "markdown",
      "metadata": {
        "id": "rlnjPUFr3of0"
      },
      "source": [
        "###page53"
      ]
    },
    {
      "cell_type": "code",
      "metadata": {
        "colab": {
          "base_uri": "https://localhost:8080/"
        },
        "id": "cPrbxaBx1QbN",
        "outputId": "b67d78fe-90a0-47e7-8c16-b0a6e758a753"
      },
      "source": [
        "print(\"이름\\t나이\\t지역\")\n",
        "print(\"이서연\\t24\\t화성\")\n",
        "print(\"짱구\\t5\\t도쿄\")\n",
        "print(\"서연\\t5\\t수원\")\n",
        "\n"
      ],
      "execution_count": 10,
      "outputs": [
        {
          "output_type": "stream",
          "name": "stdout",
          "text": [
            "이름\t나이\t지역\n",
            "이서연\t24\t화성\n",
            "짱구\t5\t도쿄\n",
            "서연\t5\t수원\n"
          ]
        }
      ]
    },
    {
      "cell_type": "code",
      "metadata": {
        "colab": {
          "base_uri": "https://localhost:8080/"
        },
        "id": "JA_s4Wlu4lBB",
        "outputId": "9e9decfc-a1dd-40a5-e59d-ec4b29bd8e88"
      },
      "source": [
        "print(\"\"\"\n",
        "동해물과 백두산이 마르고 닳도록\n",
        "하느님이 보우하사 우리나라 만세\n",
        "무궁화 삼천리 화려강산\n",
        "대한사람 대한으로 길이 보전하세\n",
        "\"\"\")"
      ],
      "execution_count": 11,
      "outputs": [
        {
          "output_type": "stream",
          "name": "stdout",
          "text": [
            "\n",
            "동해물과 백두산이 마르고 닳도록\n",
            "하느님이 보우하사 우리나라 만세\n",
            "무궁화 삼천리 화려강산\n",
            "대한사람 대한으로 길이 보전하세\n",
            "\n"
          ]
        }
      ]
    },
    {
      "cell_type": "markdown",
      "metadata": {
        "id": "o07RpTmd46hd"
      },
      "source": [
        "###page57"
      ]
    },
    {
      "cell_type": "code",
      "metadata": {
        "colab": {
          "base_uri": "https://localhost:8080/"
        },
        "id": "3kzgYiJp353O",
        "outputId": "39af8ede-e18c-487e-85b5-c7e1f8b38a03"
      },
      "source": [
        "print(\"문자 선택 연산자에 대해 알아볼까요?\")\n",
        "print(\"안녕하세요\"[0])\n",
        "print(\"안녕하세요\"[1])\n",
        "print(\"안녕하세요\"[2])\n",
        "print(\"안녕하세요\"[3])\n",
        "print(\"안녕하세요\"[4])"
      ],
      "execution_count": 12,
      "outputs": [
        {
          "output_type": "stream",
          "name": "stdout",
          "text": [
            "문자 선택 연산자에 대해 알아볼까요?\n",
            "안\n",
            "녕\n",
            "하\n",
            "세\n",
            "요\n"
          ]
        }
      ]
    },
    {
      "cell_type": "markdown",
      "metadata": {
        "id": "S9IAM1iH5YJ-"
      },
      "source": [
        "###page58"
      ]
    },
    {
      "cell_type": "code",
      "metadata": {
        "colab": {
          "base_uri": "https://localhost:8080/"
        },
        "id": "0CihIKth5EkX",
        "outputId": "e8aa6c1d-a595-48f4-a60a-342597c74777"
      },
      "source": [
        "print(\"문자를 뒤에서부터 선택해 볼까요?\")\n",
        "print(\"안녕하세요\"[-1])\n",
        "print(\"안녕하세요\"[-2])\n",
        "print(\"안녕하세요\"[-3])\n",
        "print(\"안녕하세요\"[-4])\n",
        "print(\"안녕하세요\"[-5])"
      ],
      "execution_count": 14,
      "outputs": [
        {
          "output_type": "stream",
          "name": "stdout",
          "text": [
            "문자를 뒤에서부터 선택해 볼까요?\n",
            "요\n",
            "세\n",
            "하\n",
            "녕\n",
            "안\n"
          ]
        }
      ]
    },
    {
      "cell_type": "markdown",
      "metadata": {
        "id": "SrVQTkwJSykW"
      },
      "source": [
        "###page77"
      ]
    },
    {
      "cell_type": "code",
      "metadata": {
        "colab": {
          "base_uri": "https://localhost:8080/"
        },
        "id": "SqO9NfmJRajH",
        "outputId": "63da117b-06af-4550-f53c-3171279cb980"
      },
      "source": [
        "pi = 3.14159265\n",
        "r = 10\n",
        "\n",
        "print(\"원주율 :\", pi)\n",
        "print(\"지름 :\", r)\n",
        "print(\"원의 둘레 :\", 2*pi*r)\n",
        "print(\"원의 넓이 :\", pi*r*r)"
      ],
      "execution_count": 25,
      "outputs": [
        {
          "output_type": "stream",
          "name": "stdout",
          "text": [
            "원주율 : 3.14159265\n",
            "지름 : 10\n",
            "원의 둘레 : 62.831853\n",
            "원의 넓이 : 314.159265\n"
          ]
        }
      ]
    },
    {
      "cell_type": "markdown",
      "metadata": {
        "id": "JHHp6xlWUPo1"
      },
      "source": [
        "###page82"
      ]
    },
    {
      "cell_type": "code",
      "metadata": {
        "colab": {
          "base_uri": "https://localhost:8080/"
        },
        "id": "sO1oYF59T5Ez",
        "outputId": "b7b28695-0d11-48e7-ac6b-f06ce4b2d736"
      },
      "source": [
        "string = input(\"입력 >\")"
      ],
      "execution_count": 30,
      "outputs": [
        {
          "name": "stdout",
          "output_type": "stream",
          "text": [
            "입력 >하하하\n"
          ]
        }
      ]
    },
    {
      "cell_type": "code",
      "metadata": {
        "colab": {
          "base_uri": "https://localhost:8080/"
        },
        "id": "m1RjQHJ6UU27",
        "outputId": "f3454402-e863-4e6c-d0e9-8f3a524ca648"
      },
      "source": [
        "print(string)"
      ],
      "execution_count": 31,
      "outputs": [
        {
          "output_type": "stream",
          "name": "stdout",
          "text": [
            "하하하\n"
          ]
        }
      ]
    },
    {
      "cell_type": "code",
      "metadata": {
        "colab": {
          "base_uri": "https://localhost:8080/"
        },
        "id": "J6asF0WRUZpx",
        "outputId": "e57e3ce3-257b-4e5b-a5c3-4a411932b1fb"
      },
      "source": [
        "print(type(string))"
      ],
      "execution_count": 32,
      "outputs": [
        {
          "output_type": "stream",
          "name": "stdout",
          "text": [
            "<class 'str'>\n"
          ]
        }
      ]
    },
    {
      "cell_type": "code",
      "metadata": {
        "colab": {
          "base_uri": "https://localhost:8080/",
          "height": 171
        },
        "id": "wzKd3aPhUa5m",
        "outputId": "f41ced67-b01e-4f65-92aa-3acee1665ab7"
      },
      "source": [
        "print(\"입력 + 100 >\",string+100)"
      ],
      "execution_count": 33,
      "outputs": [
        {
          "output_type": "error",
          "ename": "TypeError",
          "evalue": "ignored",
          "traceback": [
            "\u001b[0;31m---------------------------------------------------------------------------\u001b[0m",
            "\u001b[0;31mTypeError\u001b[0m                                 Traceback (most recent call last)",
            "\u001b[0;32m<ipython-input-33-fe45fcb35e5c>\u001b[0m in \u001b[0;36m<module>\u001b[0;34m()\u001b[0m\n\u001b[0;32m----> 1\u001b[0;31m \u001b[0mprint\u001b[0m\u001b[0;34m(\u001b[0m\u001b[0;34m\"입력 + 100 >\"\u001b[0m\u001b[0;34m,\u001b[0m\u001b[0mstring\u001b[0m\u001b[0;34m+\u001b[0m\u001b[0;36m100\u001b[0m\u001b[0;34m)\u001b[0m\u001b[0;34m\u001b[0m\u001b[0;34m\u001b[0m\u001b[0m\n\u001b[0m",
            "\u001b[0;31mTypeError\u001b[0m: can only concatenate str (not \"int\") to str"
          ]
        }
      ]
    },
    {
      "cell_type": "markdown",
      "metadata": {
        "id": "YWdDwH53WHWZ"
      },
      "source": [
        "###page83"
      ]
    },
    {
      "cell_type": "code",
      "metadata": {
        "colab": {
          "base_uri": "https://localhost:8080/"
        },
        "id": "-j_pPqQ_UhEf",
        "outputId": "597d580a-7bf2-4db0-afbe-40dc5751f2a6"
      },
      "source": [
        "string_a = input(\"입력 >\")\n",
        "int_a = int(string_a)\n",
        "\n",
        "string_b = input(\"입력 >\")\n",
        "int_b = int(string_b)\n",
        "\n",
        "print()\n",
        "print('문자열 자료 :',string_a+string_b) \n",
        "print('숫자 자료 :',int_a+int_b)"
      ],
      "execution_count": 46,
      "outputs": [
        {
          "output_type": "stream",
          "name": "stdout",
          "text": [
            "입력 >100\n",
            "입력 >200\n",
            "\n",
            "문자열 자료 : 100200\n",
            "숫자 자료 : 300\n"
          ]
        }
      ]
    },
    {
      "cell_type": "code",
      "metadata": {
        "colab": {
          "base_uri": "https://localhost:8080/"
        },
        "id": "DUOCGOjxUwZz",
        "outputId": "83515185-ab38-4244-915f-613612e7eea3"
      },
      "source": [
        "output_a = int(\"52\")\n",
        "output_b = float(\"32.154\")\n",
        "\n",
        "print(type(output_a),output_a)\n",
        "print(type(output_b),output_b)"
      ],
      "execution_count": 47,
      "outputs": [
        {
          "output_type": "stream",
          "name": "stdout",
          "text": [
            "<class 'int'> 52\n",
            "<class 'float'> 32.154\n"
          ]
        }
      ]
    },
    {
      "cell_type": "code",
      "metadata": {
        "colab": {
          "base_uri": "https://localhost:8080/"
        },
        "id": "ALthktXTWc4S",
        "outputId": "cfde5065-6631-4a2a-d86d-d7440f0a6df1"
      },
      "source": [
        "input_a = float(input(\"입력\"))\n",
        "input_b = float(input(\"입력\"))\n",
        "\n",
        "print('덧셈결과 :',input_a+input_b)\n",
        "print('뺄셈결과 :',input_a-input_b)\n",
        "print('곱셈결과 :',input_a*input_b)\n",
        "print('나눗셈셈결과 :',input_a/input_b)\n"
      ],
      "execution_count": 49,
      "outputs": [
        {
          "output_type": "stream",
          "name": "stdout",
          "text": [
            "입력200\n",
            "입력100\n",
            "덧셈결과 : 300.0\n",
            "뺄셈결과 : 100.0\n",
            "곱셈결과 : 20000.0\n",
            "나눗셈셈결과 : 2.0\n"
          ]
        }
      ]
    },
    {
      "cell_type": "markdown",
      "metadata": {
        "id": "-7MgKWarXAVs"
      },
      "source": [
        "###page86"
      ]
    },
    {
      "cell_type": "code",
      "metadata": {
        "colab": {
          "base_uri": "https://localhost:8080/"
        },
        "id": "HhaiF8HdWwRH",
        "outputId": "4c8b98f2-3c70-428a-e5d0-6d2ac487d69a"
      },
      "source": [
        "output_a = str(52)\n",
        "output_b = str(32.12)\n",
        "\n",
        "print(type(output_a),output_a)\n",
        "print(type(output_b),output_b)"
      ],
      "execution_count": 51,
      "outputs": [
        {
          "output_type": "stream",
          "name": "stdout",
          "text": [
            "<class 'str'> 52\n",
            "<class 'str'> 32.12\n"
          ]
        }
      ]
    },
    {
      "cell_type": "markdown",
      "metadata": {
        "id": "fe-PvrN0Xc3m"
      },
      "source": [
        "###page93"
      ]
    },
    {
      "cell_type": "code",
      "metadata": {
        "colab": {
          "base_uri": "https://localhost:8080/"
        },
        "id": "UAvET03lXH2-",
        "outputId": "6d023415-c62c-4808-e105-f261ecfcf677"
      },
      "source": [
        "string_a = \"{}\".format(10)\n",
        "print(type(string_a))"
      ],
      "execution_count": 54,
      "outputs": [
        {
          "output_type": "stream",
          "name": "stdout",
          "text": [
            "<class 'str'>\n"
          ]
        }
      ]
    },
    {
      "cell_type": "markdown",
      "metadata": {
        "id": "ctWunMr6XvBr"
      },
      "source": [
        "###page94"
      ]
    },
    {
      "cell_type": "code",
      "metadata": {
        "colab": {
          "base_uri": "https://localhost:8080/"
        },
        "id": "0oTWlEyrXoT4",
        "outputId": "bd5b3773-de8e-404d-fb82-d358e030cea5"
      },
      "source": [
        "format_a = \"{}만 원\".format(5000)\n",
        "format_b = \"파이썬 열공하여 첫 연봉 {} 만들기\".format(5000)\n",
        "format_c = \"{}만원과 {}만원을 합하면?\".format(5000,3000)\n",
        "format_d = \"주사위 {},{},{} 나오면 지는거야\".format(1,2,3)\n",
        "\n",
        "print(type(format_a))\n",
        "print()\n",
        "print(type(format_b))\n",
        "print()\n",
        "print(type(format_c))\n",
        "print()\n",
        "print(type(format_d))"
      ],
      "execution_count": 68,
      "outputs": [
        {
          "output_type": "stream",
          "name": "stdout",
          "text": [
            "<class 'str'>\n",
            "\n",
            "<class 'str'>\n",
            "\n",
            "<class 'str'>\n",
            "\n",
            "<class 'str'>\n"
          ]
        }
      ]
    },
    {
      "cell_type": "markdown",
      "metadata": {
        "id": "jTVkJFEaZPTu"
      },
      "source": [
        "###page95"
      ]
    },
    {
      "cell_type": "code",
      "metadata": {
        "id": "V-ipaRYpYB1L"
      },
      "source": [
        "output_a = \"{:d}\".format(52)\n",
        "\n",
        "output_b = \"{:5d}\".format(33)\n",
        "output_c = \"{:10d}\".format(33)\n",
        "\n",
        "output_d = \"{:05d}\".format(32)\n",
        "output_e = \"{:05d}\".format(-32)"
      ],
      "execution_count": 71,
      "outputs": []
    },
    {
      "cell_type": "code",
      "metadata": {
        "colab": {
          "base_uri": "https://localhost:8080/"
        },
        "id": "7Sr2YBPZZ81I",
        "outputId": "c75ed83d-41ad-464b-fbea-ff61d662fed6"
      },
      "source": [
        "print(\"# 기본\")\n",
        "print(output_a)\n",
        "print(\"# 특정 칸에 출력하기\")\n",
        "print(output_b)\n",
        "print(output_c)\n",
        "print(\"# 빈칸을 0으로 다 채우기\")\n",
        "print(output_d)\n",
        "print(output_e)"
      ],
      "execution_count": 73,
      "outputs": [
        {
          "output_type": "stream",
          "name": "stdout",
          "text": [
            "# 기본\n",
            "52\n",
            "# 특정 칸에 출력하기\n",
            "   33\n",
            "        33\n",
            "# 빈칸을 0으로 다 채우기\n",
            "00032\n",
            "-0032\n"
          ]
        }
      ]
    },
    {
      "cell_type": "markdown",
      "metadata": {
        "id": "iZlVZvgkbMwE"
      },
      "source": [
        "###page96"
      ]
    },
    {
      "cell_type": "code",
      "metadata": {
        "id": "w6kmwNyfaILK"
      },
      "source": [
        "output_f = \"{:+d}\".format(52)\n",
        "output_g = \"{:+d}\".format(43)\n",
        "output_h = \"{: d}\".format(32)\n",
        "output_i = '{: d}'.format(21)"
      ],
      "execution_count": 74,
      "outputs": []
    },
    {
      "cell_type": "code",
      "metadata": {
        "colab": {
          "base_uri": "https://localhost:8080/"
        },
        "id": "RF-xqN8sbF9A",
        "outputId": "a9ad3a22-e597-4137-a608-bb1ebf2abd96"
      },
      "source": [
        "print(output_f)\n",
        "print(output_g)\n",
        "print(output_h)\n",
        "print(output_i)"
      ],
      "execution_count": 77,
      "outputs": [
        {
          "output_type": "stream",
          "name": "stdout",
          "text": [
            "+52\n",
            "+43\n",
            " 32\n",
            " 21\n"
          ]
        }
      ]
    },
    {
      "cell_type": "markdown",
      "metadata": {
        "id": "n78_IGVMba7-"
      },
      "source": [
        "###page97"
      ]
    },
    {
      "cell_type": "code",
      "metadata": {
        "colab": {
          "base_uri": "https://localhost:8080/"
        },
        "id": "r4V-wTYZbIzl",
        "outputId": "c8658454-e644-44d8-a83d-ba28447274b9"
      },
      "source": [
        "output_h = \"{:+5d}\".format(52)\n",
        "output_i = \"{:-5d}\".format(-52)\n",
        "output_j = \"{:=+5d}\".format(52)\n",
        "output_k = \"{:=-5d}\".format(52)\n",
        "output_l = \"{:+05d}\".format(52)\n",
        "output_m = \"{:+05d}\".format(52)\n",
        "\n",
        "print(\"# 조합하기\")\n",
        "print(output_h)\n",
        "print(output_i)\n",
        "print(output_j)\n",
        "print(output_k)\n",
        "print(output_l)\n",
        "print(output_m)"
      ],
      "execution_count": 78,
      "outputs": [
        {
          "output_type": "stream",
          "name": "stdout",
          "text": [
            "# 조합하기\n",
            "  +52\n",
            "  -52\n",
            "+  52\n",
            "   52\n",
            "+0052\n",
            "+0052\n"
          ]
        }
      ]
    },
    {
      "cell_type": "markdown",
      "metadata": {
        "id": "hkKE4apScU-0"
      },
      "source": [
        "###page98"
      ]
    },
    {
      "cell_type": "code",
      "metadata": {
        "colab": {
          "base_uri": "https://localhost:8080/"
        },
        "id": "ox_JqVWNb9yl",
        "outputId": "afd4f6cc-dce8-4336-9615-9d7eed93b1e2"
      },
      "source": [
        "output_a = '{:f}'.format(50.62)\n",
        "output_b = '{:15f}'.format(52.62)\n",
        "output_c = '{:+15f}'.format(52.62)\n",
        "output_d = '{:+015f}'.format(52.62)\n",
        "\n",
        "print(output_a)\n",
        "print(output_b)\n",
        "print(output_c)\n",
        "print(output_d)"
      ],
      "execution_count": 81,
      "outputs": [
        {
          "output_type": "stream",
          "name": "stdout",
          "text": [
            "50.620000\n",
            "      52.620000\n",
            "     +52.620000\n",
            "+0000052.620000\n"
          ]
        }
      ]
    },
    {
      "cell_type": "code",
      "metadata": {
        "colab": {
          "base_uri": "https://localhost:8080/"
        },
        "id": "Gca8jVCcdBge",
        "outputId": "fd828909-d25c-4af9-d2e5-bd18c366af56"
      },
      "source": [
        "output_a = \"{:15.3f}\".format(52.62)\n",
        "output_b = \"{:15.2f}\".format(52.62)\n",
        "output_c = \"{:15.1f}\".format(52.62)\n",
        "\n",
        "print(output_a)\n",
        "print(output_b)\n",
        "print(output_c)"
      ],
      "execution_count": 83,
      "outputs": [
        {
          "output_type": "stream",
          "name": "stdout",
          "text": [
            "         52.620\n",
            "          52.62\n",
            "           52.6\n"
          ]
        }
      ]
    },
    {
      "cell_type": "markdown",
      "metadata": {
        "id": "Q7JTt-yvctqf"
      },
      "source": [
        ""
      ]
    },
    {
      "cell_type": "markdown",
      "metadata": {
        "id": "MGt7OIB_gfO4"
      },
      "source": [
        "###page99"
      ]
    },
    {
      "cell_type": "code",
      "metadata": {
        "colab": {
          "base_uri": "https://localhost:8080/"
        },
        "id": "Q7SsdT80eKDa",
        "outputId": "8a38681d-ca0c-48e6-9235-715e60fc51a2"
      },
      "source": [
        "output_a = 52.0\n",
        "output_b = \"{:g}\".format(output_a)\n",
        "print(output_a)\n",
        "print(output_b)"
      ],
      "execution_count": 85,
      "outputs": [
        {
          "output_type": "stream",
          "name": "stdout",
          "text": [
            "52.0\n",
            "52\n"
          ]
        }
      ]
    },
    {
      "cell_type": "code",
      "metadata": {
        "colab": {
          "base_uri": "https://localhost:8080/"
        },
        "id": "A4osep3lejVW",
        "outputId": "2c0c29ca-ace2-4c45-cea4-2197791f59b3"
      },
      "source": [
        "a = \"Hello World\"\n",
        "print(a.upper())\n",
        "print(a.lower())"
      ],
      "execution_count": 88,
      "outputs": [
        {
          "output_type": "stream",
          "name": "stdout",
          "text": [
            "HELLO WORLD\n",
            "hello world\n"
          ]
        }
      ]
    },
    {
      "cell_type": "markdown",
      "metadata": {
        "id": "HMgWVQazgix2"
      },
      "source": [
        "###page100"
      ]
    },
    {
      "cell_type": "code",
      "metadata": {
        "colab": {
          "base_uri": "https://localhost:8080/"
        },
        "id": "Xe68qr0-eqXi",
        "outputId": "49909dba-803b-43bb-d79d-b0165aceb9f1"
      },
      "source": [
        "input_a = \"\"\"\n",
        "    안녕하세요\n",
        "문자열 함수를 알아봅시다\n",
        "\"\"\"\n",
        "print(input_a)\n",
        "print(input_a.strip())"
      ],
      "execution_count": 90,
      "outputs": [
        {
          "output_type": "stream",
          "name": "stdout",
          "text": [
            "\n",
            "    안녕하세요\n",
            "문자열 함수를 알아봅시다\n",
            "\n",
            "안녕하세요\n",
            "문자열 함수를 알아봅시다\n"
          ]
        }
      ]
    },
    {
      "cell_type": "markdown",
      "metadata": {
        "id": "1BeAxtd6gk8k"
      },
      "source": [
        "###page101"
      ]
    },
    {
      "cell_type": "code",
      "metadata": {
        "colab": {
          "base_uri": "https://localhost:8080/"
        },
        "id": "oi2jMFqufseZ",
        "outputId": "0bf69dab-f43f-4618-d62b-25f9c559adc8"
      },
      "source": [
        "print(\"TrainA10\".isalnum())"
      ],
      "execution_count": 91,
      "outputs": [
        {
          "output_type": "stream",
          "name": "stdout",
          "text": [
            "True\n"
          ]
        }
      ]
    },
    {
      "cell_type": "code",
      "metadata": {
        "colab": {
          "base_uri": "https://localhost:8080/"
        },
        "id": "2ODbZDDXgSsD",
        "outputId": "ff01bf3f-2f15-4e14-e30a-ad40cf64cc53"
      },
      "source": [
        "print(\"10\".isdigit())"
      ],
      "execution_count": 92,
      "outputs": [
        {
          "output_type": "stream",
          "name": "stdout",
          "text": [
            "True\n"
          ]
        }
      ]
    },
    {
      "cell_type": "markdown",
      "metadata": {
        "id": "TididV9kgnxM"
      },
      "source": [
        "###page102"
      ]
    },
    {
      "cell_type": "code",
      "metadata": {
        "colab": {
          "base_uri": "https://localhost:8080/"
        },
        "id": "LtTEMdMsgWHp",
        "outputId": "a5ca67b6-2e09-4316-f147-d4678389def8"
      },
      "source": [
        "a = \"10 20 30 40 50 60\".split(\" \")\n",
        "print(a)"
      ],
      "execution_count": 94,
      "outputs": [
        {
          "output_type": "stream",
          "name": "stdout",
          "text": [
            "['10', '20', '30', '40', '50', '60']\n"
          ]
        }
      ]
    },
    {
      "cell_type": "code",
      "metadata": {
        "id": "IdhV0zoyg7JG"
      },
      "source": [
        ""
      ],
      "execution_count": null,
      "outputs": []
    }
  ]
}